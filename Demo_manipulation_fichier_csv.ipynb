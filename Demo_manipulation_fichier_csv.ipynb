{
  "nbformat": 4,
  "nbformat_minor": 0,
  "metadata": {
    "colab": {
      "provenance": []
    },
    "kernelspec": {
      "name": "python3",
      "display_name": "Python 3"
    },
    "language_info": {
      "name": "python"
    }
  },
  "cells": [
    {
      "cell_type": "markdown",
      "source": [
        "# TP Python Master IBM/RPM\n",
        "## 1ère partie : introduction au langage Python\n",
        "Février 2025\n",
        "\n",
        "### Albertine Dubois - <span class=\"glyphicon glyphicon-envelope\"></span> albertine.dubois@cea.fr et Marion Savanier - <span class=\"glyphicon glyphicon-envelope\"></span> marion.savanier@universite-paris-saclay.fr"
      ],
      "metadata": {
        "id": "bCOf7KEaE04s"
      }
    },
    {
      "cell_type": "markdown",
      "source": [
        "Découvrir comment manipuler des fichiers csv avec la librairie [pandas](https://pandas.pydata.org/docs/index.html)"
      ],
      "metadata": {
        "id": "ke6hgOOeFT3h"
      }
    },
    {
      "cell_type": "markdown",
      "source": [
        "# Breast cancer detection data set\n",
        "\n",
        "## Why Pandas?\n",
        "\n",
        "* Pandas is one of the most powerful libraries for anything related with data science\n",
        "* Provides fast, flexible, easy and intuitive data manipulation of data frames\n",
        "* Allows to work with big data sets and/or multiple files at once\n",
        "\n",
        "## About Pandas\n",
        "* `pandas` runs on top of `numpy`\n",
        "* Provides high-level data structure (Data Frames): They look like spreadsheets\n",
        "* Contains built-in functions to clean, group, merge, and concatenate tabular data\n",
        "* Easy to apply `numpy` and `scipy` functions on tabular data\n",
        "\n",
        "## Data description\n",
        "source: https://archive.ics.uci.edu/ml/datasets/Breast+Cancer+Wisconsin+%28Diagnostic%29\n",
        "\n",
        "Make sure you have the excel file in the rigth directory and start experimenting. Run the cells as they are first and then start implementing your own changes. The data comprises features from a digitized image of a fine needle aspirate (FNA) of a breast mass. They describe characteristics of the cell nuclei present in the image in the 3-dimensional space. There is no need to fully understand where the variables come from or their units, the important here is to explore what you can do with Pandas and understand how easy it is to apply these tools to any kind of data set. Hopefully this will motivate you to get one of your own data sets and start experimenting."
      ],
      "metadata": {
        "id": "dOgoh_bBh4LT"
      }
    },
    {
      "cell_type": "code",
      "source": [
        "!git clone https://github.com/marsvn/PythonM2-jour1.git"
      ],
      "metadata": {
        "id": "UYgeFjsMu3Zm"
      },
      "execution_count": null,
      "outputs": []
    },
    {
      "cell_type": "code",
      "source": [
        "import pandas as pd\n",
        "import numpy as np\n",
        "import matplotlib.pyplot as plt"
      ],
      "metadata": {
        "id": "DZQMBDlTxphF"
      },
      "execution_count": null,
      "outputs": []
    },
    {
      "cell_type": "code",
      "source": [
        "# load the data setting the path_to_file/filename and the type of separator (sep)\n",
        "# attribute the output of the function (our table) to a variable (breast_cancer_data)\n",
        "breast_cancer_data = pd.read_csv('/content/PythonM2-jour1/data/breast_cancer_diagnostic_data.csv', sep = ',')\n",
        "breast_cancer_data"
      ],
      "metadata": {
        "id": "fvWvcVG5_YPE"
      },
      "execution_count": null,
      "outputs": []
    },
    {
      "cell_type": "code",
      "source": [
        "# to skip (100) rows\n",
        "pd.read_csv('/content/PythonM2-jour1/data/breast_cancer_diagnostic_data.csv', sep = ',', skiprows = 100)\n",
        "\n",
        "# if the dataset has no header\n",
        "pd.read_csv('/content/PythonM2-jour1/data/breast_cancer_diagnostic_data.csv', header = None)\n",
        "\n",
        "# if we want to change the index column\n",
        "pd.read_csv('/content/PythonM2-jour1/data/breast_cancer_diagnostic_data.csv', sep = ',', index_col = 'radius_mean')"
      ],
      "metadata": {
        "id": "07bvfEf9_Yuh"
      },
      "execution_count": null,
      "outputs": []
    },
    {
      "cell_type": "code",
      "source": [
        "# checking the data header (output: list with all column names)\n",
        "breast_cancer_data.columns"
      ],
      "metadata": {
        "id": "z96u8FJl_qeE"
      },
      "execution_count": null,
      "outputs": []
    },
    {
      "cell_type": "code",
      "source": [
        "# checking first n elements of the table (output: list with first n lines)\n",
        "breast_cancer_data.head(5)"
      ],
      "metadata": {
        "id": "TF9Pj26P_qga"
      },
      "execution_count": null,
      "outputs": []
    },
    {
      "cell_type": "code",
      "source": [
        "# checking last n elements of the table (output: list with last n lines)\n",
        "breast_cancer_data.tail(5)"
      ],
      "metadata": {
        "id": "3lel4HGVPdwT"
      },
      "execution_count": null,
      "outputs": []
    },
    {
      "cell_type": "code",
      "source": [
        "# check the dimensions of our dataset (output: number of rows, number of columns)\n",
        "breast_cancer_data.shape"
      ],
      "metadata": {
        "id": "wxLAu1FdPz4d"
      },
      "execution_count": null,
      "outputs": []
    },
    {
      "cell_type": "code",
      "source": [
        "# check a given column (output: list/array containg column values for all rows)\n",
        "breast_cancer_data['area_mean']"
      ],
      "metadata": {
        "id": "wUZnrgbXP2K-"
      },
      "execution_count": null,
      "outputs": []
    },
    {
      "cell_type": "code",
      "source": [
        "# create a subset of the data (output: a subtable containing selected columns)\n",
        "breast_cancer_data[['area_mean', 'perimeter_mean', 'texture_mean']]"
      ],
      "metadata": {
        "id": "SZmnZV6yP5Od"
      },
      "execution_count": null,
      "outputs": []
    },
    {
      "cell_type": "code",
      "source": [
        "# check the information of a given patient (output: select row number 100)\n",
        "breast_cancer_data.iloc[100]"
      ],
      "metadata": {
        "id": "UohUx8jMP71_"
      },
      "execution_count": null,
      "outputs": []
    },
    {
      "cell_type": "code",
      "source": [
        "# get a slice of the table (output: a subtable containing selected rows)\n",
        "breast_cancer_data.iloc[9:90]"
      ],
      "metadata": {
        "id": "zwwJDcO6P8Xo"
      },
      "execution_count": null,
      "outputs": []
    },
    {
      "cell_type": "code",
      "source": [
        "# drop columns from the table (output: table without selected column)\n",
        "# axis = 1 tells the function to apply the operation to the column\n",
        "breast_cancer_data.drop('compactness_mean', axis = 1)"
      ],
      "metadata": {
        "id": "rScNTzqvQCiF"
      },
      "execution_count": null,
      "outputs": []
    },
    {
      "cell_type": "code",
      "source": [
        "# drop lins from the table by index (output: table without row 5)\n",
        "# axis = 0 tells the function to apply the operation to the rows\n",
        "breast_cancer_data.drop(5, axis = 0)"
      ],
      "metadata": {
        "id": "z7Gg09wnQNGW"
      },
      "execution_count": null,
      "outputs": []
    },
    {
      "cell_type": "code",
      "source": [
        "# drop several lines (5-100) from the table by index\n",
        "# axis = 0 tells the function to apply the operation to the rows\n",
        "breast_cancer_data.drop(range(5,100), axis = 0)"
      ],
      "metadata": {
        "id": "7PloQwJvQPOs"
      },
      "execution_count": null,
      "outputs": []
    },
    {
      "cell_type": "code",
      "source": [
        "# select slices of lines and columns simultaneously by their index\n",
        "# left side of the comma concerns row indexes (slice lines 50 to 100)\n",
        "# rigth side of the comma concerns column indexes (slice col 5 to 10)\n",
        "breast_cancer_data.iloc[50:100, 5:10]"
      ],
      "metadata": {
        "id": "e1rBlbHFQSWE"
      },
      "execution_count": null,
      "outputs": []
    },
    {
      "cell_type": "code",
      "source": [
        "# for a table with only the first 100 lines and the first 3 columns\n",
        "# we can omit the zero (first element)\n",
        "breast_cancer_data.iloc[:100, :3]"
      ],
      "metadata": {
        "id": "UqdWHc35QU38"
      },
      "execution_count": null,
      "outputs": []
    },
    {
      "cell_type": "code",
      "source": [
        "# by extension, to select the first element of the first column\n",
        "breast_cancer_data.iloc[0,0]"
      ],
      "metadata": {
        "id": "07zH0OcQQXNF"
      },
      "execution_count": null,
      "outputs": []
    },
    {
      "cell_type": "code",
      "source": [
        "# to drop columns containing missing values (Nan)\n",
        "breast_cancer_data.dropna(axis = 1)"
      ],
      "metadata": {
        "id": "CkdAGWnnQZr8"
      },
      "execution_count": null,
      "outputs": []
    },
    {
      "cell_type": "code",
      "source": [
        "# to drop lines containing missing values (Nan)\n",
        "# (there is no lines containing missing values here)\n",
        "breast_cancer_data.dropna(axis = 0)"
      ],
      "metadata": {
        "id": "o772hBYQQdn2"
      },
      "execution_count": null,
      "outputs": []
    },
    {
      "cell_type": "code",
      "source": [
        "# create a subtable containing all the rows and the first 7 columns\n",
        "breast_cancer_data_subset = breast_cancer_data.iloc[:, :8]\n",
        "\n",
        "# we discard the columns containing patient id (we don't need here)\n",
        "breast_cancer_data_subset.drop('id', axis = 1, inplace = True)\n",
        "\n",
        "# we rename the columns with better/shorter names\n",
        "# we do this by passing a new list of names\n",
        "breast_cancer_data_subset.columns = ['diagnosis', 'radius', 'texture', 'perimeter','area', 'smoothness', 'compactness']\n",
        "\n",
        "# tables can be saved using .to_csv function\n",
        "# several parameters can be used to control the shape of the table\n",
        "breast_cancer_data_subset.to_csv('/content/my_new_table.txt', sep = '\\t', index = False)\n",
        "\n",
        "# and we have our new table\n",
        "breast_cancer_data_subset"
      ],
      "metadata": {
        "id": "gYsZxIa9_qih"
      },
      "execution_count": null,
      "outputs": []
    },
    {
      "cell_type": "code",
      "source": [
        "breast_cancer_data_subset.describe()"
      ],
      "metadata": {
        "id": "_G6LVZ8pQklo"
      },
      "execution_count": null,
      "outputs": []
    },
    {
      "cell_type": "code",
      "source": [
        "breast_cancer_data_subset.corr(numeric_only=True)"
      ],
      "metadata": {
        "id": "ATESHz8jQoHq"
      },
      "execution_count": null,
      "outputs": []
    },
    {
      "cell_type": "code",
      "source": [
        "# check the mean of a given column\n",
        "breast_cancer_data_subset['radius'].mean()"
      ],
      "metadata": {
        "id": "WdxC83WeRGg5"
      },
      "execution_count": null,
      "outputs": []
    },
    {
      "cell_type": "code",
      "source": [
        "# check the standard deviation of a given column\n",
        "breast_cancer_data_subset['radius'].std()"
      ],
      "metadata": {
        "id": "HVmEwcppRIhV"
      },
      "execution_count": null,
      "outputs": []
    },
    {
      "cell_type": "code",
      "source": [
        "# check the maximum or the minimum value of a given column\n",
        "breast_cancer_data_subset['radius'].max(), breast_cancer_data_subset['radius'].min()"
      ],
      "metadata": {
        "id": "9FLXiVuLRKlt"
      },
      "execution_count": null,
      "outputs": []
    },
    {
      "cell_type": "code",
      "source": [
        "# count number of elements of a given column\n",
        "breast_cancer_data_subset['radius'].count()"
      ],
      "metadata": {
        "id": "HgOBS5hARM5O"
      },
      "execution_count": null,
      "outputs": []
    },
    {
      "cell_type": "code",
      "source": [
        "# sum all values in a given column\n",
        "breast_cancer_data_subset['radius'].sum()"
      ],
      "metadata": {
        "id": "bZ5SHj2CRPQO"
      },
      "execution_count": null,
      "outputs": []
    },
    {
      "cell_type": "code",
      "source": [
        "# check the mean value of each column on the table\n",
        "breast_cancer_data_subset.mean(numeric_only=True)"
      ],
      "metadata": {
        "id": "L71EoYXERRgb"
      },
      "execution_count": null,
      "outputs": []
    },
    {
      "cell_type": "code",
      "source": [
        "# these operations can also be applied to slices of data at once\n",
        "# e.g sum the radius, perimeter and area of the tumor of each patient\n",
        "breast_cancer_data_subset[['radius','perimeter','area']].sum(axis = 1)"
      ],
      "metadata": {
        "id": "dr_E6hXGRWbT"
      },
      "execution_count": null,
      "outputs": []
    },
    {
      "cell_type": "code",
      "source": [
        "# if we define this as a new parameter (dummy_col)\n",
        "dummy_col = breast_cancer_data_subset[['radius','perimeter','area']].sum(axis = 1)\n",
        "\n",
        "# we can add it to our table using the assign function\n",
        "# sets the column name (string) and the variable that goes with it\n",
        "breast_cancer_data_subset.assign(new_col = dummy_col)"
      ],
      "metadata": {
        "id": "gRVl5EqFRaYi"
      },
      "execution_count": null,
      "outputs": []
    },
    {
      "cell_type": "code",
      "source": [
        "# to replace values by other values dynamically we can use replace function\n",
        "# to replace 'M' and 'B' by the full word 'Malign' and 'Benign', respectively:\n",
        "breast_cancer_data_subset['diagnosis'] = breast_cancer_data_subset['diagnosis'].replace(to_replace = ['M','B'], value = ['Malign','Benign'])\n",
        "breast_cancer_data_subset"
      ],
      "metadata": {
        "id": "YCjCl_KIRfWP"
      },
      "execution_count": null,
      "outputs": []
    },
    {
      "cell_type": "code",
      "source": [
        "# to answer the question \"how many patients had a positive test result?\"\n",
        "# we use the value_counts() function: counts unique values in categorical variables\n",
        "breast_cancer_data_subset['diagnosis'].value_counts()"
      ],
      "metadata": {
        "id": "mINekE1rRyO0"
      },
      "execution_count": null,
      "outputs": []
    },
    {
      "cell_type": "code",
      "source": [
        "# to sort our table according to a specific column we use sort_values()\n",
        "breast_cancer_data_subset.sort_values(by = 'area', ascending = False)"
      ],
      "metadata": {
        "id": "Q_sXkncWSG-7"
      },
      "execution_count": null,
      "outputs": []
    },
    {
      "cell_type": "code",
      "source": [
        "# to build a scatter plot with to variables\n",
        "breast_cancer_data_subset.plot(kind = 'scatter', x = 'radius', y = 'texture');"
      ],
      "metadata": {
        "id": "z2koVeDZ_qkb"
      },
      "execution_count": null,
      "outputs": []
    },
    {
      "cell_type": "code",
      "source": [
        "# by default pandas plots already look quite nice\n",
        "# exploring the parameters we can create something even more fancy\n",
        "breast_cancer_data_subset.plot(kind = 'scatter', x = 'radius', y = 'texture',  figsize = (6,5), alpha = 0.6,\n",
        "                               color = 'blue', s = 80, edgecolor = 'w', label = 'Malign', grid = False)"
      ],
      "metadata": {
        "id": "hFo21lDqAHaP"
      },
      "execution_count": null,
      "outputs": []
    },
    {
      "cell_type": "code",
      "source": [
        "# following the same rationale we can create a histogram for a given parameter\n",
        "breast_cancer_data_subset.plot(kind = 'hist', y = 'radius', bins = 10,\n",
        "                              color = 'lightblue', edgecolor = 'black', width = 1.5);"
      ],
      "metadata": {
        "id": "VN-iGdabSP1e"
      },
      "execution_count": null,
      "outputs": []
    },
    {
      "cell_type": "code",
      "source": [
        "# we can also just select the column we want to plot\n",
        "breast_cancer_data_subset['radius'].plot(kind = 'hist', edgecolor = 'black', width = 1.5)"
      ],
      "metadata": {
        "id": "3wNC1uvYSR8c"
      },
      "execution_count": null,
      "outputs": []
    },
    {
      "cell_type": "code",
      "source": [
        "# and even plot mutiple histograms at once\n",
        "breast_cancer_data_subset[['radius','texture']].plot(kind = 'hist', bins = 15, alpha = 0.8, width = 1.8,\n",
        "                                                     color = ['lightblue','orange'], edgecolor = 'black');"
      ],
      "metadata": {
        "id": "lxuTXyz2SSFm"
      },
      "execution_count": null,
      "outputs": []
    },
    {
      "cell_type": "code",
      "source": [
        "# we can also combine plot with the previous functions\n",
        "# for instace, value_counts() with a barplot to visualize number of benign and malign cancers\n",
        "breast_cancer_data_subset['diagnosis'].value_counts(normalize = True).plot(kind = 'bar', color = 'lightblue',\n",
        "                                                                fontsize = 12, width = 0.5, edgecolor = 'blue', rot = 0)"
      ],
      "metadata": {
        "id": "pIMpz3KtSSJl"
      },
      "execution_count": null,
      "outputs": []
    },
    {
      "cell_type": "code",
      "source": [
        "# by convention\n",
        "import seaborn as sns"
      ],
      "metadata": {
        "id": "6QHpKq9ASSNO"
      },
      "execution_count": null,
      "outputs": []
    },
    {
      "cell_type": "code",
      "source": [
        "# the correlation matrix that we created before\n",
        "corr_table = breast_cancer_data_subset.corr(numeric_only=True)\n",
        "\n",
        "# can be transformed into a heatmap with searborn's heatmap functon\n",
        "sns.heatmap(corr_table)"
      ],
      "metadata": {
        "id": "AwPmKSe2SSRU"
      },
      "execution_count": null,
      "outputs": []
    },
    {
      "cell_type": "code",
      "source": [
        "# as for pandas, you can shape the design with a few parameters\n",
        "sns.heatmap(breast_cancer_data_subset.corr(numeric_only=True), cmap = 'Blues', linewidth = 0.1)"
      ],
      "metadata": {
        "id": "qz-Lt7GVSSUc"
      },
      "execution_count": null,
      "outputs": []
    },
    {
      "cell_type": "code",
      "source": [
        "# we can also plot a pairwise combination beween every two parameters\n",
        "# using the pairplot function directly on our table\n",
        "sns.pairplot(breast_cancer_data_subset)"
      ],
      "metadata": {
        "id": "Ui9HeEVnSSW2"
      },
      "execution_count": null,
      "outputs": []
    },
    {
      "cell_type": "code",
      "source": [
        "# once again, only numerical data is shown\n",
        "# but columns containing categorical data (diagnosis in our data)\n",
        "# can be used as a parameter to group data into classes\n",
        "sns.pairplot(breast_cancer_data_subset, hue = 'diagnosis')"
      ],
      "metadata": {
        "id": "O4hd7s_bSjKu"
      },
      "execution_count": null,
      "outputs": []
    },
    {
      "cell_type": "code",
      "source": [
        "# to create a simple boxplot with seaborn\n",
        "# by default they already look super good\n",
        "sns.boxplot(y = 'area', x = 'diagnosis', data = breast_cancer_data_subset,\n",
        "            hue='diagnosis',palette = ['tomato','lightgreen'], width = 0.5)\n",
        "\n",
        "# we can also add a striplot to make it more informative\n",
        "sns.stripplot(y = 'area', x = 'diagnosis', data = breast_cancer_data_subset,\n",
        "                 hue='diagnosis',palette = ['tomato','lightgreen'])"
      ],
      "metadata": {
        "id": "WM8rBuo0Snil"
      },
      "execution_count": null,
      "outputs": []
    },
    {
      "cell_type": "code",
      "source": [
        "# and explore the function parameters to make more appealing\n",
        "sns.boxplot(y = 'area', x = 'diagnosis', data = breast_cancer_data_subset,\n",
        "            hue='diagnosis',palette = ['tomato','lightgreen'], width = 0.5)\n",
        "\n",
        "sns.stripplot(y = 'area', x = 'diagnosis', data = breast_cancer_data_subset,\n",
        "              color = 'black', alpha = 0.6, size = 4, edgecolor = 'w', linewidth = 0.5)"
      ],
      "metadata": {
        "id": "irxm3uxRSp7-"
      },
      "execution_count": null,
      "outputs": []
    }
  ]
}