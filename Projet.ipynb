{
  "nbformat": 4,
  "nbformat_minor": 0,
  "metadata": {
    "colab": {
      "provenance": []
    },
    "kernelspec": {
      "name": "python3",
      "display_name": "Python 3"
    },
    "language_info": {
      "name": "python"
    }
  },
  "cells": [
    {
      "cell_type": "markdown",
      "source": [
        "# TP Python Master IBM/RPM\n",
        "## 1ère partie : introduction au langage Python\n",
        "Février 2025\n",
        "\n",
        "### Albertine Dubois - <span class=\"glyphicon glyphicon-envelope\"></span> albertine.dubois@cea.fr et Marion Savanier - <span class=\"glyphicon glyphicon-envelope\"></span> marion.savanier@universite-paris-saclay.fr\n"
      ],
      "metadata": {
        "id": "j1SA1rfwF-vE"
      }
    },
    {
      "cell_type": "markdown",
      "metadata": {
        "id": "yCmaaBIt6G2D"
      },
      "source": [
        "#Projet"
      ]
    },
    {
      "cell_type": "markdown",
      "metadata": {
        "id": "O51qjV_H6G2D"
      },
      "source": [
        "Lors d'un protocole expérimental, dans le but de faire de la caractérisation tissulaire, nous avons fait des acquisitions sur un fantôme contenant $7$ tubes avec des $T2$ différents.\n",
        "\n",
        "Nous avons acquis $6$ points de mesure en faisant varier le temps d'écho $TE$ de la séquence ($7\\ ms$, $10\\ ms$, $30\\ ms$, $60\\ ms$, $120\\ ms$, $200\\ ms$), le $TR$ utilisé est suffisamment long pour permettre la repousse complète en $T1$.\n",
        "\n",
        "Vous souhaitez à présent traiter vos acquisitions. Le but de cet exercice est d&#39;estimer les $T2$ de chaque tube."
      ]
    },
    {
      "cell_type": "code",
      "source": [
        "!git clone https://github.com/marsvn/PythonM2-jour1.git"
      ],
      "metadata": {
        "id": "mAnUj7KkuimE"
      },
      "execution_count": null,
      "outputs": []
    },
    {
      "cell_type": "markdown",
      "metadata": {
        "id": "abU-1tOf6G2D"
      },
      "source": [
        "**Question 1.** Charger en utilisant la librairie SimpleITK les 6 fichiers image (S_TE_xxms.nii) correspondant aux 6 points de mesure et les concaténer pour avoir une matrice 3D : les deux premières dimensions correspondant aux dimensions de l'image et la troisième aux différentes valeurs de $TE$"
      ]
    },
    {
      "cell_type": "code",
      "execution_count": null,
      "metadata": {
        "id": "A4xDacyH6G2D"
      },
      "outputs": [],
      "source": [
        "import os\n",
        "import numpy as np\n",
        "import matplotlib.pyplot as plt\n",
        "import SimpleITK as sitk\n",
        "PWD_DIR = os.getcwd()"
      ]
    },
    {
      "cell_type": "code",
      "execution_count": null,
      "metadata": {
        "id": "4bgMa2BG6G2D"
      },
      "outputs": [],
      "source": [
        "S1 = sitk.GetArrayFromImage(sitk.ReadImage(\"...\"))\n",
        "...\n",
        "Stot = np.dstack(...)\n",
        "print(Stot.shape)"
      ]
    },
    {
      "cell_type": "code",
      "execution_count": null,
      "metadata": {
        "id": "yFOhpm8Z6G2E"
      },
      "outputs": [],
      "source": [
        "legends = ['TE=7 ms','TE=10 ms','TE=30 ms','TE=60 ms','TE=120 ms','TE=200 ms']\n",
        "fig = plt.figure(figsize=(13,7))\n",
        "fig.subplots_adjust(wspace=0.3, hspace=0.1)\n",
        "for i in range(Stot.shape[2]):\n",
        "    ax = fig.add_subplot(2,3,i+1)\n",
        "    im = ax.imshow(...,cmap='gray')\n",
        "    fig.colorbar(im,shrink=0.8)\n",
        "    ax.set_title(legends[i], fontsize=14)"
      ]
    },
    {
      "cell_type": "markdown",
      "metadata": {
        "id": "zuaIfCYw6G2E"
      },
      "source": [
        "**Question 2.** Créer un vecteur `xdata` contenant les différents temps d&#39;écho"
      ]
    },
    {
      "cell_type": "code",
      "execution_count": null,
      "metadata": {
        "id": "TOWKPbZQ6G2E"
      },
      "outputs": [],
      "source": [
        "xdata = np.array([...])"
      ]
    },
    {
      "cell_type": "markdown",
      "metadata": {
        "id": "vmQnhLOd6G2E"
      },
      "source": [
        "**Question 3.** Ecrire la fonction de décroissance du signal $S(TE)=S_0\\times exp(-t\\times R2)$ avec $R2=\\frac{1}{T2}$"
      ]
    },
    {
      "cell_type": "code",
      "execution_count": null,
      "metadata": {
        "id": "sUpWL1aj6G2E"
      },
      "outputs": [],
      "source": [
        "from scipy import optimize\n",
        "import time\n",
        "\n",
        "x0 = np.array([0,0])\n",
        "\n",
        "def model(x, u):\n",
        "    return ...\n",
        "\n",
        "def fun(x, u, y):\n",
        "    return ..."
      ]
    },
    {
      "cell_type": "markdown",
      "metadata": {
        "id": "5MUFFf0Q6G2E"
      },
      "source": [
        "**Question 4.** Nous avons choisi de faire une approximation non-linéaire avec la fonction [least_squares](https://docs.scipy.org/doc/scipy/reference/generated/scipy.optimize.least_squares.html) du module `optimize` de Scipy. Tester le traitement sur quelques pixels pour estimer le temps de calcul"
      ]
    },
    {
      "cell_type": "code",
      "execution_count": null,
      "metadata": {
        "id": "ZnW28GH96G2E"
      },
      "outputs": [],
      "source": [
        "T2_est1 = np.zeros((512,512))\n",
        "S0_est1 = np.zeros((512,512))\n",
        "\n",
        "#bounds=([0,0],[100,1])\n",
        "\n",
        "t = time.time()\n",
        "\n",
        "for i in range(512):\n",
        "    for j in range(512):\n",
        "        ydata = Stot[i,j,:].squeeze()\n",
        "        #params, params_covariance = optimize.leastsq(fun, x0, ftol=1e-6, xtol=1e-6, args=(xdata, ydata))\n",
        "        params = optimize.least_squares(...)\n",
        "        T2_est1[i,j] = ...\n",
        "        S0_est1[i,j] = ...\n",
        "\n",
        "elapsed = time.time() - t\n",
        "print(\"Elapsed time is\", elapsed, \"seconds\")"
      ]
    },
    {
      "cell_type": "code",
      "execution_count": null,
      "metadata": {
        "id": "2uwzS8mQ6G2E"
      },
      "outputs": [],
      "source": [
        "plt.subplots(1,2,figsize=(8,6))\n",
        "plt.subplot(121)\n",
        "plt.imshow(T2_est1)\n",
        "plt.title('T2')\n",
        "plt.subplot(122)\n",
        "plt.imshow(S0_est1)\n",
        "plt.title('S0')\n",
        "output_file_name = '/content/PythonM2-jour1/output/test1.nii'\n",
        "sitk.WriteImage(sitk.GetImageFromArray(T2_est1),output_file_name)"
      ]
    },
    {
      "cell_type": "markdown",
      "metadata": {
        "id": "XSYbay936G2E"
      },
      "source": [
        "**Question 5.** Créer un masque sur les tubes"
      ]
    },
    {
      "cell_type": "code",
      "execution_count": null,
      "metadata": {
        "id": "KGsBXnUa6G2F"
      },
      "outputs": [],
      "source": [
        "mask = S1 > ...\n",
        "plt.imshow(mask,cmap='gray')"
      ]
    },
    {
      "cell_type": "markdown",
      "metadata": {
        "id": "-crkVwQE6G2F"
      },
      "source": [
        "**Question 6.** Utiliser ce masque pour ajouter un test avant de d'exécuter la fonction `least_squares` et estimer le temps de calcul."
      ]
    },
    {
      "cell_type": "code",
      "execution_count": null,
      "metadata": {
        "id": "Tml4fZao6G2F"
      },
      "outputs": [],
      "source": [
        "T2_est2 = np.zeros((512,512))\n",
        "S0_est2 = np.zeros((512,512))\n",
        "\n",
        "..."
      ]
    },
    {
      "cell_type": "code",
      "execution_count": null,
      "metadata": {
        "id": "d6PobPdT6G2F"
      },
      "outputs": [],
      "source": [
        "plt.subplots(1,2,figsize=(10,6))\n",
        "plt.subplot(121)\n",
        "plt.imshow(T2_est2)\n",
        "plt.colorbar(shrink=0.6)\n",
        "plt.title('T2')\n",
        "plt.subplot(122)\n",
        "plt.imshow(S0_est2,vmin=0,vmax=1.6)\n",
        "plt.colorbar(shrink=0.6)\n",
        "plt.title('S0')\n",
        "output_file_name = '/content/PythonM2-jour1/output/test2.nii'\n",
        "sitk.WriteImage(sitk.GetImageFromArray(S0_est2),output_file_name)"
      ]
    },
    {
      "cell_type": "markdown",
      "metadata": {
        "id": "x1_md57B6G2F"
      },
      "source": [
        "**Question 7.** Quelle stratégie pourriez-vous mettre en place pour réduire encore le temps de traitement ?"
      ]
    },
    {
      "cell_type": "markdown",
      "metadata": {
        "id": "YAGV2jhC6G2F"
      },
      "source": [
        "**Question 7.1.** Trouver les coordonnées des points à traiter"
      ]
    },
    {
      "cell_type": "code",
      "execution_count": null,
      "metadata": {
        "id": "7vLCyS3h6G2F"
      },
      "outputs": [],
      "source": [
        "T2_est3 = np.zeros((512,512))\n",
        "S0_est3 = np.zeros((512,512))\n",
        "\n",
        "X, Y = np.meshgrid(np.arange(0,512),np.arange(0,512))\n",
        "X = X*mask\n",
        "Y = Y*mask\n",
        "vec = np.array([Y[Y!=0],X[X!=0]])\n",
        "vec = vec.transpose()\n",
        "#print(vec)"
      ]
    },
    {
      "cell_type": "code",
      "execution_count": null,
      "metadata": {
        "id": "mUF27EI36G2F"
      },
      "outputs": [],
      "source": [
        "..."
      ]
    },
    {
      "cell_type": "code",
      "execution_count": null,
      "metadata": {
        "id": "s2WwktzN6G2G"
      },
      "outputs": [],
      "source": [
        "plt.subplots(1,2,figsize=(10,6))\n",
        "plt.subplot(121)\n",
        "plt.imshow(T2_est3)\n",
        "plt.colorbar(shrink=0.6)\n",
        "plt.title('T2')\n",
        "plt.subplot(122)\n",
        "plt.imshow(S0_est3,vmin=0,vmax=1.6)\n",
        "plt.colorbar(shrink=0.6)\n",
        "plt.title('S0')\n",
        "output_file_name = '/content/PythonM2-jour1/output/test3.nii'\n",
        "sitk.WriteImage(sitk.GetImageFromArray(T2_est3),output_file_name)"
      ]
    },
    {
      "cell_type": "markdown",
      "metadata": {
        "id": "TuhcF5o16G2G"
      },
      "source": [
        "**Question 7.2.** Modifier la valeur de départ de $x_0$ en fonction des valeurs qui viennent d'être estimées."
      ]
    },
    {
      "cell_type": "code",
      "execution_count": null,
      "metadata": {
        "id": "W8-cn-656G2G"
      },
      "outputs": [],
      "source": [
        "..."
      ]
    },
    {
      "cell_type": "code",
      "execution_count": null,
      "metadata": {
        "id": "H69_pOZ36G2G"
      },
      "outputs": [],
      "source": [
        "plt.subplots(1,2,figsize=(10,6))\n",
        "plt.subplot(121)\n",
        "plt.imshow(T2_est4)\n",
        "plt.colorbar(shrink=0.6)\n",
        "plt.title('T2')\n",
        "plt.subplot(122)\n",
        "plt.imshow(S0_est4,vmin=0,vmax=1.6)\n",
        "plt.colorbar(shrink=0.6)\n",
        "plt.title('S0')\n",
        "output_file_name = '/content/PythonM2-jour1/output/test4.nii'\n",
        "sitk.WriteImage(sitk.GetImageFromArray(T2_est4),output_file_name)"
      ]
    },
    {
      "cell_type": "markdown",
      "metadata": {
        "id": "heKJs7U86G2G"
      },
      "source": [
        "**Question 8.** Réutiliser le masque et la fonction `show_stats` pour obtenir la moyenne et l'écart-type des mesures de $T2$ pour chaque tube"
      ]
    },
    {
      "cell_type": "code",
      "execution_count": null,
      "metadata": {
        "id": "ijEyY5kQ6G2G"
      },
      "outputs": [],
      "source": [
        "interact(show_stats, mask=fixed(mask), img=fixed(T2_est2), file='/content/PythonM2-jour1/output/output.csv');"
      ]
    },
    {
      "cell_type": "code",
      "execution_count": null,
      "metadata": {
        "id": "5WyxeI-L6G2G"
      },
      "outputs": [],
      "source": [
        "interact(show_stats, mask=fixed(mask), img=fixed(T2_est2), file='/content/PythonM2-jour1/output/output.csv');"
      ]
    },
    {
      "cell_type": "code",
      "execution_count": null,
      "metadata": {
        "id": "9p9lb3_e6G2G"
      },
      "outputs": [],
      "source": [
        "interact(show_stats, mask=fixed(mask), img=fixed(T2_est4), file='/content/PythonM2-jour1/output/output.csv');"
      ]
    }
  ]
}