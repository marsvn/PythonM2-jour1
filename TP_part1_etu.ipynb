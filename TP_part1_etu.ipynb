{
  "cells": [
    {
      "cell_type": "markdown",
      "metadata": {
        "id": "Lcbj7_Oj6G02"
      },
      "source": [
        "# TP Python Master IBM/RPM\n",
        "## 1ère partie : introduction au langage Python\n",
        "Février 2025\n",
        "\n",
        "### Albertine Dubois - <span class=\"glyphicon glyphicon-envelope\"></span> albertine.dubois@cea.fr et Marion Savanier - <span class=\"glyphicon glyphicon-envelope\"></span> marion.savanier@universite-paris-saclay.fr\n",
        "----"
      ]
    },
    {
      "cell_type": "markdown",
      "metadata": {
        "id": "TpfKIJR66G05"
      },
      "source": [
        "## Présentation et objectifs\n",
        "\n",
        "* Python est un langage de programmation **open source** et **gratuit**, très largement utilisé dans le monde de la recherche.\n",
        "\n",
        "* Il permet, comme Matlab, de tester très rapidement des traitements informatiques et d'analyser facilement et de manière reproductible ses données (images).\n",
        "\n",
        "* Il est de plus en plus fréquent de devoir utiliser ce langage dans le cadre de son stage de M2 voire même après. C'est pourquoi, il nous a semblé que ce serait un plus que vous soyez formés à l'utilisation de ce langage.\n",
        "\n",
        "Ce TP est conçu pour que chacun puisse avancer à son rythme en suivant les instructions. L'objectif est de découvrir les grands concepts de la programmation en Python en observant le résultat de diverses fonctions. N'hésitez pas à tester autre chose !\n",
        "\n",
        "Si vous souhaitez un descriptif plus spécifique d'une fonction, tapez : `help nom_de_la_fonction`\n",
        "\n",
        "L’aide est généralement très bien faite lorsqu’on connaît la fonction à utiliser ; c’est plus difficile si on ne connaît pas le nom de la fonction de trouver comment faire. Prenez le réflexe de poser votre question à Google. Il est fort probable que quelqu'un ait posté la réponse.\n",
        "\n",
        "Le TP est découpé en 12 parties :\n",
        "\n",
        "*   <a href=\"#part1\">A la (re)découverte de Python 3</a>\n",
        "*   <a href=\"#part2\">Calcul scientifique avec Python</a>\n",
        "*   <a href=\"#part3\">Tracer des courbes en 2D et en 3D</a>\n",
        "*   <a href=\"#part4\">Ajuster des courbes</a>\n",
        "*   <a href=\"#part5\">Afficher une image</a>\n",
        "*   <a href=\"#part6\">Tracer une région d'intérêt (ROI)</a>\n",
        "*   <a href=\"#part7\">Tracer des contours et utiliser les opérations de morphologie mathématique</a>\n",
        "*   <a href=\"#part8\">Recaler deux images</a>\n",
        "*   <a href=\"#part9\">Faire une transformée de Fourier</a>\n",
        "*   <a href=\"#part10\">Lire des données externes</a>\n",
        "*   <a href=\"#part11\">Exporter ses données</a>\n",
        "\n",
        "Certains ne le termineront pas, d'autres le termineront plus vite. L'objectif est juste de découvrir et d'apprendre à programmer en Python (pas d'évaluation formelle de cet enseignement).\n",
        "\n",
        "Si certains sont plus avancés, ils peuvent d'emblée sauter des étapes voire passer direct au projet (notebook Projet.ipynb)\n",
        "\n",
        "Et pour ceux qui, à l'issue de ce cours, voudraient aller plus loin avec Python, nous vous recommandons de suivre ce [MOOC](https://www.fun-mooc.fr/courses/course-v1:UCA+107001+session02/about).\n",
        "\n",
        "<center>\n",
        "<img witdh=500 src='https://github.com/marsvn/PythonM2-jour1/blob/main/data/python.jpeg?raw=1'>\n",
        "</center>"
      ]
    },
    {
      "cell_type": "markdown",
      "metadata": {
        "id": "-RMe_1e56G06"
      },
      "source": [
        "## Langage de programmation Python\n",
        "\n",
        "*   Le langage Python est de plus en plus utilisé : traitement de données scientifiques, applis web, administration système, prototypage, ...\n",
        "\n",
        "*   Enseigné partout, il est idéal pour des débutants comme des developpeurs confirmés\n",
        "\n",
        "*   Inventeur : Guido van Rossum, informaticien hollandais ; projet personnel débuté en 1989 ; **objectif = facile à apprendre et puissant**\n",
        "\n",
        "* Versions :\n",
        "\n",
        "        2.0 en 2000\n",
        "        2.7 en 2010\n",
        "        3.0 en 2008  rupture\n",
        "        3.8 en 2018\n",
        "\n",
        "        v 2.7 obsolète mais encore utilisée nombreux programmes\n",
        "        v >= 3.4 conseillée\n",
        "        versions les plus récentes : améliorations sur des points techniques\n",
        "\n",
        "\n",
        "*   Sous linux et macos : dans un terminal\n",
        "\n",
        "        $ python   -> python v2\n",
        "$ python3  -> python v3  conseillée\n",
        "\n",
        "\n",
        "*   En général les 2 sont déjà installées\n",
        "    \n",
        "        $ python --version\n",
        "Python 2.7.12\n",
        "$ python3 --version\n",
        "        Python 3.5.1\n"
      ]
    },
    {
      "cell_type": "markdown",
      "metadata": {
        "id": "-5hBHs-m6G06"
      },
      "source": [
        "## <a name=\"part1\"></a>1. A la (re)découverte de Python 3\n",
        "\n",
        "*   Python est un langage interprété, pas besoin de phase de compilation comme en C ou java ; `python3` est l'interpréteur\n",
        "\n",
        "*   On peut utiliser ce langage selon 2 modes : **interactif** (calculette) et **script** (programme)\n",
        "\n",
        "Pendant toute la durée de ce TP (et même les jours suivants), nous allons travailler avec des *Jupyter Notebook* comme celui-ci, qui fonctionnent en mode interactif. Vérifiez en haut à droite que vous êtes bien en Python 3. Si ce n'est pas le cas, allez dans la barre de menu, sélectionnez \"Kernel\", puis \"Change Kernel\" et choisissez \"Python 3\".\n",
        "\n",
        "La cellule est l'élement avec lequel vous intéragissez au sein de votre notebook. Elle permet aussi bien de rentrer du code dans un langage informatique comme `python` ou bien du texte que l'on peut formater selon un langage à balises simples nommé [*Markdown*](http://fr.wikipedia.org/wiki/Markdown). Cela permet de simplifier l'écriture de texte pour les pages de texte affichées dans un navigateur internet.\n",
        "\n",
        "La bascule d'un mode à l'autre se fait par l'intermédiaire du bouton à menu déroulant `Code`. Il suffit de sélectionner la ligne *Markdown* pour pouvoir éditer du texte ou bien *Code* pour entrer du code.\n",
        "\n",
        "Pour executer le contenu d'une cellule, il faut cliquer sur le bouton <button class='btn btn-default btn-xs'><i class=\"fa fa-play icon-play\"></i></button> de la barre d'outil ou bien taper la combinaison de touches `Shift+Enter`\n",
        "\n",
        "Top, non ?\n",
        "\n",
        "On essaie ? Exécutez cette cellule pour lui redonner son apparence initiale si vous avez double-clické dessus, puis exécutez la cellule suivante."
      ]
    },
    {
      "cell_type": "code",
      "source": [
        "!git clone https://github.com/marsvn/PythonM2-jour1.git"
      ],
      "metadata": {
        "id": "ISwgq8ma8CoP",
        "colab": {
          "base_uri": "https://localhost:8080/"
        },
        "outputId": "cbad9a96-c72b-45be-91ba-f9255a76fdf9"
      },
      "execution_count": null,
      "outputs": [
        {
          "output_type": "stream",
          "name": "stdout",
          "text": [
            "Cloning into 'PythonM2-jour1'...\n",
            "remote: Enumerating objects: 106, done.\u001b[K\n",
            "remote: Counting objects: 100% (53/53), done.\u001b[K\n",
            "remote: Compressing objects: 100% (47/47), done.\u001b[K\n",
            "remote: Total 106 (delta 27), reused 16 (delta 4), pack-reused 53 (from 1)\u001b[K\n",
            "Receiving objects: 100% (106/106), 49.65 MiB | 8.42 MiB/s, done.\n",
            "Resolving deltas: 100% (31/31), done.\n",
            "Updating files: 100% (54/54), done.\n"
          ]
        }
      ]
    },
    {
      "cell_type": "markdown",
      "source": [
        "**Explication**: Sous colab, il est possible de lancer une commande linux avec le préfixe \"!\". Ici vous venez de télécharger le contenu du projet github hébergeant le TP."
      ],
      "metadata": {
        "id": "4_mJ4eQZ8C8C"
      }
    },
    {
      "cell_type": "code",
      "execution_count": null,
      "metadata": {
        "id": "-gRD_O5X6G07",
        "colab": {
          "base_uri": "https://localhost:8080/"
        },
        "outputId": "acab57bb-3688-4ce6-f09a-b3c4235f5403"
      },
      "outputs": [
        {
          "output_type": "stream",
          "name": "stdout",
          "text": [
            "Version de Python utilisée durant ce TP : 3.11.11\n"
          ]
        }
      ],
      "source": [
        "from platform import python_version\n",
        "print(\"Version de Python utilisée durant ce TP :\",python_version())"
      ]
    },
    {
      "cell_type": "markdown",
      "metadata": {
        "id": "4e2vwmLQ6G08"
      },
      "source": [
        "Maintenant, démarrons le TP."
      ]
    },
    {
      "cell_type": "code",
      "execution_count": null,
      "metadata": {
        "id": "MFDLI4B16G08"
      },
      "outputs": [],
      "source": [
        "# Ceci est un commentaire\n",
        "a = input(\"Nombre d'étudiants RPM : \")\n",
        "b = input(\"Nombre d'étudiants IBM : \")\n",
        "n = a+b\n",
        "print(\"Il y a\", n, \"étudiants au total\")"
      ]
    },
    {
      "cell_type": "markdown",
      "metadata": {
        "id": "4xdO1R5B6G08"
      },
      "source": [
        "Oups ! `a` et `b` sont des chaines de caractères (`str`), donc l'opération `a+b` concatène ces chaînes\n",
        "\n",
        "Solution:  `a = int(input(...))` et idem pour `b`"
      ]
    },
    {
      "cell_type": "code",
      "execution_count": null,
      "metadata": {
        "id": "bm1wk6uQ6G08"
      },
      "outputs": [],
      "source": [
        "a = int(input(\"Nombre d'étudiants RPM : \"))\n",
        "b = int(input(\"Nombre d'étudiants IBM : \"))\n",
        "n = a+b\n",
        "print(\"Il y a\", n, \"étudiants au total\")"
      ]
    },
    {
      "cell_type": "markdown",
      "metadata": {
        "id": "uMLzsjDE6G0-"
      },
      "source": [
        "### 1.1 Variables\n",
        "\n",
        "Pas de déclaration, créée par simple **affectation**."
      ]
    },
    {
      "cell_type": "code",
      "execution_count": null,
      "metadata": {
        "id": "7ivGfiSh6G0-"
      },
      "outputs": [],
      "source": [
        "a = 5\n",
        "print(a)\n",
        "print(a+3)\n",
        "a = a*2\n",
        "print(a)\n",
        "#a++ # Syntax error\n",
        "a += 1\n",
        "print(a)"
      ]
    },
    {
      "cell_type": "markdown",
      "metadata": {
        "id": "Ymgcqi5T6G0_"
      },
      "source": [
        "*  Nom de variable : 1 lettre + 0 ou plusieurs {lettre,chiffre}\n",
        "* Exemple : a, x1, couleur, nb_formes\n",
        "*  Sensible à la casse, lettres accentuées possibles"
      ]
    },
    {
      "cell_type": "code",
      "execution_count": null,
      "metadata": {
        "id": "FpKnm2dD6G0_"
      },
      "outputs": [],
      "source": [
        "cafe = \"froid\"\n",
        "Cafe = \"chaud\"\n",
        "café = \"moulu\"\n",
        "print(cafe, Cafe, café)"
      ]
    },
    {
      "cell_type": "markdown",
      "metadata": {
        "id": "Z0VAC_vA6G0_"
      },
      "source": [
        "/!\\ Bon usage : éviter de commencer un nom de variable avec une majuscule ou _"
      ]
    },
    {
      "cell_type": "markdown",
      "metadata": {
        "id": "Te0hOL_k6G1A"
      },
      "source": [
        "*   **Type selon contenu :** concept de \"typage dynamique\""
      ]
    },
    {
      "cell_type": "code",
      "execution_count": null,
      "metadata": {
        "id": "YHDedb3W6G1B"
      },
      "outputs": [],
      "source": [
        "a = 5\n",
        "print(type(a))\n",
        "\n",
        "a = 2.5\n",
        "print(type(a))\n",
        "\n",
        "a = False\n",
        "print(type(a))\n",
        "\n",
        "a = \"toto\"\n",
        "print(type(a))\n",
        "\n",
        "# Vérification\n",
        "print(type(a) == str) # Ici, le signe double égal == correspond à un test. C’est différent d’une affectation"
      ]
    },
    {
      "cell_type": "markdown",
      "metadata": {
        "id": "K8rMeM4L6G1B"
      },
      "source": [
        "*   **Transformations de types :**"
      ]
    },
    {
      "cell_type": "code",
      "execution_count": null,
      "metadata": {
        "id": "Z7l6DT9Q6G1B"
      },
      "outputs": [],
      "source": [
        "str(5)"
      ]
    },
    {
      "cell_type": "code",
      "execution_count": null,
      "metadata": {
        "id": "0Y2NS5bO6G1B"
      },
      "outputs": [],
      "source": [
        "int(2.5)"
      ]
    },
    {
      "cell_type": "code",
      "execution_count": null,
      "metadata": {
        "id": "vG3Wkiba6G1C"
      },
      "outputs": [],
      "source": [
        "float(\"3.14\")"
      ]
    },
    {
      "cell_type": "code",
      "execution_count": null,
      "metadata": {
        "id": "n7Fz9bRC6G1C"
      },
      "outputs": [],
      "source": [
        "int(True)"
      ]
    },
    {
      "cell_type": "code",
      "execution_count": null,
      "metadata": {
        "id": "G2vpOylR6G1C"
      },
      "outputs": [],
      "source": [
        "int(\"toto\")"
      ]
    },
    {
      "cell_type": "markdown",
      "metadata": {
        "id": "S1ISas8Z6G1C"
      },
      "source": [
        "*   **Mélanges de types :**"
      ]
    },
    {
      "cell_type": "code",
      "execution_count": null,
      "metadata": {
        "id": "wdFUUsil6G1D"
      },
      "outputs": [],
      "source": [
        "type(2+3.14)    # <class 'float'> : type plus général"
      ]
    },
    {
      "cell_type": "code",
      "execution_count": null,
      "metadata": {
        "id": "lTzTND9T6G1D"
      },
      "outputs": [],
      "source": [
        "type(2+True)    # <class 'int'>"
      ]
    },
    {
      "cell_type": "code",
      "execution_count": null,
      "metadata": {
        "id": "6iDG8Usm6G1D"
      },
      "outputs": [],
      "source": [
        "type(2+\"toto\")  # TypeError: unsupported operand type(s) for +: 'int' and 'str'"
      ]
    },
    {
      "cell_type": "code",
      "execution_count": null,
      "metadata": {
        "id": "7_GJav8y6G1D"
      },
      "outputs": [],
      "source": [
        "type(2*\"hop\")   # <class 'str'>\n",
        "print(2*'hop')"
      ]
    },
    {
      "cell_type": "markdown",
      "metadata": {
        "id": "AYioM4Gf6G1D"
      },
      "source": [
        "----\n",
        "**Conclusion :**\n",
        "\n",
        "  *  On ne déclare pas les variables\n",
        "  *  Le type de la variable est le type de sa valeur courante\n",
        "  *  On a vu les types : `int`, `float`, `bool`, `str`\n",
        "  *  Il y a beaucoup d'autres types en Python qu'on appelle des structures de données (certains seront vus plus tard) : tuples, listes, ensembles, dictionnaires, tableaux, classes...\n",
        "----"
      ]
    },
    {
      "cell_type": "markdown",
      "metadata": {
        "id": "b0fjRPS06G1D"
      },
      "source": [
        "### 1.2 Opérations de comparaison\n"
      ]
    },
    {
      "cell_type": "code",
      "execution_count": null,
      "metadata": {
        "id": "mQ7PcXnK6G1E"
      },
      "outputs": [],
      "source": [
        "# Variable x a la valeur 10 and la variable y a la valeur 3\n",
        "x = 10\n",
        "y = 3\n",
        "print(\"x =\",x, \"y =\",y)\n",
        "\n",
        "# Egal\n",
        "print (\"Egal, x == y \", x == y)\n",
        "\n",
        "# Différent\n",
        "print (\"Différent, x != y \", x != y)\n",
        "\n",
        "# Inférieur\n",
        "print (\"Inférieur, x < y \", x<y)\n",
        "\n",
        "# Supérieur\n",
        "print (\"Supérieur, x > y \", x>y)\n",
        "\n",
        "# Inférieur ou égale\n",
        "print (\"Inférieur ou égale, x <= y \", x<= y)"
      ]
    },
    {
      "cell_type": "code",
      "execution_count": null,
      "metadata": {
        "id": "GWUzADPm6G1E"
      },
      "outputs": [],
      "source": [
        "A = 2.1\n",
        "B = 5\n",
        "C = 2.1\n",
        "print(A == B)\n",
        "print(A == C)\n",
        "print(A is C)"
      ]
    },
    {
      "cell_type": "markdown",
      "metadata": {
        "id": "zudbnlfX6G1E"
      },
      "source": [
        "### 1.3 Opérations d'affectation\n",
        "\n",
        "* `z = x + y` met la valeur de `x + y` dans `z`\n",
        "\n",
        "* x += y est équivalent à x = x + y\n",
        "\n",
        "* x *= y est équivalent x = x * y\n"
      ]
    },
    {
      "cell_type": "code",
      "execution_count": null,
      "metadata": {
        "id": "NPJeU96k6G1E"
      },
      "outputs": [],
      "source": [
        "# Variable x a la valeur 10 and la variable y a la valeur 3\n",
        "x = 10\n",
        "y = 3\n",
        "print(\"x =\",x, \"y =\",y)\n",
        "\n",
        "print(\"Valeur après x+y : \", x+y)\n",
        "\n",
        "print(\"Valeur après x*y : \", x*y)\n",
        "\n",
        "print(\"Valeur après 2*x*y : \", 2*x*y)\n",
        "\n",
        "x += y\n",
        "print(\"Valeur après x+=y : \", x)\n",
        "\n",
        "x *= y\n",
        "print(\"Valeur après x*=y : \", x) # multiplication\n",
        "\n",
        "x /= y\n",
        "print(\"Valeur après x/=y : \", x) # division\n",
        "\n",
        "x %= y\n",
        "print(\"Valeur après x%=y : \", x) #reste de division entière\n",
        "\n",
        "x **= y\n",
        "print(\"Valeur après x**=y : \", x) #puissance\n",
        "\n",
        "x //= y\n",
        "print(\"Valeur après x//=y : \", x) #quotient de division entière"
      ]
    },
    {
      "cell_type": "markdown",
      "metadata": {
        "id": "gjk-4OoU6G1E"
      },
      "source": [
        "### 1.4 Opérations logiques"
      ]
    },
    {
      "cell_type": "code",
      "execution_count": null,
      "metadata": {
        "id": "yWbxtFsH6G1E"
      },
      "outputs": [],
      "source": [
        "var1 = True\n",
        "var2 = False\n",
        "print('var1 ET var2 :',var1 and var2)\n",
        "print('var1 OU var2 :',var1 or var2)\n",
        "print('NON var1 :',not var1)"
      ]
    },
    {
      "cell_type": "markdown",
      "metadata": {
        "id": "faTGWDwp6G1E"
      },
      "source": [
        "### 1.5 Entrées Sorties\n"
      ]
    },
    {
      "cell_type": "code",
      "execution_count": null,
      "metadata": {
        "id": "WHTqDN4E6G1E"
      },
      "outputs": [],
      "source": [
        "print(\"bonjour\")\n",
        "a = 2 ; b = 3\n",
        "print(\"mangez\", a, \"pommes et\", b, \"poires\")\n",
        "print(\"mangez\", a, \"pommes et\", b, \"poires\", sep=\"--\")\n",
        "print(\"mangez\", a, \"pommes et\", b, \"poires\", end=\"--\")  # par défaut \\n\n",
        "help(print)\n",
        "\n",
        "a = input()\n",
        "b = input(\"poires : \")\n",
        "print(type(b))                         # str : input() renvoie toujours un str\n",
        "b = int(input(\"poires : \"))\n",
        "print(type(b))"
      ]
    },
    {
      "cell_type": "markdown",
      "metadata": {
        "id": "HonbgWRs6G1E"
      },
      "source": [
        "### 1.6 Blocs d'instructions\n",
        "\n",
        "*  Blocs d'instructions non délimités par { } ou begin end comme en C, java, Pascal\n",
        "\n",
        "*  Blocs définis par l'indentation :\n",
        "    *  des lignes qui se suivent avec même indentation forment un bloc\n",
        "    *  une instruction nécessitant un sous-bloc est terminé par \":\"\n",
        "        *  un sous-bloc a une indentation plus grande\n",
        "        *  en général on indente de 4 espaces\n",
        "* Le premier bloc a une indentation de 0\n",
        "\n",
        "\n",
        "```\n",
        "instruction1\n",
        "instruction2\n",
        "instruction3 nécessitant un sous-bloc :\n",
        "    instruction4\n",
        "    instruction5 nécessitant un sous-bloc :\n",
        "        instruction6\n",
        "        instruction7\n",
        "    instruction8\n",
        "instruction9\n",
        "```\n",
        "\n",
        "*  Structures de contrôle nécessitant un sous-bloc : conditionnelle, boucle, fonction\n",
        "\n",
        "* Possibilités de mettre une instruction sur plusieurs lignes, vues plus tard\n"
      ]
    },
    {
      "cell_type": "markdown",
      "metadata": {
        "id": "AcHkSqmV6G1F"
      },
      "source": [
        "**Exemple :** Ecrire un programme qui génère aléatoirement un entier et qui affiche s'il est postif ou négatif."
      ]
    },
    {
      "cell_type": "markdown",
      "metadata": {
        "id": "dKfSOwYG6G1F"
      },
      "source": [
        "*  Indentation incorrecte :"
      ]
    },
    {
      "cell_type": "code",
      "execution_count": null,
      "metadata": {
        "id": "3iw2MSAT6G1F"
      },
      "outputs": [],
      "source": [
        "import random # Module permettant de tirer des nombres aléatoires\n",
        "x = random.randint(-100,100) # Fonction du module random renvoyant un nombre entier tiré aléatoirement entre -100 inclus et 100 inclus\n",
        "print(\"x =\",x)\n",
        "if x >=0:\n",
        "    print('x is postive')\n",
        "else:\n",
        "print('x is negative')"
      ]
    },
    {
      "cell_type": "markdown",
      "metadata": {
        "id": "ijbcFrwV6G1F"
      },
      "source": [
        "*  Indentation correcte :"
      ]
    },
    {
      "cell_type": "code",
      "execution_count": null,
      "metadata": {
        "id": "SpB13L1s6G1F"
      },
      "outputs": [],
      "source": [
        "import random\n",
        "x = random.randint(-100,100)\n",
        "print(\"x =\",x)\n",
        "if x >=0:\n",
        "    print('x is postive')\n",
        "else:\n",
        "    print('x is negative')"
      ]
    },
    {
      "cell_type": "markdown",
      "metadata": {
        "id": "OnYf_Kiu6G1F"
      },
      "source": [
        "### 1.7 Structure Conditionnelle `if`\n",
        "\n",
        "```\n",
        "if condition1 :\n",
        "        bloc1\n",
        "```\n",
        "\n",
        "ou\n",
        "```\n",
        "if condition1 :\n",
        "        bloc1\n",
        "else :\n",
        "        bloc2\n",
        "```\n",
        "\n"
      ]
    },
    {
      "cell_type": "code",
      "execution_count": null,
      "metadata": {
        "id": "4Xj3Tod96G1G"
      },
      "outputs": [],
      "source": [
        "nb_pommes = 5\n",
        "fruit = input(\"Entrez un fruit : \")\n",
        "if fruit == \"pomme\" :\n",
        "    nb_pommes += 1\n",
        "    print(\"Il y a\", nb_pommes, \"pommes.\")\n",
        "else :\n",
        "    print(\"Je ne connais pas ce fruit.\")"
      ]
    },
    {
      "cell_type": "markdown",
      "metadata": {
        "id": "EQcUNljM6G1G"
      },
      "source": [
        "On peut imbriquer les structures conditionnelles :"
      ]
    },
    {
      "cell_type": "code",
      "execution_count": null,
      "metadata": {
        "id": "VGkIkHTF6G1G"
      },
      "outputs": [],
      "source": [
        "nb_pommes = 5 ; nb_poires = 8 ; nb_bananes = 2\n",
        "fruit = input(\"Entrez un fruit : \")\n",
        "if fruit == \"pomme\" :\n",
        "    nb_pommes += 1\n",
        "    print(\"Il y a\", nb_pommes, \"pommes.\")\n",
        "else :\n",
        "    if fruit == \"poire\" :\n",
        "        nb_poires += 1\n",
        "        print(\"Il y a\", nb_poires, \"poires.\")\n",
        "    else :\n",
        "        if fruit == \"banane\" :\n",
        "            nb_bananes += 1\n",
        "            print(\"Il y a\", nb_bananes, \"bananes.\")\n",
        "        else :\n",
        "            print(\"Je ne connais pas ce fruit.\")"
      ]
    },
    {
      "cell_type": "markdown",
      "metadata": {
        "id": "yfHOg7w66G1G"
      },
      "source": [
        "Syntaxe pour désimbriquer :\n",
        "\n",
        "\n",
        "\n",
        "```\n",
        "if condition1 :\n",
        "        bloc1\n",
        "elif condition2 :\n",
        "        bloc2\n",
        "elif condition3 :\n",
        "        bloc3\n",
        "...\n",
        "else :\n",
        "        blocn\n",
        "\n",
        "```\n",
        "\n"
      ]
    },
    {
      "cell_type": "code",
      "execution_count": null,
      "metadata": {
        "id": "rycgb6qq6G1G"
      },
      "outputs": [],
      "source": [
        "nb_pommes = 5 ; nb_poires = 8 ; nb_bananes = 2\n",
        "fruit = input(\"Entrez un fruit : \")\n",
        "if fruit == \"pomme\" :\n",
        "    nb_pommes += 1\n",
        "    print(\"Il y a\", nb_pommes, \"pommes.\")\n",
        "elif fruit == \"poire\" :\n",
        "    nb_poires += 1\n",
        "    print(\"Il y a\", nb_poires, \"poires.\")\n",
        "elif fruit == \"banane\" :\n",
        "    nb_bananes += 1\n",
        "    print(\"Il y a\", nb_bananes, \"bananes.\")\n",
        "else :\n",
        "    print(\"Je ne connais pas ce fruit.\")"
      ]
    },
    {
      "cell_type": "markdown",
      "metadata": {
        "id": "x6ydigZ96G1G"
      },
      "source": [
        "**Remarque :**\n",
        "*  Un sous-bloc doit comporter au moins une instruction, sinon `pass`"
      ]
    },
    {
      "cell_type": "code",
      "execution_count": null,
      "metadata": {
        "id": "0Ert-IQc6G1H"
      },
      "outputs": [],
      "source": [
        "x = int(input(\"Donnez un nombre entier : \"))\n",
        "if x % 2 == 0 :\n",
        "    pass\n",
        "else :\n",
        "    print(\"x est impair\")"
      ]
    },
    {
      "cell_type": "markdown",
      "metadata": {
        "id": "7KKN1TOJ6G1H"
      },
      "source": [
        "On aurait pu écrire plus simplement :"
      ]
    },
    {
      "cell_type": "code",
      "execution_count": null,
      "metadata": {
        "id": "ykOs5dM56G1H"
      },
      "outputs": [],
      "source": [
        "if not (x % 2 == 0) :\n",
        "    print(\"x est impair\")"
      ]
    },
    {
      "cell_type": "markdown",
      "metadata": {
        "id": "lWWhVeU56G1H"
      },
      "source": [
        "### 1.8 Boucle while\n",
        "\n",
        "```\n",
        "while condition1 :\n",
        "        bloc1\n",
        "```"
      ]
    },
    {
      "cell_type": "markdown",
      "metadata": {
        "id": "Xodec7QO6G1H"
      },
      "source": [
        "**Exemple :** calculer la somme des entiers de 1 à n"
      ]
    },
    {
      "cell_type": "code",
      "execution_count": null,
      "metadata": {
        "id": "ISTJ2xzV6G1H"
      },
      "outputs": [],
      "source": [
        "i = 1 ; n = 10 ; somme = 0\n",
        "while i <= n :\n",
        "    somme += i\n",
        "    i += 1          # en mode interactif sauter 1 ligne pour sortir du bloc\n",
        "print (\"Le résultat est\", somme)"
      ]
    },
    {
      "cell_type": "markdown",
      "metadata": {
        "id": "kBT5CAwX6G1J"
      },
      "source": [
        "**Exemple :** calculer les 10 premières puissances de 2"
      ]
    },
    {
      "cell_type": "code",
      "execution_count": null,
      "metadata": {
        "id": "8gZupw7y6G1J"
      },
      "outputs": [],
      "source": [
        "i=1\n",
        "while i < 1000:\n",
        "    i = i*2\n",
        "    print(i)"
      ]
    },
    {
      "cell_type": "markdown",
      "metadata": {
        "id": "I3g7gElE6G1J"
      },
      "source": [
        "### 1.9 Boucle `for`\n",
        "Boucle `for` très différente du C :\n",
        "\n",
        "    for variable1 in expression1 :\n",
        "        bloc1\n",
        "\n",
        "`expression1` est de n'importe quel type \"itérable\" ;\n",
        "`variable1` prend successivement les valeurs de chaque élément de `expression1`."
      ]
    },
    {
      "cell_type": "code",
      "execution_count": null,
      "metadata": {
        "id": "yB8VzSY56G1J"
      },
      "outputs": [],
      "source": [
        "for i in (7, 4, \"oui\") :\n",
        "        print(i)"
      ]
    },
    {
      "cell_type": "code",
      "execution_count": null,
      "metadata": {
        "id": "bEkTF8Hp6G1J"
      },
      "outputs": [],
      "source": [
        "for c in \"plop\" :\n",
        "        print(c)"
      ]
    },
    {
      "cell_type": "markdown",
      "metadata": {
        "id": "uq-4IPjd6G1J"
      },
      "source": [
        "Comment faire une boucle sur un intervalle, comme en C ? Avec la classe **range**"
      ]
    },
    {
      "cell_type": "code",
      "execution_count": null,
      "metadata": {
        "id": "JXM7DS3G6G1J"
      },
      "outputs": [],
      "source": [
        "for i in range(1,10) : # i varie de 1 à 10-1=9\n",
        "    y = i**2\n",
        "    print(i, y)"
      ]
    },
    {
      "cell_type": "markdown",
      "metadata": {
        "id": "7vaSv6dn6G1K"
      },
      "source": [
        "On peut changer l'incrément :"
      ]
    },
    {
      "cell_type": "code",
      "execution_count": null,
      "metadata": {
        "id": "DSydwreg6G1K"
      },
      "outputs": [],
      "source": [
        "for i in range(1,10,3) :\n",
        "    print(i)              # 1 4 7 : i avance de 3 en 3"
      ]
    },
    {
      "cell_type": "markdown",
      "metadata": {
        "id": "DX-UF4rR6G1K"
      },
      "source": [
        "**Exemple :**"
      ]
    },
    {
      "cell_type": "code",
      "execution_count": null,
      "metadata": {
        "id": "cOuIPD9a6G1K"
      },
      "outputs": [],
      "source": [
        "for i in range(10): # i varie de 0 à 10-1=9\n",
        "    if i < 5:\n",
        "        y=i**2\n",
        "        print(y)"
      ]
    },
    {
      "cell_type": "code",
      "source": [],
      "metadata": {
        "id": "Y1as1BSRsgcz"
      },
      "execution_count": null,
      "outputs": []
    },
    {
      "cell_type": "markdown",
      "metadata": {
        "id": "wOK46wuY6G1K"
      },
      "source": [
        "* Usage :\n",
        "    * Boucler de `a` à `b` inclus dans le sens croissant : `range(a, b+1)`\n",
        "    * Boucler de `b` à `a` inclus dans le sens décroissant : `range(b, a-1, -1)`"
      ]
    },
    {
      "cell_type": "markdown",
      "source": [
        "----\n",
        "## Exercice 1 - Calcul de sa moyenne aux examens\n",
        "\n",
        "----\n",
        "\n",
        "Ecrire un programme qui permet de saisir 4 notes au clavier, ainsi que leurs coefficients respectifs, et qui affiche la moyenne de ces notes.\n",
        "\n",
        "Votre programme devra également afficher si le semestre est validé (note>=10), rattrapage (10>note>=7) ou non validé (note<7).\n",
        "\n",
        "*Exemple*\n",
        "\n",
        "* **note 1** : 12\n",
        "* **coefficient** : 2\n",
        "* **note 2** : 15.25\n",
        "* **coefficient** : 1\n",
        "* **note 3** : 13.5\n",
        "* **coefficient** : 4\n",
        "* **note 4** : 8.75\n",
        "* **coefficient** : 3\n",
        "\n",
        "Moyenne de ces 4 notes : 11.9 <-> semestre validé\n",
        "\n"
      ],
      "metadata": {
        "id": "7F7C8qRzVJ18"
      }
    },
    {
      "cell_type": "code",
      "source": [],
      "metadata": {
        "id": "8mCG7s_OD0ar"
      },
      "execution_count": null,
      "outputs": []
    },
    {
      "cell_type": "markdown",
      "source": [
        "----\n",
        "## Exercice 2 - Calcul d'IMC\n",
        "----\n",
        "\n",
        "Ecrire un programme qui calcule l’indice de masse corporelle (IMC) avec $IMC = poids / taille^2$.\n",
        "\n",
        "Votre programme affichera un message qui contient l’interprétation du résultat.\n",
        "\n",
        "| IMC | Interprétation |\n",
        "| --- | -------------- |\n",
        "| + de 40 | obésité morbide ou massive |\n",
        "| 35 à 40 | obésité sévère |\n",
        "| 30 de 35 | obésité modérée |\n",
        "| 25 de 30 | Surpoids |\n",
        "| 18.5 de 25 | corpulence normale |\n",
        "| 16.5 à 18.5 | Maigreur |\n",
        "| - de 16.5 | Famine |"
      ],
      "metadata": {
        "id": "F8dUIR_eshaq"
      }
    },
    {
      "cell_type": "code",
      "source": [],
      "metadata": {
        "id": "e8Tc2-EUD097"
      },
      "execution_count": null,
      "outputs": []
    },
    {
      "cell_type": "markdown",
      "metadata": {
        "id": "ZSibmvnl6G1K"
      },
      "source": [
        "### 1.10 Fonctions\n",
        "\n",
        "\n",
        "Déclarer une fonction :\n",
        "\n",
        "    def nom_fonction (paramètre1, paramètre2, ...) :\n",
        "        bloc1\n",
        "\n",
        "Appeler la fonction :\n",
        "\n",
        "    nom_fonction (valeur1, valeur2,...)\n",
        "ou  \n",
        "\n",
        "    résultat = nom_fonction (valeur1, valeur2,...)\n",
        "\n",
        "Dans le bloc principal de la fonction :\n",
        "    `return` ou `return valeur`\n",
        "sort immédiatement\n"
      ]
    },
    {
      "cell_type": "markdown",
      "metadata": {
        "id": "5VFr3oIZ6G1L"
      },
      "source": [
        "**Exemple :** écrire une fonction qui calcule, pour un paramètre `n` donné, la somme des `n`  entiers de `1` à `n`."
      ]
    },
    {
      "cell_type": "code",
      "execution_count": null,
      "metadata": {
        "id": "xZasL-Ht6G1L"
      },
      "outputs": [],
      "source": [
        "# Déclaration de la fonction\n",
        "def calculer_somme (n) :\n",
        "    i = 0\n",
        "    somme = 0\n",
        "    while i <= n :\n",
        "        somme += i\n",
        "        i += 1\n",
        "    return somme\n",
        "\n",
        "# Appel de la fonction\n",
        "s = calculer_somme (100)\n",
        "print (\"Le résultat est\", s)"
      ]
    },
    {
      "cell_type": "markdown",
      "metadata": {
        "id": "uzWkvZBm6G1L"
      },
      "source": [
        "Portée des variables :\n",
        "   *  Les paramètres et variables internes à la fonction sont locaux\n",
        "   *  Lors de la fonction pas d'accès aux variables `n`, `i`, `somme`"
      ]
    },
    {
      "cell_type": "markdown",
      "metadata": {
        "id": "9PGqoYcQ6G1L"
      },
      "source": [
        "Une fonction peut renvoyer plusieurs valeurs :"
      ]
    },
    {
      "cell_type": "code",
      "execution_count": null,
      "metadata": {
        "id": "qDe75usa6G1L"
      },
      "outputs": [],
      "source": [
        "def saisir_nom_prenom_age () :\n",
        "    nom = input(\"Nom = \")\n",
        "    prenom = input(\"Prénom = \")\n",
        "    age = int(input(\"Age = \"))\n",
        "    return (nom, prenom, age)\n",
        "\n",
        "n, p, a = saisir_nom_prenom_age()\n",
        "\n",
        "print(a)\n",
        "print(p)\n",
        "print(n)"
      ]
    },
    {
      "cell_type": "markdown",
      "metadata": {
        "id": "ifxphrLR6G1L"
      },
      "source": [
        "### 1.11 Listes et dictionnaires\n",
        "\n",
        "* Une liste est une structure de données qui contient une série de valeurs.\n",
        "\n",
        "* Python autorise la construction de listes contenant des valeurs de types différents (par exemple entier et chaine de caractères), ce qui leur confère une grande flexibilité.\n",
        "\n",
        "* Une liste est déclarée par une série de valeurs, séparées par des virgules et le tout encadré par des crochets."
      ]
    },
    {
      "cell_type": "code",
      "execution_count": null,
      "metadata": {
        "id": "KtOWiEwz6G1L"
      },
      "outputs": [],
      "source": [
        "cours = ['IRM', 'médecine nucléaire', \"traitement d'images\"]\n",
        "durée_en_h = [9, 3, 6]"
      ]
    },
    {
      "cell_type": "markdown",
      "metadata": {
        "id": "94VH8omH6G1M"
      },
      "source": [
        "Un des gros avantages d'une liste est que vous pouvez appeler ses éléments par leur position. Ce numéro est appelé **indice** (ou *index*) de la liste.\n",
        "\n",
        "Soyez très attentifs au fait que les indices d'une liste de $n$ éléments commencent à $0$ et se termine à $n-1$. On dit aussi qu'en Python, les éléments d'une liste sont indexés à partir de $0$."
      ]
    },
    {
      "cell_type": "code",
      "execution_count": null,
      "metadata": {
        "id": "bRjTmPpc6G1M"
      },
      "outputs": [],
      "source": [
        "cours[0]"
      ]
    },
    {
      "cell_type": "code",
      "execution_count": null,
      "metadata": {
        "id": "-i-7X0716G1M"
      },
      "outputs": [],
      "source": [
        "cours[3]"
      ]
    },
    {
      "cell_type": "markdown",
      "metadata": {
        "id": "44nDQ38-6G1M"
      },
      "source": [
        "---\n",
        "**Question 1.** Quel est le problème ?\n",
        "\n",
        "---"
      ]
    },
    {
      "cell_type": "markdown",
      "metadata": {
        "id": "IhLhYtsL6G1M"
      },
      "source": [
        "3 élements seulement dans cette liste, il n'y a donc pas d'élément d'indice 3"
      ]
    },
    {
      "cell_type": "markdown",
      "metadata": {
        "id": "wdJ6aQuU6G1M"
      },
      "source": [
        "Une liste peut être indexée avec des nombres négatifs. C'est parfois pratique pour identifier la valeur du **dernier élément** d'une liste."
      ]
    },
    {
      "cell_type": "code",
      "execution_count": null,
      "metadata": {
        "id": "Ivh6NaYP6G1M"
      },
      "outputs": [],
      "source": [
        "print(cours[-1], cours[-2])"
      ]
    },
    {
      "cell_type": "markdown",
      "metadata": {
        "id": "HqmQd5ra6G1M"
      },
      "source": [
        "* Les dictionnaires sont des collections non ordonnées d'objets (i.e pas d'indice). On accède aux **valeurs** d'un dictionnnaire par des **clés**."
      ]
    },
    {
      "cell_type": "code",
      "execution_count": null,
      "metadata": {
        "id": "4mh-lkU76G1M"
      },
      "outputs": [],
      "source": [
        "cours = {} # dictionnaire vide\n",
        "cours[\"physique nucléaire\"] = 9\n",
        "cours[\"dosimétrie\"] = 3\n",
        "cours[\"radiobiologie\"] = 6\n",
        "cours"
      ]
    },
    {
      "cell_type": "markdown",
      "metadata": {
        "id": "DWDbkmjQ6G1M"
      },
      "source": [
        "Ici, on a rempli le dictionnaire avec différentes clés (\"physique nucléaire\", \"dosimétrie\", \"radiobiologie\") auxquelles on a affecté des valeurs (9, 3, 6).\n",
        "\n",
        "Il est possible d'obtenir toutes les valeurs d'un dictionnaire à partie de ses clés."
      ]
    },
    {
      "cell_type": "code",
      "execution_count": null,
      "metadata": {
        "id": "NzOGEci_6G1M"
      },
      "outputs": [],
      "source": [
        "for key in cours:\n",
        "    print(key, cours[key])"
      ]
    },
    {
      "cell_type": "markdown",
      "metadata": {
        "id": "15_bieNX6G1N"
      },
      "source": [
        "## <a name=\"part2\"></a>2. Calcul scientifique avec Python"
      ]
    },
    {
      "cell_type": "markdown",
      "metadata": {
        "id": "MekCqJfb6G1N"
      },
      "source": [
        "### 2.1 Manipulation de vecteurs et de matrices avec NumPy\n",
        "\n",
        "[NumPy](https://numpy.org/) est une bibliothèque sous Python destinée à manipuler des **vecteurs**, des **matrices** ou plus généralement des **tableaux multidimensionnels**.\n",
        "\n",
        "Elle permet d'effectuer des calculs sur ces tableaux, **élément par élément**, via un nouveau type d'objet appelé `array`.\n",
        "\n",
        "Elle intègre également un grand nombre de fonctionnalités mathématiques.\n",
        "\n",
        "<center>\n",
        "<img src=\"https://github.com/marsvn/PythonM2-jour1/blob/main/data/numpy_array_t.png?raw=1\" width=\"600pxl\">\n",
        "</center>"
      ]
    },
    {
      "cell_type": "markdown",
      "metadata": {
        "id": "-elEjkFc6G1N"
      },
      "source": [
        "Voici quelques attributs intéressants pour décrire un objet de type `array` :\n",
        "\n",
        "* `.ndim` renvoie le **nombre de dimensions** (par exemple, 1 pour un vecteur et 2 pour une matrice)\n",
        "* `.shape` renvoie les **dimensions** sous forme d'un tuple. Dans le cas d'une matrice (array à deux dimensions), la première valeur du tuple correspond au nombre de lignes et la seconde au nombre de colonnes\n",
        "* `.size` renvoie le **nombre total d'éléments** contenus dans l'array"
      ]
    },
    {
      "cell_type": "markdown",
      "metadata": {
        "id": "S-B1qn7O6G1O"
      },
      "source": [
        "Importez le module `numpy` pour pouvoir l'utiliser dans votre programme."
      ]
    },
    {
      "cell_type": "code",
      "execution_count": null,
      "metadata": {
        "id": "FTX90Rv46G1O"
      },
      "outputs": [],
      "source": [
        "import numpy as np # On définit ici un nom raccourci (ou alias) pour numpy\n",
        "print(\"Version de NumPy utilisée durant ce TP :\",np.__version__)"
      ]
    },
    {
      "cell_type": "markdown",
      "metadata": {
        "id": "iyxcKpWD6G1O"
      },
      "source": [
        "### 2.2 Vecteurs"
      ]
    },
    {
      "cell_type": "markdown",
      "metadata": {
        "id": "ostMzFwe6G1O"
      },
      "source": [
        "* Définir un vecteur\n"
      ]
    },
    {
      "cell_type": "code",
      "execution_count": null,
      "metadata": {
        "id": "vPmivorb6G1O"
      },
      "outputs": [],
      "source": [
        "# définir un vecteur\n",
        "v = np.array([1, 2, 3])\n",
        "print(v)\n",
        "print(type(v))"
      ]
    },
    {
      "cell_type": "markdown",
      "metadata": {
        "id": "4Gsxljew6G1O"
      },
      "source": [
        "* Addition"
      ]
    },
    {
      "cell_type": "code",
      "execution_count": null,
      "metadata": {
        "id": "qximKuoB6G1P"
      },
      "outputs": [],
      "source": [
        "# définir un premier vecteur\n",
        "a = np.array([1, 2, 3])\n",
        "print(a)\n",
        "# définir un second vecteur\n",
        "b = np.array([1, 2, 3])\n",
        "print(b)\n",
        "# addition\n",
        "c = a + b\n",
        "print(c)"
      ]
    },
    {
      "cell_type": "markdown",
      "metadata": {
        "id": "he_-V39x6G1P"
      },
      "source": [
        "* Soustraction"
      ]
    },
    {
      "cell_type": "code",
      "execution_count": null,
      "metadata": {
        "id": "Aueq2RYo6G1Q"
      },
      "outputs": [],
      "source": [
        "# définir un premier vecteur\n",
        "a = np.array([1, 2, 3])\n",
        "print(a)\n",
        "# définir un second vecteur\n",
        "b = np.array([2.5, 2.5, 2.5])\n",
        "print(b)\n",
        "# soustraction\n",
        "c = a - b\n",
        "print(c)"
      ]
    },
    {
      "cell_type": "markdown",
      "metadata": {
        "id": "JCqWr2W26G1R"
      },
      "source": [
        "* Multiplication (élément par élément)"
      ]
    },
    {
      "cell_type": "code",
      "execution_count": null,
      "metadata": {
        "id": "cU6_0BWe6G1R"
      },
      "outputs": [],
      "source": [
        "# définir un premier vecteur\n",
        "a = np.array([1, 2, 3])\n",
        "print(a)\n",
        "# définir un second vecteur\n",
        "b = np.array([1, 2, 3])\n",
        "print(b)\n",
        "# multiplication\n",
        "c = a * b\n",
        "print(c)"
      ]
    },
    {
      "cell_type": "markdown",
      "metadata": {
        "id": "pyT6kx3X6G1R"
      },
      "source": [
        "* Division"
      ]
    },
    {
      "cell_type": "code",
      "execution_count": null,
      "metadata": {
        "id": "6FPkdyiv6G1R"
      },
      "outputs": [],
      "source": [
        "# définir un premier vecteur\n",
        "a = np.array([1, 2, 3])\n",
        "print(a)\n",
        "# définir un second vecteur\n",
        "b = np.array([1, 2, 3])\n",
        "print(b)\n",
        "# division\n",
        "c = a / b\n",
        "print(c)"
      ]
    },
    {
      "cell_type": "markdown",
      "metadata": {
        "id": "gTPaFTJt6G1R"
      },
      "source": [
        "* Multiplication vecteur-scalaire"
      ]
    },
    {
      "cell_type": "code",
      "execution_count": null,
      "metadata": {
        "id": "2I9aHLYu6G1S"
      },
      "outputs": [],
      "source": [
        "# définir un vecteur\n",
        "a = np.array([1, 2, 3])\n",
        "print(a)\n",
        "# définir un scalaire\n",
        "s = 0.5\n",
        "print(s)\n",
        "# multiplication vecteur-scalaire\n",
        "c = s * a\n",
        "print(c)"
      ]
    },
    {
      "cell_type": "markdown",
      "metadata": {
        "id": "JWZB9QYf6G1S"
      },
      "source": [
        "* Produit scalaire"
      ]
    },
    {
      "cell_type": "code",
      "execution_count": null,
      "metadata": {
        "id": "FzBlHM0X6G1S"
      },
      "outputs": [],
      "source": [
        "# définir un premier vecteur\n",
        "a = np.array([1, 2, 3])\n",
        "print(a)\n",
        "# définir un second vecteur\n",
        "b = np.array([1, 2, 3])\n",
        "print(b)\n",
        "# produit scalaire\n",
        "c = a.dot(b)\n",
        "print(c)"
      ]
    },
    {
      "cell_type": "markdown",
      "metadata": {
        "id": "awd7HSt46G1S"
      },
      "source": [
        "* Accéder aux différents éléments d'un vecteur à l'aide de ses indices (positifs ou négatifs)\n",
        "\n",
        "<center>\n",
        "<img src=\"https://github.com/marsvn/PythonM2-jour1/blob/main/data/array1.png?raw=1\" width=\"400pxl\">\n",
        "<img src=\"https://github.com/marsvn/PythonM2-jour1/blob/main/data/array1bis.png?raw=1\" width=\"400pxl\">\n",
        "</center>\n",
        "\n",
        "* Ne sélectionner qu'une partie d'un vecteur (concept de tranche ou *slicing*)\n",
        "\n",
        "<center>\n",
        "<img src=\"https://github.com/marsvn/PythonM2-jour1/blob/main/data/array3.png?raw=1\" width=\"400pxl\">    \n",
        "<img src=\"https://github.com/marsvn/PythonM2-jour1/blob/main/data/array4.png?raw=1\" width=\"400pxl\">        \n",
        "<img src=\"https://github.com/marsvn/PythonM2-jour1/blob/main/data/array5.png?raw=1\" width=\"400pxl\">      \n",
        "\n"
      ]
    },
    {
      "cell_type": "code",
      "execution_count": null,
      "metadata": {
        "id": "p1FYyyvI6G1S"
      },
      "outputs": [],
      "source": [
        "t = np.arange(-5,5) # Fonction définissant un vecteur d'entiers de -5 à 5 (5 étant exclu)\n",
        "print('Valeurs de t =',t)\n",
        "print('Deuxième élément :',t[1])\n",
        "print('Dernier élément :',t[-1])\n",
        "print('Cinq premiers éléments :',t[:5])"
      ]
    },
    {
      "cell_type": "code",
      "execution_count": null,
      "metadata": {
        "id": "-yllO46t6G1S"
      },
      "outputs": [],
      "source": [
        "f = np.linspace(3,2,23) # Fonction renvoyant 23 éléments régulièrement espacés entre 3 et 2, 3 et 2 inclus\n",
        "print('Valeurs de f =',f)\n",
        "print('Neuvième élément :',f[10])"
      ]
    },
    {
      "cell_type": "code",
      "execution_count": null,
      "metadata": {
        "id": "GLF41Kho6G1T"
      },
      "outputs": [],
      "source": [
        "# Renvoie des éléments d'un array satisfaisant une condition\n",
        "print(t)\n",
        "print([t==0])\n",
        "print(t[t==0])\n",
        "print(t[t<3])\n",
        "\n",
        "print()\n",
        "\n",
        "# Ci-dessous la condition sur t définit certains indices de f\n",
        "print(f[t[t==0]]) # Equivaut à f[0]\n",
        "print(f[t[t<3]])  # Equivaut à np.array([f[-5],f[-4],f[-3],f[-2],f[-1],f[0],f[1],f[2]])"
      ]
    },
    {
      "cell_type": "markdown",
      "metadata": {
        "id": "mTcd1t_C6G1T"
      },
      "source": [
        "### 2.2 Matrices"
      ]
    },
    {
      "cell_type": "markdown",
      "metadata": {
        "id": "1VRJn5_Y6G1T"
      },
      "source": [
        "Avant de continuer, il est important de bien comprendre comment sont organisés les arrays 2D qui représentent des matrices.\n",
        "\n",
        "Il s'agit de tableaux de nombres qui sont organisés en lignes et en colonnes comme le montre la figure ci-dessous.\n",
        "\n",
        "<center>\n",
        "<img src=\"https://github.com/marsvn/PythonM2-jour1/blob/main/data/matrice.png?raw=1\" width=\"400\">\n",
        "</center>"
      ]
    },
    {
      "cell_type": "markdown",
      "metadata": {
        "id": "OWGb10tr6G1T"
      },
      "source": [
        "* Définir une matrice"
      ]
    },
    {
      "cell_type": "code",
      "execution_count": null,
      "metadata": {
        "id": "QPYLo7ov6G1T"
      },
      "outputs": [],
      "source": [
        "# création d'une matrice\n",
        "A = np.array([[1, 2],[3,4], [5, 6]])\n",
        "print(A)\n",
        "print(type(A))"
      ]
    },
    {
      "cell_type": "code",
      "execution_count": null,
      "metadata": {
        "id": "8c15bebo6G1U"
      },
      "outputs": [],
      "source": [
        "print(A.ndim) # Dimension\n",
        "print(A.size) # Nombre total d'éléments\n",
        "print(A.shape) # Nombre de lignes et de colonnes (dans cet ordre)"
      ]
    },
    {
      "cell_type": "markdown",
      "metadata": {
        "id": "xMEj1HG76G1U"
      },
      "source": [
        "**Arithmétique**\n"
      ]
    },
    {
      "cell_type": "markdown",
      "metadata": {
        "id": "QmxyXt486G1U"
      },
      "source": [
        "* Addition"
      ]
    },
    {
      "cell_type": "code",
      "execution_count": null,
      "metadata": {
        "id": "5Z2F8-0d6G1U"
      },
      "outputs": [],
      "source": [
        "# définir une première matrice\n",
        "A = np.array([\n",
        "[1, 2, 3],\n",
        "[4, 5, 6]])\n",
        "print(A)\n",
        "# définir une seconde matrice\n",
        "B = np.array([\n",
        "[1, 2, 3],\n",
        "[4, 5, 6]])src=\"https://github.com/marsvn/PythonM2-jour1/blob/main/data/array2.png?raw=1\"\n",
        "print(B)\n",
        "# addition\n",
        "C = A + B\n",
        "print(C)"
      ]
    },
    {
      "cell_type": "markdown",
      "metadata": {
        "id": "u_N5GnxN6G1U"
      },
      "source": [
        "* Soustraction"
      ]
    },
    {
      "cell_type": "code",
      "execution_count": null,
      "metadata": {
        "id": "ilORPC5X6G1U"
      },
      "outputs": [],
      "source": [
        "# définir une première matrice\n",
        "A = np.array([\n",
        "[1, 2, 3],\n",
        "[4, 5, 6]])\n",
        "print(A)\n",
        "# définir une seconde matrice\n",
        "B = np.array([\n",
        "[0.5, 0.5, 0.5],\n",
        "[0.5, 0.5, 0.5]])\n",
        "print(B)\n",
        "# soustraction\n",
        "C = A - B\n",
        "print(C)"
      ]
    },
    {
      "cell_type": "markdown",
      "metadata": {
        "id": "P57XKbbM6G1U"
      },
      "source": [
        "* Multiplication (produit de Hadamard)"
      ]
    },
    {
      "cell_type": "code",
      "execution_count": null,
      "metadata": {
        "id": "up5Ay-ls6G1U"
      },
      "outputs": [],
      "source": [
        "# définir une première matrice\n",
        "A = np.array([\n",
        "[1, 2, 3],\n",
        "[4, 5, 6]])\n",
        "print(A)\n",
        "# définir une seconde matrice\n",
        "B = np.array([\n",
        "[1, 2, 3],\n",
        "[4, 5, 6]])\n",
        "print(B)\n",
        "# multiplication\n",
        "C = A * B\n",
        "print(C)"
      ]
    },
    {
      "cell_type": "markdown",
      "metadata": {
        "id": "e2EN0HUd6G1U"
      },
      "source": [
        "* Division"
      ]
    },
    {
      "cell_type": "code",
      "execution_count": null,
      "metadata": {
        "id": "3guj9Uzz6G1U"
      },
      "outputs": [],
      "source": [
        "# définir une première matrice\n",
        "A = np.array([\n",
        "[1, 2, 3],\n",
        "[4, 5, 6]])\n",
        "print(A)\n",
        "# définir une seconde matrice\n",
        "B = np.array([\n",
        "[1, 2, 3],\n",
        "[4, 5, 6]])\n",
        "print(B)\n",
        "# division\n",
        "C = A / B\n",
        "print(C)"
      ]
    },
    {
      "cell_type": "markdown",
      "metadata": {
        "id": "MXdT7IqQ6G1U"
      },
      "source": [
        "* Multiplication (produit matriciel)"
      ]
    },
    {
      "cell_type": "code",
      "execution_count": null,
      "metadata": {
        "id": "d9u6yfMh6G1U"
      },
      "outputs": [],
      "source": [
        "# définir une première matrice\n",
        "A = np.array([\n",
        "[1, 2],\n",
        "[3, 4],\n",
        "[5, 6]])\n",
        "print(A)\n",
        "# définir une seconde matrice\n",
        "B = np.array([\n",
        "[1, 2],\n",
        "[3, 4]])\n",
        "print(B)\n",
        "# multiplication matricielle\n",
        "C = A.dot(B)\n",
        "print(C)\n",
        "# multiplication matricielle avec @\n",
        "D = A @ B\n",
        "print(D)"
      ]
    },
    {
      "cell_type": "markdown",
      "metadata": {
        "id": "rTQr1zHs6G1V"
      },
      "source": [
        "* Multiplication matrice-vecteur"
      ]
    },
    {
      "cell_type": "code",
      "execution_count": null,
      "metadata": {
        "id": "fNwa7IzD6G1V"
      },
      "outputs": [],
      "source": [
        "# définir une matrice\n",
        "A = np.array([\n",
        "[1, 2],\n",
        "[3, 4],\n",
        "[5, 6]])\n",
        "print(A)\n",
        "# définir un vecteur\n",
        "B = np.array([0.5, 0.5])\n",
        "print(B)\n",
        "# multiplication vecteur-matrice\n",
        "C = A.dot(B)\n",
        "print(C)"
      ]
    },
    {
      "cell_type": "markdown",
      "metadata": {
        "id": "ZMN7xkjh6G1V"
      },
      "source": [
        "* Multilication matrice-scalaire"
      ]
    },
    {
      "cell_type": "code",
      "execution_count": null,
      "metadata": {
        "id": "3O_6Ysi36G1V"
      },
      "outputs": [],
      "source": [
        "# définir une matrice\n",
        "A = np.array([[1, 2], [3, 4], [5, 6]])\n",
        "print(A)\n",
        "# définir un scalaire\n",
        "b = 0.5\n",
        "print(b)\n",
        "# multiplication matrice-scalaire\n",
        "C = A * b\n",
        "print(C)"
      ]
    },
    {
      "cell_type": "markdown",
      "metadata": {
        "id": "V8Bsk6Fe6G1V"
      },
      "source": [
        "**Types de matrices**"
      ]
    },
    {
      "cell_type": "code",
      "execution_count": null,
      "metadata": {
        "id": "aBo9Tyo66G1V"
      },
      "outputs": [],
      "source": [
        "Z = np.zeros((2,4))\n",
        "print(Z,'\\n')\n",
        "U = np.ones((5,3))\n",
        "print(U)"
      ]
    },
    {
      "cell_type": "markdown",
      "metadata": {
        "id": "A5pOTxl26G1V"
      },
      "source": [
        "* Matrice carrée"
      ]
    },
    {
      "cell_type": "code",
      "execution_count": null,
      "metadata": {
        "id": "n4W7PgCB6G1W"
      },
      "outputs": [],
      "source": [
        "# création d'une matrice carrée aléatoire\n",
        "print(np.random.rand(3,3))"
      ]
    },
    {
      "cell_type": "markdown",
      "metadata": {
        "id": "zx5kaRuU6G1W"
      },
      "source": [
        "* Matrice symétrique"
      ]
    },
    {
      "cell_type": "code",
      "execution_count": null,
      "metadata": {
        "id": "zu_Co6Wh6G1W"
      },
      "outputs": [],
      "source": [
        "# création d'une matrice symétrique aléatoire (et positive)\n",
        "A = np.random.rand(3,3)\n",
        "A= A.dot(A.transpose())\n",
        "print(A)"
      ]
    },
    {
      "cell_type": "markdown",
      "metadata": {
        "id": "Ksvj1kv06G1W"
      },
      "source": [
        "* Matrice identité"
      ]
    },
    {
      "cell_type": "code",
      "execution_count": null,
      "metadata": {
        "id": "Gtorr0Xs6G1W"
      },
      "outputs": [],
      "source": [
        "# matrice identité\n",
        "I = np.identity(3)\n",
        "print(I)\n",
        "# un equivalent\n",
        "J = np.eye(5)\n",
        "print(J)"
      ]
    },
    {
      "cell_type": "markdown",
      "metadata": {
        "id": "qqip094H6G1W"
      },
      "source": [
        "**Opérations sur des matrices**"
      ]
    },
    {
      "cell_type": "markdown",
      "metadata": {
        "id": "TD0N0rgD6G1W"
      },
      "source": [
        "* Transposée"
      ]
    },
    {
      "cell_type": "code",
      "execution_count": null,
      "metadata": {
        "id": "mUG9Ln5d6G1W"
      },
      "outputs": [],
      "source": [
        "# définir une matrice\n",
        "A = np.array([\n",
        "[1, 2],\n",
        "[3, 4],\n",
        "[5, 6]])\n",
        "print(A)\n",
        "# calculer la matrice transposé\n",
        "C = A.transpose()\n",
        "print(C)"
      ]
    },
    {
      "cell_type": "markdown",
      "metadata": {
        "id": "9U6J8FOH6G1W"
      },
      "source": [
        "* Inverse"
      ]
    },
    {
      "cell_type": "code",
      "execution_count": null,
      "metadata": {
        "id": "ST3ujg136G1X"
      },
      "outputs": [],
      "source": [
        "# définir une matrice\n",
        "A = np.array([\n",
        "[1.0, 2.0],\n",
        "[3.0, 4.0]])\n",
        "print(A)\n",
        "# inverse\n",
        "B = np.linalg.inv(A)\n",
        "print(B)\n",
        "# multiplication A * B\n",
        "I = A.dot(B)\n",
        "print(I)"
      ]
    },
    {
      "cell_type": "markdown",
      "metadata": {
        "id": "0qfOcMr16G1X"
      },
      "source": [
        "* Déterminant"
      ]
    },
    {
      "cell_type": "code",
      "execution_count": null,
      "metadata": {
        "id": "w1qYEoLI6G1X"
      },
      "outputs": [],
      "source": [
        "# définir une matrice\n",
        "A = np.array([\n",
        "[1, 2, 3],\n",
        "[4, 5, 6],\n",
        "[7, 8, 9]])\n",
        "print(A)\n",
        "# calculer le determinant\n",
        "B = np.linalg.det(A)\n",
        "print(B)"
      ]
    },
    {
      "cell_type": "markdown",
      "metadata": {
        "id": "POrSrfCI6G1X"
      },
      "source": [
        "* Accéder aux éléments d'une matrice ou n'en sélectionner qu'une partie"
      ]
    },
    {
      "cell_type": "code",
      "execution_count": null,
      "metadata": {
        "id": "KiOO5BQG6G1X"
      },
      "outputs": [],
      "source": [
        "M = np.array([[1,2,3,4,5,6],[10,20,30,40,50,60],[11,22,33,44,55,66]])\n",
        "print(M,'\\n')\n",
        "\n",
        "print(M[1,3],M[2,1],'\\n') # donne les éléments sur la ligne 1/2 et la colonne 3/1 donc ici 40 et 22\n",
        "\n",
        "print(M[1,:],'\\n') # deuxième ligne, donc ici array([10, 20, 30, 40, 50, 60])\n",
        "\n",
        "print(M[:,3],'\\n') # quatrième colonne, donc ici array([4, 40, 44])\n",
        "\n",
        "print(M.max(),'\\n')\n",
        "\n",
        "N = M[0:2,2:] # deux premières lignes et quatre dernières colonnes\n",
        "print(N)"
      ]
    },
    {
      "cell_type": "code",
      "execution_count": null,
      "metadata": {
        "id": "kQWTfQJR6G1X"
      },
      "outputs": [],
      "source": [
        "M[M<4] = M[M<4]+10\n",
        "print(M,'\\n')\n",
        "\n",
        "print(M>23,'\\n') # Retourne True si la condition est satisfaite, False sinon\n",
        "\n",
        "print(M[M>23],'\\n') # Renvoie dans un array les éléments de la matrice satisfaisant la condition"
      ]
    },
    {
      "cell_type": "code",
      "execution_count": null,
      "metadata": {
        "id": "uLhw1vAv6G1X"
      },
      "outputs": [],
      "source": [
        "M[M>50] = 100 # Affecte la valeur 100 aux éléments de la matrice qui satisfont la condition\n",
        "print(M)"
      ]
    },
    {
      "cell_type": "code",
      "execution_count": null,
      "metadata": {
        "id": "t5snF4RD6G1Y"
      },
      "outputs": [],
      "source": [
        "M[M == 22] = 99 # Affecte la valeur 99 aux éléments de la matrice qui satisfont la condition\n",
        "print(M)"
      ]
    },
    {
      "cell_type": "markdown",
      "metadata": {
        "id": "QdfgF4816G1Y"
      },
      "source": [
        "* Accéder aux différents éléments d'une matrice à l'aide de ses indices (positifs ou négatifs)\n",
        "\n",
        "<center>\n",
        "<img src=\"https://github.com/marsvn/PythonM2-jour1/blob/main/data/array2.png?raw=1\" width=\"400\"> <img src=\"https://github.com/marsvn/PythonM2-jour1/blob/main/data/array2bis.png?raw=1\" width=\"400\">\n",
        "</center>\n",
        "\n",
        "* Ne sélectionner qu'une partie d'une matrice (concept de tranche ou *slicing*)\n",
        "\n",
        "<center>\n",
        "<img src='https://github.com/marsvn/PythonM2-jour1/blob/main/data/array7.png?raw=1' width=\"400\">  <img src='https://github.com/marsvn/PythonM2-jour1/blob/main/data/array6.png?raw=1' width=\"400\">    \n",
        "</center>"
      ]
    },
    {
      "cell_type": "markdown",
      "metadata": {
        "id": "qXwaOqpb6G1Y"
      },
      "source": [
        "## <a name=\"part3\"></a> 3. Tracer des courbes en 2D, des histogrammes, des surfaces et afficher des images"
      ]
    },
    {
      "cell_type": "markdown",
      "metadata": {
        "id": "-cPI-64K6G1Y"
      },
      "source": [
        "### 3.1 Matplotlib : librairie permettant de tracer des graphes (dans le sens graphiques)\n",
        "\n",
        "* Inspirée de Matlab au départ\n",
        "* 2 façons de l'utiliser\n",
        " * Soit avec une approche objet : plus compliquée et plus verbeuse mais plus évoluée\n",
        " * Soit via des appels de fonctions avec son sous-module `pyplot` : plus simple. `pyplot` fournit ainsi des raccourcis qui évitent la formulation objet, plus longue à écrire\n",
        "* Permet de faire des graphes qui peuvent être complètement adaptés si besoin. Sur une figure, on peut tracer plusieurs graphes\n",
        "* Permet aussi de dessiner\n",
        "\n",
        "[Matplotlib](https://matplotlib.org/) rend ainsi possible la création de graphes à l'intérieur d'applications complexes autorisées par le langage Python, et ceci sans quitter le langage Python.\n",
        "\n",
        "Matplotlib est une excellente librairie graphique pour générer des figures scientifiques en 2D et 3D. Parmi les avantages de cette librairie, on peut citer :\n",
        "\n",
        "* Une prise en main facile,\n",
        "* Des figures de haute qualité et plusieurs formats PNG, PDF, SVG, EPS etc.\n",
        "* Le texte qui peut être formatté en Latex."
      ]
    },
    {
      "cell_type": "markdown",
      "metadata": {
        "id": "QpoNLtLV6G1Y"
      },
      "source": [
        "Importer le module `matplotlib` pour pouvoir l'utiliser dans votre programme."
      ]
    },
    {
      "cell_type": "code",
      "execution_count": null,
      "metadata": {
        "id": "qbgEe7ak6G1Y",
        "colab": {
          "base_uri": "https://localhost:8080/"
        },
        "outputId": "55a8c975-5807-4996-c62c-db4ee161f31e"
      },
      "outputs": [
        {
          "output_type": "stream",
          "name": "stdout",
          "text": [
            "Version de matplotlib utilisée durant ce TP : 3.10.0\n"
          ]
        }
      ],
      "source": [
        "import matplotlib\n",
        "print(\"Version de matplotlib utilisée durant ce TP :\",matplotlib.__version__)\n",
        "import matplotlib.pyplot as plt\n",
        "# affichage des graphiques sur Jupyter notebook"
      ]
    },
    {
      "cell_type": "markdown",
      "metadata": {
        "id": "yUS_TupE6G1Z"
      },
      "source": [
        "### 3.2 \"Scatter plot\" (nuage de points)\n",
        "\n",
        "Commençons par créer des points à afficher.\n",
        "\n",
        "Pour dessiner un \"scatter plot\" (nuage de points), on utilise la méthode `scatter`.\n"
      ]
    },
    {
      "cell_type": "code",
      "execution_count": null,
      "metadata": {
        "id": "PDRlcL6P6G1a",
        "colab": {
          "base_uri": "https://localhost:8080/",
          "height": 447
        },
        "outputId": "42e23506-90da-4252-b880-ea3a47131949"
      },
      "outputs": [
        {
          "output_type": "execute_result",
          "data": {
            "text/plain": [
              "<matplotlib.collections.PathCollection at 0x7db5c0f04dd0>"
            ]
          },
          "metadata": {},
          "execution_count": 15
        },
        {
          "output_type": "display_data",
          "data": {
            "text/plain": [
              "<Figure size 640x480 with 1 Axes>"
            ],
            "image/png": "[encoded data removed]"
          },
          "metadata": {}
        }
      ],
      "source": [
        "import numpy as np\n",
        "X = np.array([0,1,2,3,4,6,8,10]) # les abscisses\n",
        "Y = np.array([5,8,12,9,7,4,-1,2]) # les ordonnées\n",
        "plt.scatter(X,Y)"
      ]
    },
    {
      "cell_type": "code",
      "execution_count": null,
      "metadata": {
        "id": "DeV2p8NS6G1a",
        "colab": {
          "base_uri": "https://localhost:8080/",
          "height": 447
        },
        "outputId": "34c6d8ce-1dcc-4f34-9b84-1e931d55db3b"
      },
      "outputs": [
        {
          "output_type": "execute_result",
          "data": {
            "text/plain": [
              "<matplotlib.collections.PathCollection at 0x7db5b0134e90>"
            ]
          },
          "metadata": {},
          "execution_count": 16
        },
        {
          "output_type": "display_data",
          "data": {
            "text/plain": [
              "<Figure size 640x480 with 1 Axes>"
            ],
            "image/png": "[encoded data removed]"
          },
          "metadata": {}
        }
      ],
      "source": [
        "xs = np.arange(1,25) # Fonction définissant 24 entiers de 1 à 25 exclu\n",
        "ys = 1/xs\n",
        "# Autrement, en passant par des listes\n",
        "#xs = range(1,25)\n",
        "#ys = [1 / x for x in xs]\n",
        "plt.scatter(xs, ys, marker='X', color='red')"
      ]
    },
    {
      "cell_type": "markdown",
      "metadata": {
        "id": "bBDYc3eX6G1a"
      },
      "source": [
        "On peut combiner ce graphique avec un autre ensemble de points. Créons d'autres points."
      ]
    },
    {
      "cell_type": "code",
      "execution_count": null,
      "metadata": {
        "id": "l_pAfA6L6G1a"
      },
      "outputs": [],
      "source": [
        "zs = 1 / (25 - xs)"
      ]
    },
    {
      "cell_type": "markdown",
      "metadata": {
        "id": "cHwpjiIz6G1a"
      },
      "source": [
        "Afficher les deux ensembles de points dans un même graphique."
      ]
    },
    {
      "cell_type": "code",
      "execution_count": null,
      "metadata": {
        "id": "gVo0l_Xd6G1a"
      },
      "outputs": [],
      "source": [
        "plt.scatter(xs, ys, facecolor = 'purple', edgecolor = 'k')\n",
        "plt.scatter(xs, zs, facecolor = 'silver', edgecolor = 'k')"
      ]
    },
    {
      "cell_type": "markdown",
      "metadata": {
        "id": "4Tw88kAA6G1b"
      },
      "source": [
        "Pour ajouter une légende, des axes et un titre à notre graphique (qui peut inclure du code Latex) :\n"
      ]
    },
    {
      "cell_type": "code",
      "execution_count": null,
      "metadata": {
        "id": "P_adpRH86G1b"
      },
      "outputs": [],
      "source": [
        "plt.scatter(xs, ys, label=\"$y=\\\\frac{1}{x}$\")\n",
        "plt.scatter(xs, zs, label=\"$y=\\\\frac{1}{25 - x}$\")\n",
        "\n",
        "plt.xlabel(\"$x$\")\n",
        "plt.ylabel(\"Valeur\")\n",
        "plt.title(\"Mon premier \\\"scatter plot\\\" \")\n",
        "\n",
        "plt.legend()"
      ]
    },
    {
      "cell_type": "markdown",
      "metadata": {
        "id": "swdNjdXs6G1b"
      },
      "source": [
        "### 3.3 Courbes en 2D"
      ]
    },
    {
      "cell_type": "code",
      "execution_count": null,
      "metadata": {
        "id": "WJ4Ecy5m6G1b"
      },
      "outputs": [],
      "source": [
        "X = np.array([0,1,2,3,4,6,8,10]) # les abscisses\n",
        "Y = np.array([5,8,12,9,7,4,-1,2]) # les ordonnées\n",
        "print(\"Valeurs de X : {} et de Y : {}\".format(X,Y))\n",
        "plt.plot(X,Y)"
      ]
    },
    {
      "cell_type": "code",
      "execution_count": null,
      "metadata": {
        "id": "8Cakgdaj6G1b"
      },
      "outputs": [],
      "source": [
        "X = np.linspace(0,70,8) # Fonction définissant 8 entiers d'intervalles réguliers entre 0 et 70\n",
        "print(\"Valeurs de X :\", X)\n",
        "plt.plot(X,Y,'--',color='green',lw=4)"
      ]
    },
    {
      "cell_type": "code",
      "execution_count": null,
      "metadata": {
        "id": "4AhUeA9x6G1b"
      },
      "outputs": [],
      "source": [
        "t = np.linspace(-4*np.pi,4*np.pi)\n",
        "f = np.sin(t)\n",
        "plt.plot(t,f,'o-')\n",
        "t = np.arange(-4*np.pi,4*np.pi,0.01)\n",
        "f = np.sin(t)\n",
        "plt.plot(t,f,'-')\n",
        "g = np.cos(t)\n",
        "plt.plot(t,g,'r')"
      ]
    },
    {
      "cell_type": "code",
      "execution_count": null,
      "metadata": {
        "id": "F7rMKsuB6G1b"
      },
      "outputs": [],
      "source": [
        "t = np.arange(-5,5,0.1)\n",
        "f = t\n",
        "plt.plot(t,f,'o')\n",
        "f = t**2\n",
        "plt.plot(t,f,'o',markerfacecolor='silver',markeredgecolor='orange')\n",
        "f = t**3\n",
        "plt.plot(t,f,'o',markerfacecolor='silver',markeredgecolor='purple')\n",
        "plt.xlim(-8,8)"
      ]
    },
    {
      "cell_type": "code",
      "execution_count": null,
      "metadata": {
        "id": "VA2Syja_6G1c"
      },
      "outputs": [],
      "source": [
        "t = np.arange(0,5,0.01)\n",
        "f = np.sqrt(t)\n",
        "plt.plot(t,f,color='purple')\n",
        "plt.xlim(left=0,right=5)\n",
        "plt.ylim(bottom=0,top=2.5)\n",
        "plt.xlabel('abscisse')\n",
        "plt.ylabel('ordonnée = racine carrée')\n",
        "plt.title('Courbe de la racine carrée')\n"
      ]
    },
    {
      "cell_type": "code",
      "execution_count": null,
      "metadata": {
        "id": "dvjBbnzW6G1c"
      },
      "outputs": [],
      "source": [
        "import warnings\n",
        "warnings.filterwarnings(\"ignore\") # Suppression des messages de \"warning\"\n",
        "\n",
        "t = np.arange(-20,20)\n",
        "print(\"Valeurs de t :\", t)\n",
        "f = np.sin(t)/t\n",
        "\n",
        "plt.plot(t,f)\n",
        "\n",
        "print(t[20],f[20])  # Pour t=0 (19ème élément de l'array t), f vaut NaN\n",
        "print(f[np.where(t==0)]) # Si on ne connait pas l'indice, on le recherche avec la where de numpy\n",
        "\n",
        "f[np.where(t==0)] = 1 # On remplace le NaN par la valeur 1\n",
        "print(t[20],f[20]) # On vérifie"
      ]
    },
    {
      "cell_type": "code",
      "execution_count": null,
      "metadata": {
        "id": "itqY5bcY6G1c"
      },
      "outputs": [],
      "source": [
        "plt.plot(t,f)"
      ]
    },
    {
      "cell_type": "code",
      "execution_count": null,
      "metadata": {
        "id": "fa4nD4et6G1c"
      },
      "outputs": [],
      "source": [
        "t = np.arange(-20,20,0.1) # On augmente le nombre de valeurs de t\n",
        "f = np.sin(t)/t\n",
        "\n",
        "f[np.where(t==0)] = 1\n",
        "\n",
        "plt.plot(t,f)\n",
        "plt.xlabel('Abscisse')\n",
        "plt.ylabel('Ordonnée =' + r'$\\frac{sin(x)}{x}$')\n",
        "plt.title('Courbe du sinus cardinal')"
      ]
    },
    {
      "cell_type": "markdown",
      "metadata": {
        "id": "vR139DI_6G1c"
      },
      "source": [
        "### 3.4 Histogramme"
      ]
    },
    {
      "cell_type": "markdown",
      "metadata": {
        "id": "KfJWkosn6G1c"
      },
      "source": [
        "Commençons par générer des points de manière aléatoire à partir d'une loi de distribution."
      ]
    },
    {
      "cell_type": "markdown",
      "metadata": {
        "id": "Halj9Y6B6G1c"
      },
      "source": [
        "* Loi exponentielle"
      ]
    },
    {
      "cell_type": "code",
      "execution_count": null,
      "metadata": {
        "id": "6A2Mv7oM6G1c"
      },
      "outputs": [],
      "source": [
        "import random  # Module permettant de générer des nombres aléatoirement\n",
        "\n",
        "nombre_de_points = 50000 # on définit un nombre de points\n",
        "\n",
        "d = np.zeros(nombre_de_points) # on initialise avec des zéros un vecteur d de la taille du nombre de points\n",
        "\n",
        "# La boucle suivante permet d'affecter à chaque élément du vecteur d\n",
        "# une valeur au hasard issue d'une loi de distribution exponentielle de paramètre lambda = 0.5\n",
        "for i in range(nombre_de_points):\n",
        "    d[i] = random.expovariate(lambd=.5)"
      ]
    },
    {
      "cell_type": "markdown",
      "metadata": {
        "id": "vc-GPN9L6G1d"
      },
      "source": [
        "Dessinons maintenant l'histogramme correspondant."
      ]
    },
    {
      "cell_type": "code",
      "execution_count": null,
      "metadata": {
        "id": "sdfLXfdy6G1d"
      },
      "outputs": [],
      "source": [
        "h = plt.hist(d, edgecolor='black', color='blue',align='left')"
      ]
    },
    {
      "cell_type": "markdown",
      "metadata": {
        "id": "785mZaAF6G1d"
      },
      "source": [
        "Nous pouvons changer le nombre de rectangles (*bins* en anglais) et les normaliser (afficher des probabilités entre 0 et 1 au lieu de fréquences)"
      ]
    },
    {
      "cell_type": "code",
      "execution_count": null,
      "metadata": {
        "id": "c-3AaV9g6G1d"
      },
      "outputs": [],
      "source": [
        "plt.hist(d, bins=35, density=True, edgecolor='black', color='blue',align='left') ;"
      ]
    },
    {
      "cell_type": "markdown",
      "metadata": {
        "id": "3cxkGsAE6G1d"
      },
      "source": [
        "Il est connu qu'une loi exponentielle  de paramètre $\\lambda$ a une fonction de densité de probabilité qui s'écrit $f(x) = \\lambda e^{-\\lambda x}$.\n",
        "\n",
        "On peut superposer la courbe de la densité de probabilité correspondante sur le graphique."
      ]
    },
    {
      "cell_type": "code",
      "execution_count": null,
      "metadata": {
        "id": "aZrlM2tG6G1d"
      },
      "outputs": [],
      "source": [
        "import math # Module donnant accès à la plupart des fonctions mathématiques de base\n",
        "\n",
        "lambd = 0.5\n",
        "\n",
        "x = np.arange(15) # on définit un vecteur de 15 valeurs d'entiers entre 0 et 14 pour les abscisses\n",
        "y = lambd * np.exp(- lambd * x)\n",
        "\n",
        "plt.hist(d, bins=35, density=True, edgecolor='black', color='blue', align='left')\n",
        "plt.plot(x, y, color='red');"
      ]
    },
    {
      "cell_type": "markdown",
      "metadata": {
        "id": "yZwu_U1i6G1d"
      },
      "source": [
        "* Loi normale"
      ]
    },
    {
      "cell_type": "code",
      "execution_count": null,
      "metadata": {
        "id": "HQORBlNo6G1d"
      },
      "outputs": [],
      "source": [
        "n = np.random.randn(100000) # Ici, on génère 100000 échantillons issus de la distribution normale. Par défaut, si on ne précise rien, mu=0 et variance=1\n",
        "\n",
        "def DensiteNormale(x,mu,sigma):\n",
        "    return 1/(sigma * np.sqrt(2*np.pi))*np.exp(-0.5*((x-mu)/sigma)**2)\n",
        "\n",
        "lx = np.linspace(-5,5,200)\n",
        "ly = DensiteNormale(lx,0,1)\n",
        "\n",
        "plt.subplots(1, 3, figsize=(14,4))\n",
        "plt.subplot(131)\n",
        "plt.hist(n, color='blue', edgecolor='black') # nombre de bins par défaut\n",
        "plt.xlim(min(n),max(n))\n",
        "plt.title(\"Histogramme par défaut\")\n",
        "plt.subplot(132)\n",
        "plt.hist(n, cumulative=True, color='blue', edgecolor='black')\n",
        "plt.xlim(min(n),max(n))\n",
        "plt.title(\"Histogramme cumulé\")\n",
        "plt.subplot(133)\n",
        "plt.hist(n, bins=30, density=True, color='blue', edgecolor='black', label ='loi normale') # on fixe le nombre de bins à 30 et on normalise l'histogramme\n",
        "plt.plot(lx, ly,'r', label = ' fonction de densité de la loi normale')\n",
        "plt.legend(loc='upper right')\n",
        "plt.xlim(min(n),max(n))\n",
        "plt.title(\"Histogramme normalisé (#bins = 30)\");"
      ]
    },
    {
      "cell_type": "markdown",
      "metadata": {
        "id": "PPsbUv536G1d"
      },
      "source": [
        "### 3.5 Courbes en 3D"
      ]
    },
    {
      "cell_type": "code",
      "execution_count": null,
      "metadata": {
        "id": "3HAinNLr6G1d"
      },
      "outputs": [],
      "source": [
        "from mpl_toolkits.mplot3d import Axes3D\n",
        "\n",
        "t = np.arange(0,1000)\n",
        "\n",
        "T1 = 600\n",
        "T2 = 300\n",
        "\n",
        "wo = 0.05\n",
        "# Equations de Bloch\n",
        "# Relaxation longitudinale\n",
        "Mz = 1-np.exp(-t/T1)\n",
        "# Relaxation transversale\n",
        "Mxy = np.exp(-t/T2)\n",
        "# Mxy tourne autour de l'axe z avec la fréquence angulaire ω0 = γB0\n",
        "# Elle peut se décomposer en deux quantités observables Mx et My\n",
        "Mx = Mxy*np.cos(wo*t)\n",
        "My = Mxy*np.sin(wo*t)\n",
        "\n",
        "fig = plt.figure(figsize=(10,8))\n",
        "ax = fig.gca(projection='3d')\n",
        "ax.plot(Mx, My, Mz, 'o',markerfacecolor='white',markeredgecolor='coral')\n",
        "#ax.legend()\n",
        "ax.set_title(\"Retour à l'équilibre de l'aimantation en fonction des différentes composantes selon x, y et z\")\n",
        "ax.view_init(azim=60)"
      ]
    },
    {
      "cell_type": "markdown",
      "metadata": {
        "id": "DGlQ-UKS6G1d"
      },
      "source": [
        "### 3.6 Surfaces"
      ]
    },
    {
      "cell_type": "markdown",
      "metadata": {
        "id": "Ltegw0_E6G1d"
      },
      "source": [
        "Pour créer des courbes, on se servait d’une variable par exemple `t` :\n",
        "`t = np.arange(0,100)`\n",
        "\n",
        "Cette variable nous indique la valeur de `t` en chaque point.\n",
        "\n",
        "Pour créer des surfaces, on aura besoin de deux variables (par exemple `x` et `y`) et on aura besoin de connaître les valeurs de ces variables sur tous les points de la surface (donc la valeur de `x` pour chaque point quand on fait varier `x` et `y` ainsi que la valeur de `y` pour chaque point quand on fait varier `x` et `y`).\n",
        "\n",
        "La visualisation d'une fonction de deux variables `f(x,y)` est peu plus compliquée à gérer...\n",
        "\n",
        "Pour visualiser une fonction $z = f(x, y)$ :\n",
        "\n",
        "* Il faut d’abord générer des tableaux X et Y (noms arbitraires) qui contiennent les valeurs des abscisses et ordonnées pour chacun des points grâce à la fonction `meshgrid()`.\n",
        "\n",
        "* Ensuite calculer la valeur de z pour chacun de ces points.\n",
        "\n",
        "`meshgrid()` permet de générer un maillage."
      ]
    },
    {
      "cell_type": "markdown",
      "metadata": {
        "id": "8ZSU-nN86G1d"
      },
      "source": [
        "* **Exemple :** fonction sinus"
      ]
    },
    {
      "cell_type": "code",
      "execution_count": null,
      "metadata": {
        "id": "_UVXvKsa6G1e"
      },
      "outputs": [],
      "source": [
        "x = np.arange(-10, 10, 0.1)\n",
        "y = np.arange(-15, 15, 0.1)\n",
        "X, Y = np.meshgrid(x, y) # permet de générer 2 matrices, l'une avec les abscisses, l'autre avec les ordonnées\n",
        "\n",
        "# Ainsi, on peut évaluer une fonction sur une matrice de valeurs\n",
        "z = np.sin(X)\n",
        "plt.imshow(z,extent=[-10,10,-15,15])\n",
        "plt.colorbar()\n",
        "\n",
        "fig = plt.figure(figsize=(8,6))\n",
        "ax = fig.add_subplot(projection='3d')\n",
        "surf = ax.plot_surface(X,Y,z,cmap='viridis')\n",
        "ax.set_xlabel('x')\n",
        "ax.set_ylabel('y')\n",
        "ax.set_zlabel('z')"
      ]
    },
    {
      "cell_type": "markdown",
      "metadata": {
        "id": "DgTBfNAQ6G1e"
      },
      "source": [
        "* **Exemple :** fonction cosinus"
      ]
    },
    {
      "cell_type": "code",
      "execution_count": null,
      "metadata": {
        "id": "bp7jYOr66G1e"
      },
      "outputs": [],
      "source": [
        "fig = plt.figure(figsize=(8,6))\n",
        "ax = fig.add_subplot(projection='3d')\n",
        "z = 0.5*np.cos(0.3*Y)\n",
        "surf = ax.plot_surface(X,Y,z,cmap='viridis')"
      ]
    },
    {
      "cell_type": "markdown",
      "metadata": {
        "id": "_BAnuEjK6G1e"
      },
      "source": [
        "* **Exemple :** somme d'une fonction sinus et cosinus"
      ]
    },
    {
      "cell_type": "code",
      "execution_count": null,
      "metadata": {
        "id": "3yTenUsV6G1e"
      },
      "outputs": [],
      "source": [
        "fig = plt.figure(figsize=(8,6))\n",
        "ax = fig.add_subplot(projection='3d')\n",
        "z=np.sin(X)+0.5*np.cos(0.3*Y)\n",
        "surf = ax.plot_surface(X,Y,z,cmap='viridis')"
      ]
    },
    {
      "cell_type": "markdown",
      "metadata": {
        "id": "KGu4t1DD6G1e"
      },
      "source": [
        "* **Exemple :** fonction gaussienne 2D"
      ]
    },
    {
      "cell_type": "code",
      "execution_count": null,
      "metadata": {
        "id": "w2orXSsi6G1e"
      },
      "outputs": [],
      "source": [
        "fig = plt.figure(figsize=(8,6))\n",
        "ax = fig.add_subplot(projection='3d')\n",
        "\n",
        "x = np.arange(-15, 15, 0.1)\n",
        "y = np.arange(-15, 15, 0.1)\n",
        "\n",
        "X, Y = np.meshgrid(x, y)\n",
        "\n",
        "# Ici, on peut évaluer une fonction de 2 variables\n",
        "z=np.exp(-X*X/50-Y*Y/50)\n",
        "\n",
        "surf = ax.plot_surface(X, Y, z, cmap='viridis', linewidth=0.1, edgecolor='gray', antialiased=True)\n",
        "\n",
        "#ax.view_init(azim=45)"
      ]
    },
    {
      "cell_type": "markdown",
      "source": [
        "----\n",
        "## Exercice 3 - Filtrage d'un signal ECG\n",
        "\n",
        "----\n",
        "La convolution est une opération qui à partir d’un tableau de nombres en entrée ($f$) et d’un noyau ($g$) produit un nouveau tableau de nombres en sortie.\n",
        "\n",
        "<img src=\"https://github.com/marsvn/PythonM2-jour1/blob/main/data/convol1D-2.png?raw=1\" width=700>\n",
        "\n",
        "Mathématiquement, le produit de convolution s'écrit : $\\displaystyle (f \\ast g)[n]= \\sum_{m=-\\infty}^{\\infty} f[n-m] \\times g[m]$\n",
        "\n",
        "Le calcul du tableau de sortie se fait par des opérations très simples.\n",
        "* On calcule le tableau de sortie terme par terme :\n",
        "    * on multiplie terme à terme les éléments du tableau d’entrée et ceux du noyau,\n",
        "    * la somme de tous ces produits correspond au terme du tableau de sortie.\n",
        "\n",
        "<img src=\"https://github.com/marsvn/PythonM2-jour1/blob/main/data/convol1D.png?raw=1\" width=700>\n",
        "\n",
        "Pour le calcul des coefficients sur les bords, on rajoute des zéros virtuels à gauche et à droite du tableau d’entrée.\n",
        "\n",
        "<img src=\"https://github.com/marsvn/PythonM2-jour1/blob/main/data/pad.png?raw=1\" width=550>"
      ],
      "metadata": {
        "id": "FVukkyx9WtaL"
      }
    },
    {
      "cell_type": "markdown",
      "source": [
        "**Moyenne mobile**. La convolution par le noyau $\\displaystyle [\\frac{1}{3}, \\frac{1}{3}, \\frac{1}{3}]$ revient à effectuer une moyenne mobile sur trois termes.\n",
        "\n",
        "Plus généralement, le motif de longueur $n$ : $\\displaystyle \\frac{1}{n}[1, 1, 1, . . . , 1]$ correspond à une moyenne mobile sur $n$ termes.\n",
        "\n",
        "Cela permet de « lisser » des données et de supprimer du « bruit » (i.e. opération de « filtrage » du signal)."
      ],
      "metadata": {
        "id": "IoVcDraXYmnw"
      }
    },
    {
      "cell_type": "markdown",
      "source": [
        "\n",
        "1. Définir une fonction *convolve_1d* qui caclule la convolution 1D d'un signal (attention à la gestion des bords)\n",
        "2. Importer le fichier ecg.txt sous forme d'un numpy array (<code>np.loadtxt</code>)\n",
        "3. Filtrer le signal correspondant à l'aide d'une moyenne mobile et l'afficher avant et après filtrage"
      ],
      "metadata": {
        "id": "fFP4aWP1YvLv"
      }
    },
    {
      "cell_type": "markdown",
      "metadata": {
        "id": "tZuP_HQT6G1f"
      },
      "source": [
        "## <a name=\"part4\"></a> 4. Ajuster des courbes"
      ]
    },
    {
      "cell_type": "markdown",
      "metadata": {
        "id": "2oOrat7V6G1f"
      },
      "source": [
        "### Scipy : librairie d'algorithmes scientifiques sous Python\n",
        "\n",
        "[SciPy](https://www.scipy.org/) est un projet visant à unifier et fédérer un ensemble de bibliothèques Python à usage scientifique. Scipy utilise les tableaux et matrices du module NumPy.\n",
        "\n",
        "\n",
        "Les algorithmes et les fonctions de Scipy couvrent :\n",
        "\n",
        "    Fonctions spéciales (scipy.special)\n",
        "    Intégration (scipy.integrate)\n",
        "    Optimization (scipy.optimize)\n",
        "    Interpolation (scipy.interpolate)\n",
        "    Transformées de Fourier (scipy.fftpack)\n",
        "    Traitement du signal (scipy.signal)\n",
        "    Algèbre linéaire (scipy.linalg)\n",
        "    Statistiques (scipy.stats)\n",
        "\n",
        "Chacun des ces sous-modules fournit un ensemble de fonctions et de classes qui peuvent être utilisées pour résoudre des problèmes variés en lien avec le calcul scientifique."
      ]
    },
    {
      "cell_type": "markdown",
      "metadata": {
        "id": "TLH4ODAR6G1f"
      },
      "source": [
        "Exemple d'ajustement de courbes avec le sous-module `optimize` de SciPy."
      ]
    },
    {
      "cell_type": "markdown",
      "metadata": {
        "id": "tT39_s4y6G1f"
      },
      "source": [
        "* Créez (entre les temps `t = 0` et `100`) une fonction y exponentielle décroissante dont la valeur vaut `50` en `0` et la période vaut `30`\n",
        "\n",
        "* Représentez là sur un graphique\n",
        "\n",
        "* Créez la fonction yn qui correspond à la fonction y à laquelle on a ajouté du bruit gaussien d’écart-type 5 : `yn = y + randn(size(y))`\n",
        "\n",
        "* Représentez la fonction bruitée sur le même graphique mais avec une couleur différente."
      ]
    },
    {
      "cell_type": "code",
      "execution_count": null,
      "metadata": {
        "id": "rC3BebEC6G1f",
        "colab": {
          "base_uri": "https://localhost:8080/",
          "height": 430
        },
        "outputId": "4313dab3-0437-434b-bcda-33bc1f6eab05"
      },
      "outputs": [
        {
          "output_type": "display_data",
          "data": {
            "text/plain": [
              "<Figure size 640x480 with 1 Axes>"
            ],
            "image/png": "[encoded data removed]"
          },
          "metadata": {}
        }
      ],
      "source": [
        "import numpy as np\n",
        "import matplotlib.pyplot as plt\n",
        "\n",
        "plt.rcParams['axes.facecolor']='#DEDEDE'\n",
        "plt.rcParams['axes.axisbelow']=True\n",
        "\n",
        "t = np.arange(0,100)\n",
        "\n",
        "y = 50 * np.exp(-t*(np.log(2)/30))\n",
        "\n",
        "yn = y + np.random.randn(len(y))\n",
        "\n",
        "plt.plot(t,y,'b')\n",
        "plt.scatter(t,yn,marker='o',color='red')\n",
        "plt.grid(color='w', linestyle='--', linewidth=1)"
      ]
    },
    {
      "cell_type": "code",
      "execution_count": null,
      "metadata": {
        "id": "B-8B5GSB6G1g"
      },
      "outputs": [],
      "source": [
        "import warnings\n",
        "warnings.filterwarnings(\"ignore\")"
      ]
    },
    {
      "cell_type": "markdown",
      "metadata": {
        "id": "gDiVHX5n6G1g"
      },
      "source": [
        "Calcul et affichage des valeurs des paramètres de la fonction"
      ]
    },
    {
      "cell_type": "code",
      "execution_count": null,
      "metadata": {
        "id": "C2ul6XY36G1g",
        "colab": {
          "base_uri": "https://localhost:8080/"
        },
        "outputId": "d4c217a3-9c2d-4f1d-8e25-965957aa8a57"
      },
      "outputs": [
        {
          "output_type": "stream",
          "name": "stdout",
          "text": [
            "Valeurs des paramètres de la fonction :\n",
            "a = 49.80796483599954\n",
            "b = 0.022991689823240933\n",
            "On retrouve bien une période de 30.147726673803852\n"
          ]
        }
      ],
      "source": [
        "from scipy import optimize\n",
        "\n",
        "def test_func(x, a, b):\n",
        "    return a * np.exp(-b * x)\n",
        "\n",
        "params, params_covariance = optimize.curve_fit(test_func, t, yn)\n",
        "\n",
        "print(\"Valeurs des paramètres de la fonction :\")\n",
        "print(\"a =\",params[0])\n",
        "print(\"b =\",params[1])\n",
        "print(\"On retrouve bien une période de\", np.log(2)/params[1])\n",
        "sigma_err = np.sqrt(np.diag(params_covariance)) # Standard deviation errors on the parameters."
      ]
    },
    {
      "cell_type": "markdown",
      "metadata": {
        "id": "W_-wPclx6G1g"
      },
      "source": [
        "Calcul des résidus et du $r^{2}$"
      ]
    },
    {
      "cell_type": "code",
      "execution_count": null,
      "metadata": {
        "id": "TetOvj-E6G1g",
        "colab": {
          "base_uri": "https://localhost:8080/"
        },
        "outputId": "86bc2887-4200-4926-d72d-6f5ac95969d7"
      },
      "outputs": [
        {
          "output_type": "stream",
          "name": "stdout",
          "text": [
            "r^2 = 0.9935665815350522\n"
          ]
        }
      ],
      "source": [
        "residus = yn - test_func(t, *params)\n",
        "ss_res = np.sum(residus**2) # Somme des carrés des écarts résiduelle\n",
        "ss_tot = np.sum((yn-np.mean(yn))**2) # Somme des carrés des écarts totale\n",
        "r_2 = 1 - (ss_res / ss_tot) #r2\n",
        "print('r^2 =',r_2)"
      ]
    },
    {
      "cell_type": "markdown",
      "metadata": {
        "id": "BSC08Ef66G1h"
      },
      "source": [
        "Calcul de l'intervalle de confiance des valeurs des paramètres de la fonction"
      ]
    },
    {
      "cell_type": "code",
      "source": [
        "!pip install uncertainties"
      ],
      "metadata": {
        "id": "mGgKH5mS9C2G",
        "colab": {
          "base_uri": "https://localhost:8080/"
        },
        "outputId": "937b152f-4795-43a8-c9c9-c6ca01a50ae5"
      },
      "execution_count": null,
      "outputs": [
        {
          "output_type": "stream",
          "name": "stdout",
          "text": [
            "Collecting uncertainties\n",
            "  Downloading uncertainties-3.2.2-py3-none-any.whl.metadata (6.9 kB)\n",
            "Downloading uncertainties-3.2.2-py3-none-any.whl (58 kB)\n",
            "\u001b[2K   \u001b[90m━━━━━━━━━━━━━━━━━━━━━━━━━━━━━━━━━━━━━━━━\u001b[0m \u001b[32m58.3/58.3 kB\u001b[0m \u001b[31m2.4 MB/s\u001b[0m eta \u001b[36m0:00:00\u001b[0m\n",
            "\u001b[?25hInstalling collected packages: uncertainties\n",
            "Successfully installed uncertainties-3.2.2\n"
          ]
        }
      ]
    },
    {
      "cell_type": "code",
      "execution_count": null,
      "metadata": {
        "id": "nR7Ek37A6G1h",
        "colab": {
          "base_uri": "https://localhost:8080/"
        },
        "outputId": "9f92ba41-b9c4-4bea-c81e-de05da27fc84"
      },
      "outputs": [
        {
          "output_type": "stream",
          "name": "stdout",
          "text": [
            "Intervalle de confiance de a et b :\n",
            "a = 49.81+/-0.32\n",
            "b = 0.02299+/-0.00023\n"
          ]
        }
      ],
      "source": [
        "from uncertainties import ufloat\n",
        "a = ufloat(params[0], sigma_err[0])\n",
        "b = ufloat(params[1], sigma_err[1])\n",
        "text_res = \"Intervalle de confiance de a et b :\\na = {}\\nb = {}\".format(a, b)\n",
        "print(text_res)"
      ]
    },
    {
      "cell_type": "code",
      "execution_count": null,
      "metadata": {
        "id": "wCfW6qsG6G1s",
        "colab": {
          "base_uri": "https://localhost:8080/",
          "height": 430
        },
        "outputId": "c62da43c-1b27-4a68-ca19-ef5d282e3f55"
      },
      "outputs": [
        {
          "output_type": "display_data",
          "data": {
            "text/plain": [
              "<Figure size 640x480 with 1 Axes>"
            ],
            "image/png": "[encoded data removed]"
          },
          "metadata": {}
        }
      ],
      "source": [
        "plt.figure()\n",
        "#plt.scatter(t, yn,color='blue',edgecolor='black',marker='x',label='Données')\n",
        "plt.scatter(t,yn,facecolor = 'silver',edgecolor = 'k', s = 10, alpha = 1)\n",
        "#plt.plot(t, test_func(t, params[0], params[1]),'b--')\n",
        "plt.plot(t, test_func(t, *params), 'black')\n",
        "bound_upper = test_func(t, *(params + 3*sigma_err))\n",
        "bound_lower = test_func(t, *(params - 3*sigma_err))\n",
        "# plotting the confidence intervals\n",
        "plt.fill_between(t, bound_lower, bound_upper,color = 'red')\n",
        "plt.grid(color='w', linestyle='--', linewidth=1)"
      ]
    },
    {
      "cell_type": "markdown",
      "metadata": {
        "id": "KUV0mU0m6G1t"
      },
      "source": [
        "## <a name=\"part5\"></a> 5. Afficher une image"
      ]
    },
    {
      "cell_type": "markdown",
      "metadata": {
        "id": "QrCb5bGI6G1t"
      },
      "source": [
        "Pour lire et afficher une image 2D dont le format est standard (.png, .jpg etc.), on utilise les fonctions `imread` et `imshow` de matplotlib.\n",
        "\n",
        "La fonction`imread` de Matplotlib renvoie un array numpy dont les dimensions dépendent du type d'image (N&B, RGB ou RGBA)."
      ]
    },
    {
      "cell_type": "code",
      "execution_count": null,
      "metadata": {
        "id": "2QrjO3er6G1t"
      },
      "outputs": [],
      "source": [
        "import matplotlib.pyplot as plt\n",
        "\n",
        "img = plt.imread('/content/PythonM2-jour1/data/main-radio.jpg')\n",
        "print(\"Dimensions de l'image :\", img.ndim)\n",
        "print(\"Largeur de l'image (i.e. nombre de colonnes) :\", img.shape[1])\n",
        "print(\"Hauteur de l'image (i.e. nombre de lignes) :\", img.shape[0])\n",
        "plt.imshow(img, cmap='gray');"
      ]
    },
    {
      "cell_type": "code",
      "execution_count": null,
      "metadata": {
        "id": "O3asj_Zy6G1t"
      },
      "outputs": [],
      "source": [
        "img = plt.imread('/content/PythonM2-jour1/data/marguerite.jpg')\n",
        "print(\"Dimensions de l'image :\", img.ndim)\n",
        "print(\"Largeur de l'image (i.e. nombre de colonnes) :\", img.shape[1])\n",
        "print(\"Hauteur de l'image (i.e. nombre de lignes) :\", img.shape[0])\n",
        "print(\"Profondeur de l'image :\", img.shape[2])\n",
        "plt.imshow(img);"
      ]
    },
    {
      "cell_type": "code",
      "execution_count": null,
      "metadata": {
        "id": "wyz0oaqQ6G1t"
      },
      "outputs": [],
      "source": [
        "irm = plt.imread('/content/PythonM2-jour1/data/MRI.jpg')\n",
        "print(\"Dimensions de l'image : \", irm.ndim)\n",
        "print(\"Taille de l'image : \", irm.shape)\n",
        "print('Nombre de colonnes :',irm.shape[1])\n",
        "print('Nombre de lignes :',irm.shape[0])\n",
        "print('Nombre total de pixels :',irm.size)\n",
        "plt.imshow(irm,cmap='gray')"
      ]
    },
    {
      "cell_type": "code",
      "execution_count": null,
      "metadata": {
        "id": "LYXfXKVu6G1u"
      },
      "outputs": [],
      "source": [
        "# Suppression des axes et changement de palette de couleurs\n",
        "plt.imshow(irm,cmap='jet')\n",
        "plt.axis('off')"
      ]
    },
    {
      "cell_type": "markdown",
      "metadata": {
        "id": "T0Rrnotf6G1u"
      },
      "source": [
        "---\n",
        "**Question 2.** Que se passe-t-il ci-dessous ?\n",
        "\n",
        "---"
      ]
    },
    {
      "cell_type": "code",
      "execution_count": null,
      "metadata": {
        "id": "rKuivQpd6G1u"
      },
      "outputs": [],
      "source": [
        "plt.subplots(2,2,figsize=(12,12))\n",
        "plt.subplot(221)\n",
        "plt.imshow(irm,cmap='gray')\n",
        "plt.subplot(222)\n",
        "plt.imshow(irm[::3,::3],cmap='gray')\n",
        "plt.subplot(223)\n",
        "plt.imshow(irm[70:170,70:170],cmap='gray')\n",
        "plt.subplot(224)\n",
        "plt.imshow(irm[70:170:3,70:170:3],cmap='gray')\n",
        "plt.subplots_adjust(wspace=0, hspace=0.2)"
      ]
    },
    {
      "cell_type": "markdown",
      "metadata": {
        "id": "KbdFbcfc6G1u"
      },
      "source": [
        "## <a name=\"part6\"></a> 6. Tracer une région d'intérêt (ROI)"
      ]
    },
    {
      "cell_type": "markdown",
      "metadata": {
        "id": "VKO0Flb86G1v"
      },
      "source": [
        "L’analyse d’images se compose d'une séquence d’opérations permettant d’extraire des mesures quantitatives objectives d’une image numérique :\n",
        "1. la **segmentation**, manuelle, semi-automatique ou automatique, qui spécifie les structures d’intérêt de l’image et les sauvegarde sous la forme de masques binaires ou de cartes de labels\n",
        "2. l’**extraction de mesures** s’appuyant sur les images de segmentation\n",
        "3. l’**analyse des données** qui relève plus du domaine des statistiques que de l’analyse d’images à proprement parler\n",
        "\n",
        "Dans les cellules qui suivent, nous allons vous présenter 4 méthodes différentes pour définir les régions d'intérêt d'un examen de scintigraphie rénale."
      ]
    },
    {
      "cell_type": "markdown",
      "metadata": {
        "id": "nuuVN-je6G1v"
      },
      "source": [
        "*   <a href=\"#part1\">Première méthode : définir une zone rectangulaire dans l'image à partir de ses coordonnées</a>\n",
        "*   <a href=\"#part2\">Deuxieme méthode : définir manuellement une région d'intérêt à l'aide du module `roipoly`</a>\n",
        "*   <a href=\"#part3\">Troisième méthode : définir une région d'intérêt à l'aide d'un seuillage</a>"
      ]
    },
    {
      "cell_type": "code",
      "source": [
        "!pip install SimpleITK"
      ],
      "metadata": {
        "id": "xfH898Ai9Wc0"
      },
      "execution_count": null,
      "outputs": []
    },
    {
      "cell_type": "code",
      "execution_count": null,
      "metadata": {
        "id": "mXtTkQvM6G1v"
      },
      "outputs": [],
      "source": [
        "import numpy as np\n",
        "import matplotlib.pyplot as plt\n",
        "import SimpleITK as sitk"
      ]
    },
    {
      "cell_type": "markdown",
      "metadata": {
        "id": "rHZhaFdj6G1v"
      },
      "source": [
        "Pour illustrer cette partie, nous allons avoir besoin d'utiliser la librairie [SimpleITK](https://simpleitk.org/) qui permet de gérer des formats d'images biomédicales plus spécifiques, comme DICOM ou Nifti.\n",
        "SimpleITK est une couche simplifiée construite sur [ITK](https://itk.org/), destinée à faciliter son utilisation dans les langages interprétés. Elel constitue une boîte à outils d’analyse d’images comprenant un grand nombre de composants prenant en charge les opérations de filtrage, la segmentation et l’enregistrement des images.\n",
        "\n",
        "Nous reviendrons plus en détails sur cette librairie demain."
      ]
    },
    {
      "cell_type": "code",
      "execution_count": null,
      "metadata": {
        "id": "RSIXDAsj6G1v"
      },
      "outputs": [],
      "source": [
        "rein = sitk.ReadImage('/content/PythonM2-jour1/data/PosteriorStatic001_DS.dcm')\n",
        "print(\"Dimensions de l'image :\", rein.GetSize())\n",
        "\n",
        "rein_arr = sitk.GetArrayFromImage(rein) # On convertit cette image en un array numpy\n",
        "\n",
        "# Il est important de retirer la 3eme dimension qui ne sert pas ici\n",
        "# On ne va travailler qu'en 2D ce qui nous permettra un affichage direct avec Matplotlib\n",
        "# Pour cela, on utilise la fonction reshape() du module NumPy\n",
        "rein_arr = rein_arr.reshape(rein.GetWidth(),rein.GetHeight())\n",
        "print('Dimensions du tableau NumPy correspondant (après reshape) :', rein_arr.shape)"
      ]
    },
    {
      "cell_type": "code",
      "execution_count": null,
      "metadata": {
        "id": "ST4_vjZc6G1w"
      },
      "outputs": [],
      "source": [
        " # On copie l'array correspond à l'image originale --> bon réflexe pour éviter les mauvaises surprises (image modifiée puis écrasée)\n",
        "img = np.copy(rein_arr)\n",
        "plt.imshow(img, cmap='jet')\n",
        "plt.colorbar();"
      ]
    },
    {
      "cell_type": "markdown",
      "metadata": {
        "id": "oAP_m5ux6G1w"
      },
      "source": [
        "### 6.1 Première méthode : définir une zone rectangulaire dans l'image à partir de ses coordonnées"
      ]
    },
    {
      "cell_type": "code",
      "execution_count": null,
      "metadata": {
        "id": "v2i93dge6G1w"
      },
      "outputs": [],
      "source": [
        "# On définit deux masques, un pour chaque rein qu'on initialise avec des zéros (chaque masque fait la même taille que l'image originale)\n",
        "mask1 = np.zeros(img.shape)\n",
        "mask2 = np.zeros(img.shape)\n",
        "\n",
        "mask1[40:70,40:60] = 1\n",
        "mask2[40:70,62:82] = 1\n",
        "\n",
        "# Affichage du masque binaire total obtenu, somme de mask1 et mask2\n",
        "mask = mask1 + mask2\n",
        "plt.imshow(mask,cmap='gray')\n",
        "plt.colorbar();\n",
        "\n",
        "print(mask) # L'image mask ne contient bien que des 0 et des 1"
      ]
    },
    {
      "cell_type": "markdown",
      "metadata": {
        "id": "c89Br6QD6G1w"
      },
      "source": [
        "On applique maintenant chaque masque sur l'image de scintigraphie rénale de départ pour ne conserver que les données contenues dans les structures d'intérêt de l'image, ici les deux reins."
      ]
    },
    {
      "cell_type": "markdown",
      "metadata": {
        "id": "AsQQOog16G1w"
      },
      "source": [
        "* Rein gauche"
      ]
    },
    {
      "cell_type": "code",
      "execution_count": null,
      "metadata": {
        "id": "YX8Lfq8A6G1w"
      },
      "outputs": [],
      "source": [
        "rein_arr_segm1 = rein_arr * mask1 # Opération de mutliplication qui met à zéro ce qui est en dehors du masque\n",
        "plt.imshow(rein_arr_segm1,cmap='jet')\n",
        "plt.colorbar();"
      ]
    },
    {
      "cell_type": "markdown",
      "metadata": {
        "id": "5UODpA6Q6G1x"
      },
      "source": [
        "* Rein droit"
      ]
    },
    {
      "cell_type": "code",
      "execution_count": null,
      "metadata": {
        "id": "8CuGT_Ly6G1y"
      },
      "outputs": [],
      "source": [
        "rein_arr_segm2 = rein_arr * mask2\n",
        "plt.imshow(rein_arr_segm2,cmap='jet')\n",
        "plt.colorbar();"
      ]
    },
    {
      "cell_type": "markdown",
      "metadata": {
        "id": "GTaMPp946G1y"
      },
      "source": [
        "On peut enfin procéder à l'analyse de ces données afin de déterminer, par la suite, la fixation relative entre les deux reins (fonction rénale relative).\n",
        "\n",
        "Pour cela, on doit déterminer le nombre de coups moyen dans chaque rein, i.e. le nombre de coups total (somme des intensités de chaque pixel de chaque rein) divisée par le nombre total de pixels dans chaque rein."
      ]
    },
    {
      "cell_type": "markdown",
      "metadata": {
        "id": "MhDBiIoe6G1y"
      },
      "source": [
        "* Rein gauche"
      ]
    },
    {
      "cell_type": "code",
      "execution_count": null,
      "metadata": {
        "id": "1ITIc0n76G1y"
      },
      "outputs": [],
      "source": [
        "Ntot_g = rein_arr_segm1.sum() # Somme des intensités dans l'image\n",
        "Nb_pixels_g = mask1.sum()  # Somme des intensités (0 ou 1) dans le masque ce qui donne ainsi sa taille (en nombre de pixels)\n",
        "print(\"Nombre de coups total :\" , Ntot_g)\n",
        "print(\"Nombre de pixels total :\" , Nb_pixels_g)\n",
        "print(\"Nombre de coups moyen = {:0.2f}\".format(Ntot_g/Nb_pixels_g))"
      ]
    },
    {
      "cell_type": "markdown",
      "metadata": {
        "id": "23GtRIIW6G1y"
      },
      "source": [
        "* Rein droit"
      ]
    },
    {
      "cell_type": "code",
      "execution_count": null,
      "metadata": {
        "id": "g_lzBP456G1y"
      },
      "outputs": [],
      "source": [
        "Ntot_r = rein_arr_segm2.sum() # Somme des intensités dans l'image\n",
        "Nb_pixels_r = mask2.sum()  # Somme des intensités (0 ou 1) dans le masque ce qui donne ainsi sa taille (en nombre de pixels)\n",
        "print(\"Nombre de coups total :\" , Ntot_r)\n",
        "print(\"Nombre de pixels total :\" , Nb_pixels_r)\n",
        "print(\"Nombre de coups moyen = {:0.2f}\".format(Ntot_r/Nb_pixels_r))"
      ]
    },
    {
      "cell_type": "markdown",
      "metadata": {
        "id": "vaZ70Liw6G10"
      },
      "source": [
        "On peut aussi faire des stats de façon un peu plus élégante en utilisant les dictionnaires, la librairie `Pandas` et le module `ndimage` de la librairie [Scipy](https://www.scipy.org/) (librairie qui intégre un ensemble de modules pour l’optimisation, l’algèbre linéaire, les statistiques, le traitement du signal et le traitement d’images)."
      ]
    },
    {
      "cell_type": "code",
      "execution_count": null,
      "metadata": {
        "id": "DRrSntDs6G11"
      },
      "outputs": [],
      "source": [
        "from scipy import ndimage\n",
        "import pandas as pd\n",
        "\n",
        "imgmasked = rein_arr * mask\n",
        "\n",
        "def show_stats(mask,img,file):\n",
        "    # Identification des labels et calcul des volumes correspondants\n",
        "    label_im, nb_labels = ndimage.label(mask)\n",
        "    label_sizes=ndimage.sum(mask, label_im, range(1,nb_labels + 1))\n",
        "\n",
        "    print(\"Nombre de régions :\", nb_labels)\n",
        "\n",
        "    # On stocke les résultats dans un dictionnaire\n",
        "    stats_list={\"Volume (nombre pixels)\": label_sizes,\n",
        "                \"Valeur moyenne\": ndimage.mean(img, label_im, range(1,nb_labels + 1)),\n",
        "                \"Ecart-type\": ndimage.standard_deviation(img, label_im, range(1,nb_labels + 1)),\n",
        "                \"Valeur maximum\": ndimage.maximum(img, label_im, range(1,nb_labels + 1)),\n",
        "                \"Valeur minimum\": ndimage.minimum(img, label_im, range(1,nb_labels + 1)),\n",
        "                \"Valeur médiane\": ndimage.median(img, label_im, range(1,nb_labels + 1)),\n",
        "                }\n",
        "\n",
        "    # On génère un Pandas dataframe à partir de ce dictionnaire\n",
        "    stats=pd.DataFrame(stats_list, index=range(1,nb_labels + 1))\n",
        "    # On enregistre le tout dans un fichier csv\n",
        "    stats.to_csv(file, mode='a', sep='\\t')\n",
        "    return stats"
      ]
    },
    {
      "cell_type": "markdown",
      "metadata": {
        "id": "DcL8E4Q66G11"
      },
      "source": [
        "* Rein gauche"
      ]
    },
    {
      "cell_type": "code",
      "execution_count": null,
      "metadata": {
        "id": "7WfgzENE6G11"
      },
      "outputs": [],
      "source": [
        "from ipywidgets import interact, interactive, fixed\n",
        "interact(show_stats, mask=fixed(mask1), img=fixed(imgmasked), file='/content/PythonM2-jour1/output/stats1.csv');"
      ]
    },
    {
      "cell_type": "markdown",
      "metadata": {
        "id": "q4KCBLaq6G11"
      },
      "source": [
        "* Rein droit"
      ]
    },
    {
      "cell_type": "code",
      "execution_count": null,
      "metadata": {
        "id": "42CH_PTP6G11"
      },
      "outputs": [],
      "source": [
        "from ipywidgets import interact, interactive, fixed\n",
        "interact(show_stats, mask=fixed(mask2), img=fixed(imgmasked), file='/content/PythonM2-jour1/output/stats2.csv');"
      ]
    },
    {
      "cell_type": "markdown",
      "metadata": {
        "id": "HvV4R-0X6G11"
      },
      "source": [
        "### 6.2. Deuxième méthode : définir une région d'intérêt à l'aide d'un seuillage"
      ]
    },
    {
      "cell_type": "markdown",
      "metadata": {
        "id": "OVnuD5T36G11"
      },
      "source": [
        "### Définition du seuil"
      ]
    },
    {
      "cell_type": "code",
      "execution_count": null,
      "metadata": {
        "id": "-QP7RdmP6G11"
      },
      "outputs": [],
      "source": [
        "maxi = rein_arr.max()\n",
        "seuil = 0.2 * maxi\n",
        "print(\"La valeur du pixel d'intensité maximum dans l'image est :\", maxi)\n",
        "print(\"Un seuil à 20% du maximum correspond à une intensité de :\", seuil)\n",
        "\n",
        "plt.imshow(rein_arr,cmap='jet')\n",
        "plt.colorbar();"
      ]
    },
    {
      "cell_type": "markdown",
      "metadata": {
        "id": "Br6o1XeZ6G11"
      },
      "source": [
        "### Seuillage binaire"
      ]
    },
    {
      "cell_type": "code",
      "execution_count": null,
      "metadata": {
        "id": "yBoqDTjQ6G11"
      },
      "outputs": [],
      "source": [
        "# Binarisation de l'image à partir de cette valeur seuil\n",
        "rein_arr_bin = rein_arr > seuil\n",
        "# A quoi ressemble rein_arr_bin ?\n",
        "print(rein_arr_bin)\n",
        "# C'est une matrice qui ne contient que des booleens (vrai ou faux) pour chacun de ses pixels\n",
        "# C'est a dire que rein_arr_bin repond, pour chaque pixel, à la question valeur>seuil ?\n",
        "# Si valeur>seuil alors la condition est vraie (True)\n",
        "# Si valeur<seuil alors la condition est fausse (False)\n"
      ]
    },
    {
      "cell_type": "markdown",
      "metadata": {
        "id": "9jVZwXvc6G11"
      },
      "source": [
        "Le résultat de cette opération une matrice qui ne contient que des booléens (True ou False) pour chacun de ses pixels.\n",
        "\n",
        "C'est a dire que dmsa_post_bin_arr répond, pour chaque pixel, à la question : valeur > seuil ?\n",
        "* si valeur > seuil alors la condition est vraie (True)\n",
        "* si valeur < seuil alors la condition est fausse (False)"
      ]
    },
    {
      "cell_type": "code",
      "execution_count": null,
      "metadata": {
        "id": "nrWTo0cW6G11"
      },
      "outputs": [],
      "source": [
        "# On peut utiliser imshow comme precedemment car python va alors considerer deux valeurs pour True et False\n",
        "plt.imshow(rein_arr_bin ,cmap='gray');"
      ]
    },
    {
      "cell_type": "markdown",
      "metadata": {
        "id": "qhyt7MWK6G12"
      },
      "source": [
        "On va maintenant traiter l'image source (rein_arr) en lui appliquant un masque correspondant au résultat de la binarisation que l'on vient de faire. On choisira, arbitrairement un seuil relatif a 20 % du maximum."
      ]
    },
    {
      "cell_type": "code",
      "execution_count": null,
      "metadata": {
        "id": "tzyEa3qp6G12"
      },
      "outputs": [],
      "source": [
        "seuil20 = 0.2 * rein_arr.max()\n",
        "masque20 = (rein_arr > seuil20) # Ne contient que True et False\n",
        "rein_arr20 = rein_arr * masque20 # Met a zero ce qui est en dehors du masque (car False)\n",
        "plt.imshow(rein_arr20,cmap='jet')\n",
        "plt.colorbar();"
      ]
    },
    {
      "cell_type": "markdown",
      "metadata": {
        "id": "fPKKMdkj6G12"
      },
      "source": [
        "On peut enfin procéder à l'analyse de ces données afin de déterminer par la suite l'activité relative entre les deux reins (fixation relative).\n",
        "\n",
        "Pour cela, on doit déterminer l'activité moyenne dans chaque rein i.e. l'activité totale (somme des activités de chaque pixel du rein), divisée par le nombre de total de pixels dans chaque rein."
      ]
    },
    {
      "cell_type": "code",
      "execution_count": null,
      "metadata": {
        "id": "WmqcgbO36G12"
      },
      "outputs": [],
      "source": [
        "# On peut ici directement réutiliser la fonction show_stats\n",
        "interact(show_stats, mask=fixed(masque20), img=fixed(rein_arr20), file='/content/PythonM2-jour1/output/stats2.csv');"
      ]
    },
    {
      "cell_type": "markdown",
      "metadata": {
        "id": "sqfhIX2Y6G12"
      },
      "source": [
        "## <a name=\"part7\"></a> 7. Tracer des contours et utiliser les opérations de morphologie mathématique"
      ]
    },
    {
      "cell_type": "code",
      "execution_count": null,
      "metadata": {
        "id": "vAKq3rA56G12"
      },
      "outputs": [],
      "source": [
        "import numpy as np\n",
        "import matplotlib.pyplot as plt\n",
        "import SimpleITK as sitk\n",
        "img = sitk.ReadImage('/content/PythonM2-jour1/data/mri.tif',sitk.sitkUInt8)\n",
        "img = sitk.GetArrayFromImage(img)\n",
        "print(img.max())\n",
        "print(img.shape)\n",
        "\n",
        "plt.imshow(img[11,:,:])"
      ]
    },
    {
      "cell_type": "code",
      "execution_count": null,
      "metadata": {
        "id": "DWkXduc56G12"
      },
      "outputs": [],
      "source": [
        "import scipy.signal\n",
        "\n",
        "f = img[11,:,:]\n",
        "h = np.array([[-1,-2,-1],[-2,12,-2],[-1,-2,-1]]) # Filtre passe-haut\n",
        "print(h)\n",
        "\n",
        "g = scipy.signal.convolve2d(f,h) # Fonction de convolution 2D du sous-module signal de SciPy\n",
        "\n",
        "plt.imshow(g,cmap='jet',vmin=-600,vmax=600)\n",
        "plt.colorbar()\n",
        "th = g > 250\n",
        "#plt.imshow(th,cmap='gray')\n",
        "plt.figure()\n",
        "plt.imshow(th,cmap='jet')"
      ]
    },
    {
      "cell_type": "code",
      "execution_count": null,
      "metadata": {
        "id": "IarX6eXt6G12"
      },
      "outputs": [],
      "source": [
        "from scipy import ndimage\n",
        "# Définition de l'élément structurant (ici un disque)\n",
        "def disk(n):\n",
        "    struct = np.zeros((2 * n + 1, 2 * n + 1))\n",
        "    x, y = np.indices((2 * n + 1, 2 * n + 1))\n",
        "    mask = (x - n)**2 + (y - n)**2 <= n**2\n",
        "    struct[mask] = 1\n",
        "    return struct.astype(bool)\n",
        "\n",
        "# Fermeture\n",
        "closef = ndimage.binary_closing(th,structure=disk(3))\n",
        "plt.imshow(closef)"
      ]
    },
    {
      "cell_type": "code",
      "execution_count": null,
      "metadata": {
        "id": "TAdJE_on6G13"
      },
      "outputs": [],
      "source": [
        "# Ouverture\n",
        "openclose = ndimage.binary_opening(closef, structure=disk(2))\n",
        "plt.imshow(openclose[1:128,1:128])"
      ]
    },
    {
      "cell_type": "markdown",
      "metadata": {
        "id": "U1FMxf8n6G13"
      },
      "source": [
        "## <a name=\"part8\"></a> 8. Recaler deux images"
      ]
    },
    {
      "cell_type": "markdown",
      "metadata": {
        "id": "t3JT8UqR6G13"
      },
      "source": [
        "### 8.1 Rappels sur les transformations\n",
        "\n",
        "La déformation d’une image est une transformation mathématique qui peut être linéaire ou non.\n",
        "\n",
        "Une transformation linéaire s’écrit : $p'=Mp$\n",
        "\n",
        "où\n",
        "* $p = [x\\ y\\ 1]^T$ : pixel $(x,y)$ de l’image source\n",
        "* $p' = [x'\\ y'\\ 1]^T$  : pixel $(x',y')$ de l’image déformée\n",
        "* $M \\in R^{3\\times3}$ : matrice de transformation\n",
        "\n",
        "Exemple : $$p'=Mp \\qquad M=\\begin{pmatrix} 1&0&t_x \\\\ 0&1&t_y \\\\ 0&0&1 \\end{pmatrix}$$\n",
        "\n",
        "Cas de la déformation rigide :\n",
        "\n",
        "Transformation linéaire $p'=Mp$ avec 3 paramètres ($\\theta = \\{\\alpha, t_x, t_y\\}$)\n",
        "\n",
        "$$M=\\begin{pmatrix} cos \\alpha&sin \\alpha&t_x \\\\ -sin \\alpha&cos \\alpha&t_y \\\\ 0&0&1 \\end{pmatrix}$$"
      ]
    },
    {
      "cell_type": "markdown",
      "metadata": {
        "id": "1-5Y8hIs6G13"
      },
      "source": [
        "**Translation**"
      ]
    },
    {
      "cell_type": "code",
      "execution_count": null,
      "metadata": {
        "id": "kEJNbW4D6G13"
      },
      "outputs": [],
      "source": [
        "import numpy as np\n",
        "import matplotlib.pyplot as plt\n",
        "from skimage import data\n",
        "from skimage import transform\n",
        "from skimage import img_as_float\n",
        "\n",
        "tform = transform.EuclideanTransform(\n",
        "    translation = (20, 80)\n",
        "    )\n",
        "print(tform.params)"
      ]
    },
    {
      "cell_type": "markdown",
      "metadata": {
        "id": "mHco_ZFM6G13"
      },
      "source": [
        "**Interpolation de l'image**\n",
        "\n",
        "Souvenez-vous, l’interpolation consiste à déterminer les valeurs de l’image transformée à partir de ceux de l’image initiale.\n",
        "<center>\n",
        "<img src=\"https://github.com/marsvn/PythonM2-jour1/blob/main/data/Transfo1.png?raw=1\" width=\"500\" align=\"center;\" />\n",
        "</center>\n",
        "\n",
        "Problème : les pixels de l’image transformée ne correspondent pas toujours à un pixel de l’image de l’image cible.\n",
        "<center>\n",
        "<img src=\"https://github.com/marsvn/PythonM2-jour1/blob/main/data/Transfo2.png?raw=1\" width=\"500\" align=\"center;\" />\n",
        "</center>\n",
        "\n",
        "L’astuce est de considérer la transformation inverse et de déterminer la valeur des pixels de l’image transformée en fonctionde ceux de l’image initiale.\n",
        "<center>\n",
        "<img src=\"https://github.com/marsvn/PythonM2-jour1/blob/main/data/Transfo3.png?raw=1\" width=\"500\" align=\"center;\" />\n",
        "</center>\n",
        "\n",
        "Méthodes d’interpolation : plus proche voisin (*nearest neighbor*), bilinéaire, B-spline, sinc, ..."
      ]
    },
    {
      "cell_type": "code",
      "execution_count": null,
      "metadata": {
        "id": "vxKbgFkT6G13"
      },
      "outputs": [],
      "source": [
        "img = img_as_float(data.chelsea())\n",
        "tf_img = transform.warp(img, tform.inverse)\n",
        "\n",
        "plt.imshow(tf_img)\n",
        "plt.title('Translation')"
      ]
    },
    {
      "cell_type": "markdown",
      "metadata": {
        "id": "UqKM4xMJ6G13"
      },
      "source": [
        "**Rotation**"
      ]
    },
    {
      "cell_type": "code",
      "execution_count": null,
      "metadata": {
        "id": "NzZ7JgkL6G13"
      },
      "outputs": [],
      "source": [
        "tform2 = transform.EuclideanTransform(\n",
        "    rotation=np.pi / 15.\n",
        "    )\n",
        "print(tform2.params)\n",
        "\n",
        "img = img_as_float(data.chelsea())\n",
        "tf_img = transform.warp(img, tform2.inverse)\n",
        "\n",
        "plt.imshow(tf_img)\n",
        "plt.title('Rotation')"
      ]
    },
    {
      "cell_type": "markdown",
      "metadata": {
        "id": "JwqSBjCN6G14"
      },
      "source": [
        "### 8.2 Exemple de recalage automatique d'images avec la librairie SimpleITK\n",
        "\n",
        "Retrouvez l'exemple complet [ici](http://insightsoftwareconsortium.github.io/SimpleITK-Notebooks/Python_html/60_Registration_Introduction.html)."
      ]
    },
    {
      "cell_type": "markdown",
      "metadata": {
        "id": "y-5CVD3L6G14"
      },
      "source": [
        "**Fonctions utiles**"
      ]
    },
    {
      "cell_type": "code",
      "execution_count": null,
      "metadata": {
        "id": "oDhin1Bb6G14"
      },
      "outputs": [],
      "source": [
        "from IPython.display import clear_output\n",
        "\n",
        "# Callback invoked by the interact IPython method for scrolling through the image stacks of\n",
        "# the two images (moving and fixed).\n",
        "def display_images(fixed_image_z, moving_image_z, fixed_npa, moving_npa):\n",
        "    # Create a figure with two subplots and the specified size.\n",
        "    plt.subplots(1,2,figsize=(10,8))\n",
        "\n",
        "    # Draw the fixed image in the first subplot.\n",
        "    plt.subplot(1,2,1)\n",
        "    plt.imshow(fixed_npa[fixed_image_z,:,:],cmap=plt.cm.Greys_r);\n",
        "    plt.title('fixed image')\n",
        "    plt.axis('off')\n",
        "\n",
        "    # Draw the moving image in the second subplot.\n",
        "    plt.subplot(1,2,2)\n",
        "    plt.imshow(moving_npa[moving_image_z,:,:],cmap=plt.cm.Greys_r);\n",
        "    plt.title('moving image')\n",
        "    plt.axis('off')\n",
        "\n",
        "    plt.show()\n",
        "\n",
        "# Callback invoked by the IPython interact method for scrolling and modifying the alpha blending\n",
        "# of an image stack of two images that occupy the same physical space.\n",
        "def display_images_with_alpha(image_z, alpha, fixed, moving):\n",
        "    img = (1.0 - alpha)*fixed[:,:,image_z] + alpha*moving[:,:,image_z]\n",
        "    plt.imshow(sitk.GetArrayViewFromImage(img),cmap=plt.cm.Greys_r);\n",
        "    plt.axis('off')\n",
        "    plt.show()\n",
        "\n",
        "# Callback invoked when the StartEvent happens, sets up our new data.\n",
        "def start_plot():\n",
        "    global metric_values, multires_iterations\n",
        "\n",
        "    metric_values = []\n",
        "    multires_iterations = []\n",
        "\n",
        "# Callback invoked when the EndEvent happens, do cleanup of data and figure.\n",
        "def end_plot():\n",
        "    global metric_values, multires_iterations\n",
        "\n",
        "    del metric_values\n",
        "    del multires_iterations\n",
        "    # Close figure, we don't want to get a duplicate of the plot latter on.\n",
        "    plt.close()\n",
        "\n",
        "# Callback invoked when the IterationEvent happens, update our data and display new figure.\n",
        "def plot_values(registration_method):\n",
        "    global metric_values, multires_iterations\n",
        "\n",
        "    metric_values.append(registration_method.GetMetricValue())\n",
        "    # Clear the output area (wait=True, to reduce flickering), and plot current data\n",
        "    clear_output(wait=True)\n",
        "    # Plot the similarity metric values\n",
        "    plt.plot(metric_values, 'r')\n",
        "    plt.plot(multires_iterations, [metric_values[index] for index in multires_iterations], 'b*')\n",
        "    plt.xlabel('Iteration Number',fontsize=12)\n",
        "    plt.ylabel('Metric Value',fontsize=12)\n",
        "    plt.show()\n",
        "\n",
        "# Callback invoked when the sitkMultiResolutionIterationEvent happens, update the index into the\n",
        "# metric_values list.\n",
        "def update_multires_iterations():\n",
        "    global metric_values, multires_iterations\n",
        "    multires_iterations.append(len(metric_values))"
      ]
    },
    {
      "cell_type": "markdown",
      "metadata": {
        "id": "920zHc-R6G14"
      },
      "source": [
        "**Lecture et affichage des images (de référence et à recaler)**"
      ]
    },
    {
      "cell_type": "code",
      "execution_count": null,
      "metadata": {
        "id": "vMV9gTBK6G14"
      },
      "outputs": [],
      "source": [
        "import SimpleITK as sitk\n",
        "from ipywidgets import interact, interactive, fixed\n",
        "\n",
        "fixed_image =  sitk.ReadImage(\"/content/PythonM2-jour1/data/training_001_ct.mha\", sitk.sitkFloat32)\n",
        "moving_image = sitk.ReadImage(\"/content/PythonM2-jour1/data/training_001_mr_T1.mha\", sitk.sitkFloat32)\n",
        "\n",
        "interact(display_images, fixed_image_z=(0,fixed_image.GetSize()[2]-1), moving_image_z=(0,moving_image.GetSize()[2]-1), fixed_npa = fixed(sitk.GetArrayViewFromImage(fixed_image)), moving_npa=fixed(sitk.GetArrayViewFromImage(moving_image)));"
      ]
    },
    {
      "cell_type": "markdown",
      "metadata": {
        "id": "JGaT8muu6G14"
      },
      "source": [
        "**Alignement initial**\n",
        "\n",
        "Use the CenteredTransformInitializer to align the centers of the two volumes and set the center of rotation to the center of the fixed image."
      ]
    },
    {
      "cell_type": "code",
      "execution_count": null,
      "metadata": {
        "id": "VC_rFIiO6G14"
      },
      "outputs": [],
      "source": [
        "initial_transform = sitk.CenteredTransformInitializer(fixed_image,\n",
        "                                                      moving_image,\n",
        "                                                      sitk.Euler3DTransform(),\n",
        "                                                      sitk.CenteredTransformInitializerFilter.GEOMETRY)\n",
        "\n",
        "moving_resampled = sitk.Resample(moving_image, fixed_image, initial_transform, sitk.sitkLinear, 0.0, moving_image.GetPixelID())\n",
        "\n",
        "interact(display_images_with_alpha, image_z=(0,fixed_image.GetSize()[2]-1), alpha=(0.0,1.0,0.05), fixed = fixed(fixed_image), moving=fixed(moving_resampled));"
      ]
    },
    {
      "cell_type": "markdown",
      "metadata": {
        "id": "z8_HLkpE6G14"
      },
      "source": [
        "**Recalage**\n",
        "\n",
        "The specific registration task at hand estimates a 3D rigid transformation between images of different modalities. There are multiple components from each group (optimizers, similarity metrics, interpolators) that are appropriate for the task. Note that each component selection requires setting some parameter values. We have made the following choices:\n",
        "\n",
        "<ul>\n",
        "<li>Similarity metric, mutual information (Mattes MI):\n",
        "<ul>\n",
        "  <li>Number of histogram bins, 50.</li>\n",
        "  <li>Sampling strategy, random.</li>\n",
        "  <li>Sampling percentage, 1%.</li>\n",
        "</ul>\n",
        "</li>\n",
        "<li>Interpolator, sitkLinear.</li>\n",
        "<li>Optimizer, gradient descent:\n",
        "<ul>\n",
        "  <li>Learning rate, step size along traversal direction in parameter space, 1.0 .</li>\n",
        "  <li>Number of iterations, maximal number of iterations, 100.</li>\n",
        "  <li>Convergence minimum value, value used for convergence checking in conjunction with the energy profile of the similarity metric that is estimated in the given window size, 1e-6.</li>\n",
        "  <li>Convergence window size, number of values of the similarity metric which are used to estimate the energy profile of the similarity metric, 10.</li>\n",
        "</ul>\n",
        "</li>\n",
        "</ul>\n",
        "\n",
        "\n",
        "Perform registration using the settings given above, and take advantage of the built in multi-resolution framework, use a three tier pyramid.  \n",
        "\n",
        "In this example we plot the similarity metric's value during registration. Note that the change of scales in the multi-resolution framework is readily visible."
      ]
    },
    {
      "cell_type": "code",
      "execution_count": null,
      "metadata": {
        "id": "h6a_D-r46G15"
      },
      "outputs": [],
      "source": [
        "registration_method = sitk.ImageRegistrationMethod()\n",
        "\n",
        "# Similarity metric settings.\n",
        "registration_method.SetMetricAsMattesMutualInformation(numberOfHistogramBins=50)\n",
        "registration_method.SetMetricSamplingStrategy(registration_method.RANDOM)\n",
        "registration_method.SetMetricSamplingPercentage(0.01)\n",
        "\n",
        "registration_method.SetInterpolator(sitk.sitkLinear)\n",
        "\n",
        "# Optimizer settings.\n",
        "registration_method.SetOptimizerAsGradientDescent(learningRate=1.0, numberOfIterations=100, convergenceMinimumValue=1e-6, convergenceWindowSize=10)\n",
        "registration_method.SetOptimizerScalesFromPhysicalShift()\n",
        "\n",
        "# Setup for the multi-resolution framework.\n",
        "registration_method.SetShrinkFactorsPerLevel(shrinkFactors = [4,2,1])\n",
        "registration_method.SetSmoothingSigmasPerLevel(smoothingSigmas=[2,1,0])\n",
        "registration_method.SmoothingSigmasAreSpecifiedInPhysicalUnitsOn()\n",
        "\n",
        "# Don't optimize in-place, we would possibly like to run this cell multiple times.\n",
        "registration_method.SetInitialTransform(initial_transform, inPlace=False)\n",
        "\n",
        "# Connect all of the observers so that we can perform plotting during registration.\n",
        "registration_method.AddCommand(sitk.sitkStartEvent, start_plot)\n",
        "registration_method.AddCommand(sitk.sitkEndEvent, end_plot)\n",
        "registration_method.AddCommand(sitk.sitkMultiResolutionIterationEvent, update_multires_iterations)\n",
        "registration_method.AddCommand(sitk.sitkIterationEvent, lambda: plot_values(registration_method))\n",
        "\n",
        "final_transform = registration_method.Execute(sitk.Cast(fixed_image, sitk.sitkFloat32),\n",
        "                                               sitk.Cast(moving_image, sitk.sitkFloat32))"
      ]
    },
    {
      "cell_type": "markdown",
      "metadata": {
        "id": "B1VE17TS6G16"
      },
      "source": [
        "**Evaluation du recalage à l'aide de métriques ad-hoc**\n",
        "\n",
        "Query the registration method to see the metric value and the reason the optimization terminated.\n",
        "\n",
        "The metric value allows us to compare multiple registration runs as there is a probabilistic aspect to our registration, we are using random sampling to estimate the similarity metric.\n",
        "\n",
        "Always remember to query why the optimizer terminated. This will help you understand whether termination is too early, either due to thresholds being too tight, early termination due to small number of iterations - numberOfIterations, or too loose, early termination due to large value for minimal change in similarity measure - convergenceMinimumValue)"
      ]
    },
    {
      "cell_type": "code",
      "execution_count": null,
      "metadata": {
        "id": "x_o-KtTQ6G16"
      },
      "outputs": [],
      "source": [
        "# Always check the reason optimization terminated.\n",
        "print('Final metric value: {0}'.format(registration_method.GetMetricValue()))\n",
        "print('Optimizer\\'s stopping condition, {0}'.format(registration_method.GetOptimizerStopConditionDescription()))"
      ]
    },
    {
      "cell_type": "markdown",
      "metadata": {
        "id": "UXDqTT8z6G16"
      },
      "source": [
        "Now visually inspect the results."
      ]
    },
    {
      "cell_type": "code",
      "execution_count": null,
      "metadata": {
        "id": "O9P4ljOl6G16"
      },
      "outputs": [],
      "source": [
        "moving_resampled = sitk.Resample(moving_image, fixed_image, final_transform, sitk.sitkLinear, 0.0, moving_image.GetPixelID())\n",
        "\n",
        "interact(display_images_with_alpha, image_z=(0,fixed_image.GetSize()[2] - 1), alpha=(0.0,1.0,0.05), fixed = fixed(fixed_image), moving=fixed(moving_resampled));"
      ]
    },
    {
      "cell_type": "markdown",
      "metadata": {
        "id": "voEnnm_F6G16"
      },
      "source": [
        "If we are satisfied with the results, save them to file."
      ]
    },
    {
      "cell_type": "code",
      "execution_count": null,
      "metadata": {
        "id": "33wWh8lb6G16"
      },
      "outputs": [],
      "source": [
        "sitk.WriteImage(moving_resampled, 'training_001_mr_T1_resampled.mha')"
      ]
    },
    {
      "cell_type": "markdown",
      "metadata": {
        "id": "HT6Y6iqm6G16"
      },
      "source": [
        "## <a name=\"part9\"></a> 9. Faire une transformée de Fourier"
      ]
    },
    {
      "cell_type": "markdown",
      "metadata": {
        "id": "jW0AGdFt6G16"
      },
      "source": [
        "### 9.1 Transformée de Fourier 1D"
      ]
    },
    {
      "cell_type": "markdown",
      "metadata": {
        "id": "hePrDdAh6G17"
      },
      "source": [
        "Dans l'exemple ci-dessous, nous allons établir le spectre d'un signal composé par la somme de deux sinusoïdes d'amplitude et de fréquence différentes.\n",
        "\n",
        "Puisque nous le construisons, nous connaissons le signal. Nous pourrons ainsi vérifier que le spectre obtenu correspond bien au signal analysé.\n",
        "\n",
        "Le signal choisi est de la forme :\n",
        "$$A_0.sin(f_0.t) + A_1.sin(f_1.t)$$\n",
        "\n",
        "Les coefficients $A_0$ et $A_1$ sont les amplitudes respectives des deux sinusoïdes. Les coefficients $f_0$ et $f_1$ en sont les fréquences.\n",
        "\n",
        "Leurs valeurs sont déclarées en tête de programme.\n",
        "<code>\n",
        "A0 = 4   # amplitude fréquence fondamentale\n",
        "A1 = 8   # amplitude première harmonique\n",
        "f0 = 4   # fréquence fondamentale (Hz)\n",
        "f1 = 16  # fréquence première harmonique (Hz)\n",
        "</code>"
      ]
    },
    {
      "cell_type": "code",
      "execution_count": null,
      "metadata": {
        "id": "QWHf2SdL6G17"
      },
      "outputs": [],
      "source": [
        "import numpy as np\n",
        "import matplotlib.pyplot as plt\n",
        "import math\n",
        "from numpy.fft import fft2, ifft2, fft, fftshift, ifftshift, fftfreq\n",
        "\n",
        "def Signal(t):\n",
        "    A0 = 4\n",
        "    A1 = 8\n",
        "    f0 = 4\n",
        "    f1 = 16\n",
        "    s = A0*np.sin(f0*t) + A1*np.sin(f1*t)\n",
        "    return s\n",
        "\n",
        "t = np.arange(-100,100,0.1)\n",
        "s = Signal(t)\n",
        "plt.plot(t,s)\n",
        "plt.title('s')\n",
        "S = fft(s)\n",
        "plt.figure()\n",
        "plt.plot(S)\n",
        "plt.title('S')"
      ]
    },
    {
      "cell_type": "markdown",
      "metadata": {
        "id": "a_q11Tgq6G17"
      },
      "source": [
        "La première courbe retrace l'évolution du signal dans le temps.\n",
        "\n",
        "Dans la seconde, on constate que l'affichage de `S` ne fonctionne pas. En effet, la fonction `fft()` renvoit ses résultats sous forme d'un vecteur de complexes. Seules les composantes réelles de l'amplitude nous intéressent pour tracer le spectre d'amplitude, c'est l'objet de la fonction `abs()` qui permet d'en extraire le module."
      ]
    },
    {
      "cell_type": "code",
      "execution_count": null,
      "metadata": {
        "id": "5AM6krEN6G17"
      },
      "outputs": [],
      "source": [
        "plt.plot(abs(S)) # on ne récupère que les composantes réelles"
      ]
    },
    {
      "cell_type": "markdown",
      "metadata": {
        "id": "qVEOLdt26G17"
      },
      "source": [
        "La fonction `fftshit` permet de faire une permutation circulaire car Python (comme Matlab) considère que les hautes fréquences sont au milieu de la fenêtre (alors que nous représentons généralement la fréquence nulle au centre de la fenêtre)."
      ]
    },
    {
      "cell_type": "code",
      "execution_count": null,
      "metadata": {
        "id": "lFwsJC3v6G17"
      },
      "outputs": [],
      "source": [
        "S = fftshift(fft(s))\n",
        "plt.plot(abs(S))\n",
        "plt.title('S')"
      ]
    },
    {
      "cell_type": "markdown",
      "metadata": {
        "id": "8cj1QVT06G18"
      },
      "source": [
        "Il serait plus lisible d'afficher le spectre d'amplitude du signal, c'est à dire la répartition d'énergie en fonction de la fréquence.\n",
        "\n",
        "Ainsi, nous devrions observer parfaitement les deux composantes fréquentielles, l'une à $4/2\\pi\\ Hz$ et l'autre à  $16/2\\pi\\ Hz$.\n",
        "\n",
        "Pour tracer le spectre, nous avons besoin de connaitre les fréquences réparties sur l'axe des abscisses du spectre, celles pour lesquelles les coefficients de Fourier ont été calculés. C'est l'objet de la fonction `fftfreq()`."
      ]
    },
    {
      "cell_type": "code",
      "execution_count": null,
      "metadata": {
        "id": "jyd9jpWf6G18"
      },
      "outputs": [],
      "source": [
        "def SpectreAmp(s,Te):\n",
        "    N = s.size # taille de la fenetre temporelle\n",
        "    # vecteur fréquences\n",
        "    freq = fftfreq(N,Te)\n",
        "    freq = freq[range(-int(N/2),int(N/2))] #freq[range(0,int(N/2))]\n",
        "    # calcul de la FFT normalisée et extraction de la partie réelle positive\n",
        "    S = fft(s)\n",
        "    S = S[range(-int(N/2),int(N/2))] #S[range(0,int(N/2))]\n",
        "    # affichage du spectre d'amplitude\n",
        "    plt.plot(freq,abs(S))\n",
        "    plt.xlabel('Frequence (Hz)')\n",
        "    plt.ylabel('Amplitude')\n",
        "    return"
      ]
    },
    {
      "cell_type": "markdown",
      "metadata": {
        "id": "Pf1LV8Vl6G18"
      },
      "source": [
        "On relance l'affichage du spectre d'amplitude du signal."
      ]
    },
    {
      "cell_type": "code",
      "execution_count": null,
      "metadata": {
        "id": "tpLb4XaK6G18"
      },
      "outputs": [],
      "source": [
        "# définition du signal à traiter\n",
        "Fe = 10\n",
        "Te = 1./Fe\n",
        "# définition du vecteur temps\n",
        "t0 = -100.\n",
        "tmax = 100\n",
        "t = np.arange(t0,tmax,Te)\n",
        "# calcul du signal\n",
        "s = Signal(t)\n",
        "\n",
        "# affichage du signal\n",
        "plt.figure()\n",
        "plt.plot(t,s)\n",
        "#plt.xlim(t0,tmax)\n",
        "plt.ylim(s.min(),s.max())\n",
        "plt.xlabel('Temps (s)')\n",
        "plt.ylabel('Amplitude')\n",
        "# affichage du spectre d'amplitude\n",
        "plt.figure()\n",
        "SpectreAmp(s,Te)"
      ]
    },
    {
      "cell_type": "markdown",
      "metadata": {
        "id": "y5iuPu_E6G18"
      },
      "source": [
        "Et là, nous voyons parfaitement les deux composantes fréquentielles, l'une à environ $0.63 Hz$ et l'autre autour de $2.54 Hz$.\n",
        "\n",
        "Comme la valeur des amplitudes le laisse supposer, la composante à $2.54 Hz$ renferme le plus d'énergie, son pic est plus important.\n",
        "\n",
        "Comme le signal est pur, il n'existe aucune énergie au delà des deux pics à $0.63$ et $2.54 Hz$. Le spectre est plat en dehors de ces deux pics.\n",
        "\n",
        "**Attention :**\n",
        "Comme vous vous en souvenez sans doute, le domaine fréquentiel (la valeur des fréquences récupérées par `fftfreq()`) est symétrique autour de 0 et réparti en fréquences positives et fréquences négatives.\n",
        "\n",
        "Les fréquences négatives ne nous intéressent pas, on peut donc les éliminer en retaillant le vecteur `freq` en ne gardant que sa première moitié. Idem pour le vecteur `S` sinon Python ne serait pas content (les vecteurs doivent être de même taille pour tracer les courbes)."
      ]
    },
    {
      "cell_type": "markdown",
      "metadata": {
        "id": "WaOhUb3v6G18"
      },
      "source": [
        "Ci-dessous, on reproduit le même travail avec une fonction gaussienne centrée. Les résultats vous semblent-ils cohérents ?"
      ]
    },
    {
      "cell_type": "code",
      "execution_count": null,
      "metadata": {
        "id": "9vzLUo7C6G18"
      },
      "outputs": [],
      "source": [
        "a=1.5\n",
        "def Signal(t):\n",
        "    return np.exp(-t**2/a**2)\n",
        "\n",
        "# définition du signal à traiter\n",
        "Fe = 20\n",
        "Te = 1./Fe\n",
        "# définition du vecteur temps\n",
        "t0 = -10.\n",
        "tmax = 10\n",
        "t = np.arange(t0,tmax,Te)\n",
        "# calcul du signal\n",
        "s = Signal(t)\n",
        "\n",
        "# affichage du signal\n",
        "plt.figure()\n",
        "plt.plot(t,s)\n",
        "#plt.xlim(t0,tmax)\n",
        "plt.xlabel('Temps (s)')\n",
        "plt.ylabel('Amplitude')\n",
        "\n",
        "# affichage du spectre d'amplitude\n",
        "plt.figure()\n",
        "SpectreAmp(s,Te)"
      ]
    },
    {
      "cell_type": "markdown",
      "metadata": {
        "id": "FqLJsAZ36G19"
      },
      "source": [
        "### 9.2 Transformée de Fourier 2D"
      ]
    },
    {
      "cell_type": "markdown",
      "metadata": {
        "id": "eFk5Uhn96G19"
      },
      "source": [
        "#### 9.2.1 Sinus 2D"
      ]
    },
    {
      "cell_type": "code",
      "execution_count": null,
      "metadata": {
        "id": "NvNTO_xt6G19"
      },
      "outputs": [],
      "source": [
        "from mpl_toolkits.mplot3d import Axes3D\n",
        "fig = plt.figure(figsize=(8,6))\n",
        "ax =  plt.figure().add_subplot(projection='3d')\n",
        "\n",
        "x = np.arange(0, 150, 1)\n",
        "y = np.arange(0, 150, 1)\n",
        "\n",
        "X, Y = np.meshgrid(x, y)\n",
        "\n",
        "z = np.sin(0.3*X)\n",
        "surf = ax.plot_surface(X,Y,z,cmap='jet')\n",
        "ax.set_title('Surface de la sinusoïde 2D')\n",
        "ax.view_init(azim=45)\n",
        "\n",
        "Y = np.sin(0.3*X)\n",
        "\n",
        "plt.figure(figsize=(5,5))\n",
        "plt.imshow(Y,cmap='jet')\n",
        "plt.title('Image sinusoïdale')\n",
        "plt.figure(figsize=(5,5))\n",
        "plt.imshow(abs(fftshift(fft2(Y))),cmap='jet')\n",
        "plt.title(\"Spectre d'amplitude\")"
      ]
    },
    {
      "cell_type": "code",
      "execution_count": null,
      "metadata": {
        "id": "VhY3Qkm26G19"
      },
      "outputs": [],
      "source": [
        "def plotSpectre(image,Lx,Ly):\n",
        "    (Ny,Nx) = image.shape\n",
        "    fxm = Nx*1.0/(2*Lx)\n",
        "    fym = Ny*1.0/(2*Ly)\n",
        "    plt.figure(figsize=(5,5))\n",
        "    plt.imshow(image,extent=[-fxm,fxm,-fym,fym],cmap='jet')\n",
        "    plt.xlabel(\"fx\")\n",
        "    plt.ylabel(\"fy\")\n",
        "    return fxm, fym\n",
        "\n",
        "fxm, fym = plotSpectre(abs(fftshift(fft2(Y))),150,150)\n",
        "plt.title(\"Spectre d'amplitude\")\n",
        "plt.figure()\n",
        "fx = np.linspace(-0.5,0.5,150)\n",
        "plt.plot(fx,abs(fftshift(fft2(Y)))[75,:])\n",
        "plt.title('Profil de la ligne centrale')"
      ]
    },
    {
      "cell_type": "markdown",
      "metadata": {
        "id": "h2n2J45m6G19"
      },
      "source": [
        "#### 9.2.2 Echelon 2D"
      ]
    },
    {
      "cell_type": "code",
      "execution_count": null,
      "metadata": {
        "id": "u8idloO56G19"
      },
      "outputs": [],
      "source": [
        "dim = 128\n",
        "imechelon = np.zeros((dim,dim),dtype=float)\n",
        "imechelon[:,0:int(dim/2)]=255\n",
        "\n",
        "plt.subplots(1,3,figsize=(15,5))\n",
        "plt.subplot(131)\n",
        "plt.imshow(imechelon,cmap='gray')\n",
        "plt.title('Image échelon')\n",
        "plt.subplot(132)\n",
        "#plt.imshow(np.log10(1+abs(fftshift(fft2(imechelon)))),cmap='gray')\n",
        "plt.imshow(abs(fftshift(fft2(imechelon))),cmap='jet')\n",
        "plt.title(\"Spectre d'amplitude\")\n",
        "plt.axis('off')\n",
        "plt.subplot(133)\n",
        "fx = np.linspace(0,dim,dim)\n",
        "plt.plot(fx,abs(fftshift(fft2(imechelon)))[int(dim/2),:])\n",
        "plt.title('Profil de la ligne centrale')"
      ]
    },
    {
      "cell_type": "markdown",
      "metadata": {
        "id": "00c4r29v6G19"
      },
      "source": [
        "#### 9.2.3 Fonction de transfert du filtre gaussien"
      ]
    },
    {
      "cell_type": "code",
      "execution_count": null,
      "metadata": {
        "id": "D3B1vUoI6G19"
      },
      "outputs": [],
      "source": [
        "def filtreGaussien(P):\n",
        "    sigma = 1\n",
        "    h = np.zeros((2*P+1,2*P+1))\n",
        "    som = 0\n",
        "    for m in range(-P,P+1):\n",
        "        for n in range(-P,P+1):\n",
        "            h[m+P][n+P] = math.exp(-(n*n+m*m)/(2*sigma*sigma))\n",
        "            som += h[m+P][n+P]\n",
        "    h = h/som\n",
        "    return h"
      ]
    },
    {
      "cell_type": "code",
      "execution_count": null,
      "metadata": {
        "id": "OGpZKlR26G19"
      },
      "outputs": [],
      "source": [
        "h = filtreGaussien(6)\n",
        "plt.subplots(1,2,figsize=(10,10))\n",
        "plt.subplot(121)\n",
        "plt.imshow(h,cmap='jet')\n",
        "plt.title('Filtre gaussien 13 x 13')\n",
        "plt.subplot(122)\n",
        "plt.imshow(abs(fftshift(fft2(h))),cmap='jet')\n",
        "plt.title('Fonction de transfert du filtre gaussien')\n",
        "\n",
        "fig = plt.figure(figsize=(8,6))\n",
        "ax =  plt.figure().add_subplot(projection='3d')\n",
        "m,n=abs(fftshift(fft2(h))).shape\n",
        "mm=range(m)\n",
        "nn=range(n)\n",
        "X,Y=np.meshgrid(mm,nn)\n",
        "ax.plot_surface(X, Y, abs(fftshift(fft2(h))),cmap='jet')\n",
        "ax.view_init(azim=45)\n",
        "ax.set_title('Surface de la fonction de transfert du filtre gaussien')"
      ]
    },
    {
      "cell_type": "code",
      "execution_count": null,
      "metadata": {
        "id": "y4QtH9zz6G19"
      },
      "outputs": [],
      "source": [
        "plotSpectre(abs(fftshift(fft2(h))),13,13)\n",
        "plt.title(\"Spectre d'amplitude\")\n",
        "plt.figure()\n",
        "fx = np.linspace(-0.5,0.5,13)\n",
        "plt.plot(fx,abs(fftshift(fft2(h)))[6,:],'o-',color='blue')\n",
        "plt.title(\"Profil de la ligne centrale\")"
      ]
    },
    {
      "cell_type": "markdown",
      "metadata": {
        "id": "F27khLVa6G19"
      },
      "source": [
        "#### 9.2.4 Image quelconque"
      ]
    },
    {
      "cell_type": "code",
      "execution_count": null,
      "metadata": {
        "id": "EpFPoUC_6G1-"
      },
      "outputs": [],
      "source": [
        "import skimage.color\n",
        "img = plt.imread('/content/PythonM2-jour1/data/canard.jpg')\n",
        "img = skimage.color.rgb2gray(img)\n",
        "plt.subplots(1,2,figsize=(10,10))\n",
        "plt.subplot(121)\n",
        "plt.imshow(img,cmap='gray')\n",
        "plt.title('Image canard')\n",
        "plt.subplot(122)\n",
        "TF = fft2(img)\n",
        "TFC = fftshift(TF)\n",
        "plt.imshow(abs(TFC),vmin=0,vmax=255,cmap='jet')\n",
        "plt.title(\"Transformée de Fourier de l'image canard\")"
      ]
    },
    {
      "cell_type": "markdown",
      "metadata": {
        "id": "lawhPZUu6G1-"
      },
      "source": [
        "## <a name=\"part10\"></a> 10. Lire des données externes"
      ]
    },
    {
      "cell_type": "markdown",
      "metadata": {
        "id": "jVu1cgik6G1-"
      },
      "source": [
        "### 10.1 Lecture de fichiers Excel ou csv\n",
        "\n",
        "Comme avec Matlab, il existe de très nombreuses méthodes pour lire les données externes en Python.\n",
        "Par exemple, la librairie [Pandas](https://pandas.pydata.org/) conçue pour la manipulation et l'analyse de données, est particulièrement puissante pour manipuler des données structurées sous forme de tableau, comme les feuilles de calcul Excel."
      ]
    },
    {
      "cell_type": "code",
      "execution_count": null,
      "metadata": {
        "id": "pSPSZHM86G1-"
      },
      "outputs": [],
      "source": [
        "import pandas as pd\n",
        "\n",
        "df = pd.read_csv('/content/PythonM2-jour1/data/resultats.csv') # lecture d'une table sans header\n",
        "df\n",
        "# df est un dataframe = tableau à deux dimensions (ici, 5 lignes et 5 colonnes)"
      ]
    },
    {
      "cell_type": "markdown",
      "metadata": {
        "id": "PlNMpsgr6G1-"
      },
      "source": [
        "* Par défaut, suppose qu'il y a un header (`header = 0` --> la ligne d'indice 0 =  noms des champs) et qu'il n'y a pas de noms de colonne (`index_col = None`).\n",
        "* `index_col` à renseigner si on veut définir l'index à partie d'une colone spécifique (celle d'indice 0 le plus souvent).\n",
        "* `decimal` permet d'indiquer le format du point décimal (point ou virgule)\n",
        "* `sep = '\\t'` ou `delimiter = '\\t'` indique si le séparateur est une tabulation plutôt qu'une virgule.\n"
      ]
    },
    {
      "cell_type": "code",
      "execution_count": null,
      "metadata": {
        "id": "XUxAzHHv6G1-"
      },
      "outputs": [],
      "source": [
        "df = pd.read_csv('/content/PythonM2-jour1/data/resultats.csv', decimal='.', header=None)\n",
        "df"
      ]
    },
    {
      "cell_type": "code",
      "execution_count": null,
      "metadata": {
        "id": "fdEPr4os6G1-"
      },
      "outputs": [],
      "source": [
        "print(\"Ce dataframe comprend {0} lignes et {1} colonnes \".format(df.shape[0],df.shape[1]) )"
      ]
    },
    {
      "cell_type": "code",
      "execution_count": null,
      "metadata": {
        "id": "YqtL9Q286G1-"
      },
      "outputs": [],
      "source": [
        "print(df[0],'\\n') # 1ere colonne\n",
        "print(df[0][0],'\\n') # 1er élément de la 1ere colonne\n",
        "print(df.iloc[1],'\\n') # 2eme ligne\n",
        "print(df.iloc[1][0],'\\n') # 1er élément de la 2eme ligne"
      ]
    },
    {
      "cell_type": "markdown",
      "metadata": {
        "id": "yWNL6Hhc6G1_"
      },
      "source": [
        "Il est possible d'indexer (voire de renommer) les lignes et/ou les colonnes avec des étiquettes spécifiques"
      ]
    },
    {
      "cell_type": "code",
      "execution_count": null,
      "metadata": {
        "id": "hjyvEyJT6G1_"
      },
      "outputs": [],
      "source": [
        "df.index = [\"foie_total\",\"tum_dome_CT\",\"lobe_droit\",\"tum_dome_SPECT\",\"lobe_gauche\"] # Pour indexer les lignes avec des étiquettes spécifiques\n",
        "df.columns = [\"Nombre de voxels [voxels]\",\"Volume [mm3]\",\"Minimum\",\"Maximum\",\"Moyenne\"] # Pour indexer les colonnes avec des étiquettes spécifiques\n",
        "df"
      ]
    },
    {
      "cell_type": "code",
      "execution_count": null,
      "metadata": {
        "id": "3FCCJF746G1_"
      },
      "outputs": [],
      "source": [
        "df[\"Moyenne\"]"
      ]
    },
    {
      "cell_type": "markdown",
      "metadata": {
        "id": "7w3QtAzF6G2A"
      },
      "source": [
        "Il est possible d'ajouter une colonne, ici la valeur des masses en multipliant les volumes par la masse volumique"
      ]
    },
    {
      "cell_type": "code",
      "execution_count": null,
      "metadata": {
        "id": "O3M7QYAZ6G2A"
      },
      "outputs": [],
      "source": [
        "masses = df[\"Volume [mm3]\"] * 1.03e-3\n",
        "df[\"Masse [g]\"] = masses\n",
        "df"
      ]
    },
    {
      "cell_type": "code",
      "execution_count": null,
      "metadata": {
        "id": "YJhNrbhA6G2A"
      },
      "outputs": [],
      "source": [
        "df.values # Renvoie un array numpy"
      ]
    },
    {
      "cell_type": "code",
      "execution_count": null,
      "metadata": {
        "id": "vrCjdUCD6G2A"
      },
      "outputs": [],
      "source": [
        "a = df.Moyenne.values # Renvoie un array NumPy\n",
        "print(a)\n",
        "print(type(a))"
      ]
    },
    {
      "cell_type": "code",
      "execution_count": null,
      "metadata": {
        "id": "3Eo3GBtS6G2A"
      },
      "outputs": [],
      "source": [
        "df.Moyenne.describe() # Affiche les statistiques relatives à la colonne Mean"
      ]
    },
    {
      "cell_type": "markdown",
      "metadata": {
        "id": "-G1_kfwt6G2A"
      },
      "source": [
        "### 10.2 Lecture de fichiers texte"
      ]
    },
    {
      "cell_type": "code",
      "execution_count": null,
      "metadata": {
        "id": "23t2RKAP6G2B"
      },
      "outputs": [],
      "source": [
        "filein = open(\"/content/PythonM2-jour1/data/imagerie.txt\", \"r\")\n",
        "# L'instruction open() ouvre le fichier imagerie.txt.\n",
        "# Ce fichier est ouvert en lecture seule, comme l'indique le second argument r (pour read)\n",
        "# de la fonction open()\n",
        "filein"
      ]
    },
    {
      "cell_type": "code",
      "execution_count": null,
      "metadata": {
        "id": "eaV0l4Wz6G2B"
      },
      "outputs": [],
      "source": [
        "filein.readlines() # Renvoie une liste contenant toutes les lignes du fichier\n",
        "filein.close() # Fermeture du fichier"
      ]
    },
    {
      "cell_type": "markdown",
      "metadata": {
        "id": "20wX2UrH6G2B"
      },
      "source": [
        "Dans le bloc d'instructions ci-dessous, vous lisez, parcourez le fichier et affichez son contenu."
      ]
    },
    {
      "cell_type": "code",
      "execution_count": null,
      "metadata": {
        "id": "jP99OzW-6G2B"
      },
      "outputs": [],
      "source": [
        "filein = open(\"/content/PythonM2-jour1/data/imagerie.txt\", \"r\")\n",
        "lignes = filein.readlines()\n",
        "print(lignes)\n",
        "for ligne in lignes:\n",
        "    print(ligne)\n",
        "filein.close()"
      ]
    },
    {
      "cell_type": "markdown",
      "metadata": {
        "id": "P_ijQnvX6G2B"
      },
      "source": [
        "## <a name=\"part11\"></a> 11. Exporter ses données"
      ]
    },
    {
      "cell_type": "markdown",
      "metadata": {
        "id": "bOLUXFcj6G2D"
      },
      "source": [
        "### 11.1 Sous forme de fichier texte"
      ]
    },
    {
      "cell_type": "code",
      "execution_count": null,
      "metadata": {
        "id": "pJj3tiI76G2D"
      },
      "outputs": [],
      "source": [
        "fichier = open(\"/content/PythonM2-jour1/data/Exemple.txt\", \"a\")\n",
        "N=125\n",
        "R=12.3\n",
        "S='Hello'\n",
        "fichier.write(\"%s \\n%s \\n%s \\n%s \\n\" % (\"Debut\\t\",N, R, S))\n",
        "fichier.write(\"%s \\n%s \\n%s \\n\" % (\"\\tSuite : \\n\",3*N,R))\n",
        "fichier.close()"
      ]
    },
    {
      "cell_type": "markdown",
      "metadata": {
        "id": "FlZ2qsUq6G2D"
      },
      "source": [
        "### 11.2 Sous forme de graphique"
      ]
    },
    {
      "cell_type": "code",
      "execution_count": null,
      "metadata": {
        "id": "psj6DIzu6G2D"
      },
      "outputs": [],
      "source": [
        "x = np.arange(-100, 100, 0.1)\n",
        "\n",
        "h = plt.plot(x,np.sin(x/5),label='fonction sinusoïdale',color='purple')\n",
        "plt.xlabel('x',size=13)\n",
        "plt.ylabel(r'$sin(\\frac{x}{5})$',size=13)\n",
        "plt.ylim(-1.5,1.5)\n",
        "plt.text(-80,1.2, \"Tracé de la fonction \" + r'$sin(\\frac{x}{5})$', horizontalalignment='left',family=\"sans-serif\", color='red', size=13)\n",
        "plt.legend(loc=\"lower right\", ncol=1, shadow=True, fancybox=True, framealpha=0)\n",
        "\n",
        "# Sauvegarde dans un format vectoriel (pdf ou svg)\n",
        "plt.savefig('/content/PythonM2-jour1/output/test.pdf') # .svg\n",
        "\n",
        "# Sauvegarde dans un format image avec choix de la résolution, de la transparence etc.\n",
        "plt.savefig('/content/PythonM2-jour1/output/test.png', dpi=150, transparent=True, bbox_inches=\"tight\") # bbox_inches TRES important retire le blanc autour formats : .tif, .jpg etc."
      ]
    },
    {
      "cell_type": "code",
      "execution_count": null,
      "metadata": {
        "id": "m7lFrWV26G2H"
      },
      "outputs": [],
      "source": []
    }
  ],
  "metadata": {
    "kernelspec": {
      "display_name": "Python 3 (ipykernel)",
      "language": "python",
      "name": "python3"
    },
    "language_info": {
      "codemirror_mode": {
        "name": "ipython",
        "version": 3
      },
      "file_extension": ".py",
      "mimetype": "text/x-python",
      "name": "python",
      "nbconvert_exporter": "python",
      "pygments_lexer": "ipython3",
      "version": "3.9.13"
    },
    "colab": {
      "provenance": []
    }
  },
  "nbformat": 4,
  "nbformat_minor": 0
}